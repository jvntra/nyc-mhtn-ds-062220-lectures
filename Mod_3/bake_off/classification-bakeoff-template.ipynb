{
 "cells": [
  {
   "cell_type": "markdown",
   "metadata": {},
   "source": [
    "# Applying Classification Modeling\n",
    "The goal of this week's assessment is to find the model which best predicts whether or not a person will default on their bank loan. In doing so, we want to utilize all of the different tools we have learned over the course: data cleaning, EDA, feature engineering/transformation, feature selection, hyperparameter tuning, and model evaluation. \n",
    "\n",
    "\n",
    "#### Data Set Information:\n",
    "\n",
    "This research aimed at the case of customers default payments in Taiwan and compares the predictive accuracy of probability of default among six data mining methods. From the perspective of risk management, the result of predictive accuracy of the estimated probability of default will be more valuable than the binary result of classification - credible or not credible clients. Because the real probability of default is unknown, this study presented the novel Sorting Smoothing Method to estimate the real probability of default. With the real probability of default as the response variable (Y), and the predictive probability of default as the independent variable (X), the simple linear regression result (Y = A + BX) shows that the forecasting model produced by artificial neural network has the highest coefficient of determination; its regression intercept (A) is close to zero, and regression coefficient (B) to one. Therefore, among the six data mining techniques, artificial neural network is the only one that can accurately estimate the real probability of default. \n",
    "\n",
    "- NT is the abbreviation for New Taiwain. \n",
    "\n",
    "\n",
    "#### Attribute Information:\n",
    "\n",
    "This research employed a binary variable, default payment (Yes = 1, No = 0), as the response variable. This study reviewed the literature and used the following 23 variables as explanatory variables: \n",
    "- X1: Amount of the given credit (NT dollar): it includes both the individual consumer credit and his/her family (supplementary) credit. \n",
    "- X2: Gender (1 = male; 2 = female). \n",
    "- X3: Education (1 = graduate school; 2 = university; 3 = high school; 4 = others). \n",
    "- X4: Marital status (1 = married; 2 = single; 3 = others). \n",
    "- X5: Age (year). \n",
    "- X6 - X11: History of past payment. We tracked the past monthly payment records (from April to September, 2005) as follows: \n",
    "    - X6 = the repayment status in September, 2005; \n",
    "    - X7 = the repayment status in August, 2005; . . .;\n",
    "    - etc...\n",
    "    - X11 = the repayment status in April, 2005. \n",
    "    - The measurement scale for the repayment status is: -1 = pay duly; 1 = payment delay for one month; 2 = payment delay for two months; . . .; 8 = payment delay for eight months; 9 = payment delay for nine months and above. \n",
    "- X12-X17: Amount of bill statement (NT dollar). \n",
    "    - X12 = amount of bill statement in September, 2005;\n",
    "    - etc...\n",
    "    - X13 = amount of bill statement in August, 2005; . . .; \n",
    "    - X17 = amount of bill statement in April, 2005. \n",
    "- X18-X23: Amount of previous payment (NT dollar). \n",
    "    - X18 = amount paid in September, 2005; \n",
    "    - X19 = amount paid in August, 2005; . . .;\n",
    "    - etc...\n",
    "    - X23 = amount paid in April, 2005. \n",
    "\n",
    "\n",
    "\n",
    "\n",
    "You will fit three different models (KNN, Logistic Regression, and Decision Tree Classifier) to predict credit card defaults and use gridsearch to find the best hyperparameters for those models. Then you will compare the performance of those three models on a test set to find the best one.  \n"
   ]
  },
  {
   "cell_type": "markdown",
   "metadata": {},
   "source": [
    "## Process/Expectations\n",
    "\n",
    "- You will be working in pairs for this assessment\n",
    "\n",
    "### Please have ONE notebook and be prepared to explain how you worked in your pair.\n",
    "\n",
    "1. Clean up your data set so that you can perform an EDA. \n",
    "    - This includes handling null values, categorical variables, removing unimportant columns, and removing outliers.\n",
    "2. Perform EDA to identify opportunities to create new features.\n",
    "    - [Great Example of EDA for classification](https://www.kaggle.com/stephaniestallworth/titanic-eda-classification-end-to-end) \n",
    "    - [Using Pairplots with Classification](https://towardsdatascience.com/visualizing-data-with-pair-plots-in-python-f228cf529166)\n",
    "3. Engineer new features. \n",
    "    - Create polynomial and/or interaction features. \n",
    "    - Additionaly, you must also create **at least 2 new features** that are not interactions or polynomial transformations. \n",
    "        - *For example, you can create a new dummy variable that based on the value of a continuous variable (billamount6 >2000) or take the average of some past amounts.*\n",
    "4. Perform some feature selection. \n",
    "    \n",
    "5. You must fit **three** models to your data and tune **at least 1 hyperparameter** per model. \n",
    "6. Using the F-1 Score, evaluate how well your models perform and identify your best model.\n",
    "7. Using information from your EDA process and your model(s) output provide insight as to which borrowers are more likely to deafult\n"
   ]
  },
  {
   "cell_type": "code",
   "execution_count": 90,
   "metadata": {},
   "outputs": [],
   "source": [
    "# import libraries\n",
    "\n",
    "import pandas as pd\n",
    "import numpy as np\n",
    "import matplotlib.pyplot as plt\n",
    "import seaborn as sns\n",
    "import statsmodels.api as sm\n",
    "\n",
    "from sklearn import metrics\n",
    "from sklearn.preprocessing import MinMaxScaler\n",
    "from sklearn.preprocessing import StandardScaler\n",
    "from sklearn.model_selection import train_test_split\n"
   ]
  },
  {
   "cell_type": "markdown",
   "metadata": {},
   "source": [
    "## 1. Data Cleaning"
   ]
  },
  {
   "cell_type": "code",
   "execution_count": 91,
   "metadata": {},
   "outputs": [],
   "source": [
    "'''\n",
    "X1: Amount of the given credit (NT dollar): it includes both the individual consumer credit and his/her family (supplementary) credit.\n",
    "\n",
    "X2: Gender (1 = male; 2 = female).\n",
    "\n",
    "X3: Education (1 = graduate school; 2 = university; 3 = high school; 4 = others).\n",
    "\n",
    "X4: Marital status (1 = married; 2 = single; 3 = others).\n",
    "\n",
    "X5: Age (year).\n",
    "\n",
    "X6 - X11: History of past payment. We tracked the past monthly payment records (from April to September, 2005) as follows: X6 = the repayment status in September, 2005; X7 = the repayment status in August, 2005; . . .;X11 = the repayment status in April, 2005. The measurement scale for the repayment status is: -1 = pay duly; 1 = payment delay for one month; 2 = payment delay for two months; . . .; 8 = payment delay for eight months; 9 = payment delay for nine months and above.\n",
    "\n",
    "X12-X17: Amount of bill statement (NT dollar). X12 = amount of bill statement in September, 2005; X13 = amount of bill statement in August, 2005; . . .; X17 = amount of bill statement in April, 2005.\n",
    "\n",
    "X18-X23: Amount of previous payment (NT dollar). X18 = amount paid in September, 2005; X19 = amount paid in August, 2005; . . .;X23 = amount paid in April, 2005.\n",
    "\n",
    "Y: default on payments : 1- yes. 0- no\n",
    "\n",
    "more on data dictionary at: https://archive.ics.uci.edu/ml/datasets/default+of+credit+card+clients\n",
    "''';"
   ]
  },
  {
   "cell_type": "code",
   "execution_count": 92,
   "metadata": {},
   "outputs": [],
   "source": [
    "df = pd.read_csv('training_data.csv')"
   ]
  },
  {
   "cell_type": "code",
   "execution_count": 93,
   "metadata": {},
   "outputs": [
    {
     "data": {
      "text/html": [
       "<div>\n",
       "<style scoped>\n",
       "    .dataframe tbody tr th:only-of-type {\n",
       "        vertical-align: middle;\n",
       "    }\n",
       "\n",
       "    .dataframe tbody tr th {\n",
       "        vertical-align: top;\n",
       "    }\n",
       "\n",
       "    .dataframe thead th {\n",
       "        text-align: right;\n",
       "    }\n",
       "</style>\n",
       "<table border=\"1\" class=\"dataframe\">\n",
       "  <thead>\n",
       "    <tr style=\"text-align: right;\">\n",
       "      <th></th>\n",
       "      <th>Unnamed: 0</th>\n",
       "      <th>X1</th>\n",
       "      <th>X2</th>\n",
       "      <th>X3</th>\n",
       "      <th>X4</th>\n",
       "      <th>X5</th>\n",
       "      <th>X6</th>\n",
       "      <th>X7</th>\n",
       "      <th>X8</th>\n",
       "      <th>X9</th>\n",
       "      <th>...</th>\n",
       "      <th>X15</th>\n",
       "      <th>X16</th>\n",
       "      <th>X17</th>\n",
       "      <th>X18</th>\n",
       "      <th>X19</th>\n",
       "      <th>X20</th>\n",
       "      <th>X21</th>\n",
       "      <th>X22</th>\n",
       "      <th>X23</th>\n",
       "      <th>Y</th>\n",
       "    </tr>\n",
       "  </thead>\n",
       "  <tbody>\n",
       "    <tr>\n",
       "      <td>0</td>\n",
       "      <td>28835</td>\n",
       "      <td>220000</td>\n",
       "      <td>2</td>\n",
       "      <td>1</td>\n",
       "      <td>2</td>\n",
       "      <td>36</td>\n",
       "      <td>0</td>\n",
       "      <td>0</td>\n",
       "      <td>0</td>\n",
       "      <td>0</td>\n",
       "      <td>...</td>\n",
       "      <td>221193</td>\n",
       "      <td>181859</td>\n",
       "      <td>184605</td>\n",
       "      <td>10000</td>\n",
       "      <td>8018</td>\n",
       "      <td>10121</td>\n",
       "      <td>6006</td>\n",
       "      <td>10987</td>\n",
       "      <td>143779</td>\n",
       "      <td>1</td>\n",
       "    </tr>\n",
       "    <tr>\n",
       "      <td>1</td>\n",
       "      <td>25329</td>\n",
       "      <td>200000</td>\n",
       "      <td>2</td>\n",
       "      <td>3</td>\n",
       "      <td>2</td>\n",
       "      <td>29</td>\n",
       "      <td>-1</td>\n",
       "      <td>-1</td>\n",
       "      <td>-1</td>\n",
       "      <td>-1</td>\n",
       "      <td>...</td>\n",
       "      <td>326</td>\n",
       "      <td>326</td>\n",
       "      <td>326</td>\n",
       "      <td>326</td>\n",
       "      <td>326</td>\n",
       "      <td>326</td>\n",
       "      <td>326</td>\n",
       "      <td>326</td>\n",
       "      <td>326</td>\n",
       "      <td>0</td>\n",
       "    </tr>\n",
       "    <tr>\n",
       "      <td>2</td>\n",
       "      <td>18894</td>\n",
       "      <td>180000</td>\n",
       "      <td>2</td>\n",
       "      <td>1</td>\n",
       "      <td>2</td>\n",
       "      <td>27</td>\n",
       "      <td>-2</td>\n",
       "      <td>-2</td>\n",
       "      <td>-2</td>\n",
       "      <td>-2</td>\n",
       "      <td>...</td>\n",
       "      <td>0</td>\n",
       "      <td>0</td>\n",
       "      <td>0</td>\n",
       "      <td>0</td>\n",
       "      <td>0</td>\n",
       "      <td>0</td>\n",
       "      <td>0</td>\n",
       "      <td>0</td>\n",
       "      <td>0</td>\n",
       "      <td>0</td>\n",
       "    </tr>\n",
       "    <tr>\n",
       "      <td>3</td>\n",
       "      <td>690</td>\n",
       "      <td>80000</td>\n",
       "      <td>1</td>\n",
       "      <td>2</td>\n",
       "      <td>2</td>\n",
       "      <td>32</td>\n",
       "      <td>0</td>\n",
       "      <td>0</td>\n",
       "      <td>0</td>\n",
       "      <td>0</td>\n",
       "      <td>...</td>\n",
       "      <td>43882</td>\n",
       "      <td>42256</td>\n",
       "      <td>42527</td>\n",
       "      <td>1853</td>\n",
       "      <td>1700</td>\n",
       "      <td>1522</td>\n",
       "      <td>1548</td>\n",
       "      <td>1488</td>\n",
       "      <td>1500</td>\n",
       "      <td>0</td>\n",
       "    </tr>\n",
       "    <tr>\n",
       "      <td>4</td>\n",
       "      <td>6239</td>\n",
       "      <td>10000</td>\n",
       "      <td>1</td>\n",
       "      <td>2</td>\n",
       "      <td>2</td>\n",
       "      <td>27</td>\n",
       "      <td>0</td>\n",
       "      <td>0</td>\n",
       "      <td>0</td>\n",
       "      <td>0</td>\n",
       "      <td>...</td>\n",
       "      <td>5444</td>\n",
       "      <td>2639</td>\n",
       "      <td>2697</td>\n",
       "      <td>2000</td>\n",
       "      <td>1100</td>\n",
       "      <td>600</td>\n",
       "      <td>300</td>\n",
       "      <td>300</td>\n",
       "      <td>1000</td>\n",
       "      <td>1</td>\n",
       "    </tr>\n",
       "  </tbody>\n",
       "</table>\n",
       "<p>5 rows × 25 columns</p>\n",
       "</div>"
      ],
      "text/plain": [
       "  Unnamed: 0      X1 X2 X3 X4  X5  X6  X7  X8  X9  ...     X15     X16  \\\n",
       "0      28835  220000  2  1  2  36   0   0   0   0  ...  221193  181859   \n",
       "1      25329  200000  2  3  2  29  -1  -1  -1  -1  ...     326     326   \n",
       "2      18894  180000  2  1  2  27  -2  -2  -2  -2  ...       0       0   \n",
       "3        690   80000  1  2  2  32   0   0   0   0  ...   43882   42256   \n",
       "4       6239   10000  1  2  2  27   0   0   0   0  ...    5444    2639   \n",
       "\n",
       "      X17    X18   X19    X20   X21    X22     X23  Y  \n",
       "0  184605  10000  8018  10121  6006  10987  143779  1  \n",
       "1     326    326   326    326   326    326     326  0  \n",
       "2       0      0     0      0     0      0       0  0  \n",
       "3   42527   1853  1700   1522  1548   1488    1500  0  \n",
       "4    2697   2000  1100    600   300    300    1000  1  \n",
       "\n",
       "[5 rows x 25 columns]"
      ]
     },
     "execution_count": 93,
     "metadata": {},
     "output_type": "execute_result"
    }
   ],
   "source": [
    "df.head()"
   ]
  },
  {
   "cell_type": "code",
   "execution_count": 94,
   "metadata": {},
   "outputs": [
    {
     "name": "stdout",
     "output_type": "stream",
     "text": [
      "<class 'pandas.core.frame.DataFrame'>\n",
      "RangeIndex: 22500 entries, 0 to 22499\n",
      "Data columns (total 25 columns):\n",
      "Unnamed: 0    22500 non-null object\n",
      "X1            22500 non-null object\n",
      "X2            22500 non-null object\n",
      "X3            22500 non-null object\n",
      "X4            22500 non-null object\n",
      "X5            22500 non-null object\n",
      "X6            22500 non-null object\n",
      "X7            22500 non-null object\n",
      "X8            22500 non-null object\n",
      "X9            22500 non-null object\n",
      "X10           22500 non-null object\n",
      "X11           22500 non-null object\n",
      "X12           22500 non-null object\n",
      "X13           22500 non-null object\n",
      "X14           22500 non-null object\n",
      "X15           22500 non-null object\n",
      "X16           22500 non-null object\n",
      "X17           22500 non-null object\n",
      "X18           22500 non-null object\n",
      "X19           22500 non-null object\n",
      "X20           22500 non-null object\n",
      "X21           22500 non-null object\n",
      "X22           22500 non-null object\n",
      "X23           22500 non-null object\n",
      "Y             22500 non-null object\n",
      "dtypes: object(25)\n",
      "memory usage: 4.3+ MB\n"
     ]
    }
   ],
   "source": [
    "df.info()"
   ]
  },
  {
   "cell_type": "code",
   "execution_count": 95,
   "metadata": {},
   "outputs": [],
   "source": [
    "cols = ['Unnamed: 0', 'X1','X2','X3','X4','X5','X6','X7','X8','X9','X10','X11', 'X12', 'X13', 'X14', 'X15', 'X16', 'X17', 'X18', 'X19', 'X20', 'X21', 'X22', 'X23','Y']\n",
    "\n",
    "df[cols] = df[cols].apply(pd.to_numeric, errors='coerce')"
   ]
  },
  {
   "cell_type": "code",
   "execution_count": 96,
   "metadata": {},
   "outputs": [
    {
     "data": {
      "text/html": [
       "<div>\n",
       "<style scoped>\n",
       "    .dataframe tbody tr th:only-of-type {\n",
       "        vertical-align: middle;\n",
       "    }\n",
       "\n",
       "    .dataframe tbody tr th {\n",
       "        vertical-align: top;\n",
       "    }\n",
       "\n",
       "    .dataframe thead th {\n",
       "        text-align: right;\n",
       "    }\n",
       "</style>\n",
       "<table border=\"1\" class=\"dataframe\">\n",
       "  <thead>\n",
       "    <tr style=\"text-align: right;\">\n",
       "      <th></th>\n",
       "      <th>Unnamed: 0</th>\n",
       "      <th>X1</th>\n",
       "      <th>X2</th>\n",
       "      <th>X3</th>\n",
       "      <th>X4</th>\n",
       "      <th>X5</th>\n",
       "      <th>X6</th>\n",
       "      <th>X7</th>\n",
       "      <th>X8</th>\n",
       "      <th>X9</th>\n",
       "      <th>...</th>\n",
       "      <th>X15</th>\n",
       "      <th>X16</th>\n",
       "      <th>X17</th>\n",
       "      <th>X18</th>\n",
       "      <th>X19</th>\n",
       "      <th>X20</th>\n",
       "      <th>X21</th>\n",
       "      <th>X22</th>\n",
       "      <th>X23</th>\n",
       "      <th>Y</th>\n",
       "    </tr>\n",
       "  </thead>\n",
       "  <tbody>\n",
       "    <tr>\n",
       "      <td>0</td>\n",
       "      <td>28835.0</td>\n",
       "      <td>220000.0</td>\n",
       "      <td>2.0</td>\n",
       "      <td>1.0</td>\n",
       "      <td>2.0</td>\n",
       "      <td>36.0</td>\n",
       "      <td>0.0</td>\n",
       "      <td>0.0</td>\n",
       "      <td>0.0</td>\n",
       "      <td>0.0</td>\n",
       "      <td>...</td>\n",
       "      <td>221193.0</td>\n",
       "      <td>181859.0</td>\n",
       "      <td>184605.0</td>\n",
       "      <td>10000.0</td>\n",
       "      <td>8018.0</td>\n",
       "      <td>10121.0</td>\n",
       "      <td>6006.0</td>\n",
       "      <td>10987.0</td>\n",
       "      <td>143779.0</td>\n",
       "      <td>1.0</td>\n",
       "    </tr>\n",
       "    <tr>\n",
       "      <td>1</td>\n",
       "      <td>25329.0</td>\n",
       "      <td>200000.0</td>\n",
       "      <td>2.0</td>\n",
       "      <td>3.0</td>\n",
       "      <td>2.0</td>\n",
       "      <td>29.0</td>\n",
       "      <td>-1.0</td>\n",
       "      <td>-1.0</td>\n",
       "      <td>-1.0</td>\n",
       "      <td>-1.0</td>\n",
       "      <td>...</td>\n",
       "      <td>326.0</td>\n",
       "      <td>326.0</td>\n",
       "      <td>326.0</td>\n",
       "      <td>326.0</td>\n",
       "      <td>326.0</td>\n",
       "      <td>326.0</td>\n",
       "      <td>326.0</td>\n",
       "      <td>326.0</td>\n",
       "      <td>326.0</td>\n",
       "      <td>0.0</td>\n",
       "    </tr>\n",
       "    <tr>\n",
       "      <td>2</td>\n",
       "      <td>18894.0</td>\n",
       "      <td>180000.0</td>\n",
       "      <td>2.0</td>\n",
       "      <td>1.0</td>\n",
       "      <td>2.0</td>\n",
       "      <td>27.0</td>\n",
       "      <td>-2.0</td>\n",
       "      <td>-2.0</td>\n",
       "      <td>-2.0</td>\n",
       "      <td>-2.0</td>\n",
       "      <td>...</td>\n",
       "      <td>0.0</td>\n",
       "      <td>0.0</td>\n",
       "      <td>0.0</td>\n",
       "      <td>0.0</td>\n",
       "      <td>0.0</td>\n",
       "      <td>0.0</td>\n",
       "      <td>0.0</td>\n",
       "      <td>0.0</td>\n",
       "      <td>0.0</td>\n",
       "      <td>0.0</td>\n",
       "    </tr>\n",
       "    <tr>\n",
       "      <td>3</td>\n",
       "      <td>690.0</td>\n",
       "      <td>80000.0</td>\n",
       "      <td>1.0</td>\n",
       "      <td>2.0</td>\n",
       "      <td>2.0</td>\n",
       "      <td>32.0</td>\n",
       "      <td>0.0</td>\n",
       "      <td>0.0</td>\n",
       "      <td>0.0</td>\n",
       "      <td>0.0</td>\n",
       "      <td>...</td>\n",
       "      <td>43882.0</td>\n",
       "      <td>42256.0</td>\n",
       "      <td>42527.0</td>\n",
       "      <td>1853.0</td>\n",
       "      <td>1700.0</td>\n",
       "      <td>1522.0</td>\n",
       "      <td>1548.0</td>\n",
       "      <td>1488.0</td>\n",
       "      <td>1500.0</td>\n",
       "      <td>0.0</td>\n",
       "    </tr>\n",
       "    <tr>\n",
       "      <td>4</td>\n",
       "      <td>6239.0</td>\n",
       "      <td>10000.0</td>\n",
       "      <td>1.0</td>\n",
       "      <td>2.0</td>\n",
       "      <td>2.0</td>\n",
       "      <td>27.0</td>\n",
       "      <td>0.0</td>\n",
       "      <td>0.0</td>\n",
       "      <td>0.0</td>\n",
       "      <td>0.0</td>\n",
       "      <td>...</td>\n",
       "      <td>5444.0</td>\n",
       "      <td>2639.0</td>\n",
       "      <td>2697.0</td>\n",
       "      <td>2000.0</td>\n",
       "      <td>1100.0</td>\n",
       "      <td>600.0</td>\n",
       "      <td>300.0</td>\n",
       "      <td>300.0</td>\n",
       "      <td>1000.0</td>\n",
       "      <td>1.0</td>\n",
       "    </tr>\n",
       "  </tbody>\n",
       "</table>\n",
       "<p>5 rows × 25 columns</p>\n",
       "</div>"
      ],
      "text/plain": [
       "   Unnamed: 0        X1   X2   X3   X4    X5   X6   X7   X8   X9  ...  \\\n",
       "0     28835.0  220000.0  2.0  1.0  2.0  36.0  0.0  0.0  0.0  0.0  ...   \n",
       "1     25329.0  200000.0  2.0  3.0  2.0  29.0 -1.0 -1.0 -1.0 -1.0  ...   \n",
       "2     18894.0  180000.0  2.0  1.0  2.0  27.0 -2.0 -2.0 -2.0 -2.0  ...   \n",
       "3       690.0   80000.0  1.0  2.0  2.0  32.0  0.0  0.0  0.0  0.0  ...   \n",
       "4      6239.0   10000.0  1.0  2.0  2.0  27.0  0.0  0.0  0.0  0.0  ...   \n",
       "\n",
       "        X15       X16       X17      X18     X19      X20     X21      X22  \\\n",
       "0  221193.0  181859.0  184605.0  10000.0  8018.0  10121.0  6006.0  10987.0   \n",
       "1     326.0     326.0     326.0    326.0   326.0    326.0   326.0    326.0   \n",
       "2       0.0       0.0       0.0      0.0     0.0      0.0     0.0      0.0   \n",
       "3   43882.0   42256.0   42527.0   1853.0  1700.0   1522.0  1548.0   1488.0   \n",
       "4    5444.0    2639.0    2697.0   2000.0  1100.0    600.0   300.0    300.0   \n",
       "\n",
       "        X23    Y  \n",
       "0  143779.0  1.0  \n",
       "1     326.0  0.0  \n",
       "2       0.0  0.0  \n",
       "3    1500.0  0.0  \n",
       "4    1000.0  1.0  \n",
       "\n",
       "[5 rows x 25 columns]"
      ]
     },
     "execution_count": 96,
     "metadata": {},
     "output_type": "execute_result"
    }
   ],
   "source": [
    "df.head()"
   ]
  },
  {
   "cell_type": "code",
   "execution_count": 97,
   "metadata": {},
   "outputs": [],
   "source": [
    "rnm_dict = {'Unnamed: 0': 'id',\n",
    "            'X1' :'given_credit',\n",
    "            'X2' :'gender',\n",
    "            'X3' :'education',\n",
    "            'X4' :'mar_status',\n",
    "            'X5' :'age',\n",
    "            'X6' :'paystatus_09',\n",
    "            'X7' :'paystatus_08',\n",
    "            'X8' :'paystatus_07',\n",
    "            'X9' :'paystatus_06',\n",
    "            'X10':'paystatus_05',\n",
    "            'X11':'paystatus_04',\n",
    "            'X12':'billamt_09',\n",
    "            'X13':'billamt_08',\n",
    "            'X14':'billamt_07',\n",
    "            'X15':'billamt_06',\n",
    "            'X16':'billamt_05',\n",
    "            'X17':'billamt_04',\n",
    "            'X18':'payamt_09', \n",
    "            'X19':'payamt_08',\n",
    "            'X20':'payamt_07',\n",
    "            'X21':'payamt_06',\n",
    "            'X22':'payamt_05',\n",
    "            'X23':'payamt_04',\n",
    "            'Y':'defaulted'}\n",
    "\n",
    "df.rename(columns = rnm_dict, inplace = True)"
   ]
  },
  {
   "cell_type": "code",
   "execution_count": 98,
   "metadata": {},
   "outputs": [
    {
     "data": {
      "text/plain": [
       "Index(['id', 'given_credit', 'gender', 'education', 'mar_status', 'age',\n",
       "       'paystatus_09', 'paystatus_08', 'paystatus_07', 'paystatus_06',\n",
       "       'paystatus_05', 'paystatus_04', 'billamt_09', 'billamt_08',\n",
       "       'billamt_07', 'billamt_06', 'billamt_05', 'billamt_04', 'payamt_09',\n",
       "       'payamt_08', 'payamt_07', 'payamt_06', 'payamt_05', 'payamt_04',\n",
       "       'defaulted'],\n",
       "      dtype='object')"
      ]
     },
     "execution_count": 98,
     "metadata": {},
     "output_type": "execute_result"
    }
   ],
   "source": [
    "# verify columns were renamed.\n",
    "df.columns"
   ]
  },
  {
   "cell_type": "code",
   "execution_count": 99,
   "metadata": {},
   "outputs": [
    {
     "data": {
      "text/plain": [
       "id              1\n",
       "given_credit    1\n",
       "gender          1\n",
       "education       1\n",
       "mar_status      1\n",
       "age             1\n",
       "paystatus_09    1\n",
       "paystatus_08    1\n",
       "paystatus_07    1\n",
       "paystatus_06    1\n",
       "paystatus_05    1\n",
       "paystatus_04    1\n",
       "billamt_09      1\n",
       "billamt_08      1\n",
       "billamt_07      1\n",
       "billamt_06      1\n",
       "billamt_05      1\n",
       "billamt_04      1\n",
       "payamt_09       1\n",
       "payamt_08       1\n",
       "payamt_07       1\n",
       "payamt_06       1\n",
       "payamt_05       1\n",
       "payamt_04       1\n",
       "defaulted       1\n",
       "dtype: int64"
      ]
     },
     "execution_count": 99,
     "metadata": {},
     "output_type": "execute_result"
    }
   ],
   "source": [
    "# check for nan values\n",
    "df.isna().sum()"
   ]
  },
  {
   "cell_type": "code",
   "execution_count": 100,
   "metadata": {},
   "outputs": [],
   "source": [
    "# drop nan values from data set.\n",
    "\n",
    "df = df.dropna(axis=0)"
   ]
  },
  {
   "cell_type": "code",
   "execution_count": 101,
   "metadata": {},
   "outputs": [
    {
     "data": {
      "text/plain": [
       "id              float64\n",
       "given_credit    float64\n",
       "gender          float64\n",
       "education       float64\n",
       "mar_status      float64\n",
       "age             float64\n",
       "paystatus_09    float64\n",
       "paystatus_08    float64\n",
       "paystatus_07    float64\n",
       "paystatus_06    float64\n",
       "paystatus_05    float64\n",
       "paystatus_04    float64\n",
       "billamt_09      float64\n",
       "billamt_08      float64\n",
       "billamt_07      float64\n",
       "billamt_06      float64\n",
       "billamt_05      float64\n",
       "billamt_04      float64\n",
       "payamt_09       float64\n",
       "payamt_08       float64\n",
       "payamt_07       float64\n",
       "payamt_06       float64\n",
       "payamt_05       float64\n",
       "payamt_04       float64\n",
       "defaulted       float64\n",
       "dtype: object"
      ]
     },
     "execution_count": 101,
     "metadata": {},
     "output_type": "execute_result"
    }
   ],
   "source": [
    "df.dtypes"
   ]
  },
  {
   "cell_type": "code",
   "execution_count": 102,
   "metadata": {},
   "outputs": [],
   "source": [
    "# cast current dtypes to appropriate based on the details of the features.\n",
    "int_list = ['id', 'gender', 'education', 'mar_status', 'age', 'paystatus_09', 'paystatus_08', 'paystatus_07', 'paystatus_06', 'paystatus_05', 'paystatus_04','defaulted']\n",
    "\n",
    "for i in int_list:\n",
    "    df[i] = df[i].astype('int')"
   ]
  },
  {
   "cell_type": "code",
   "execution_count": 103,
   "metadata": {},
   "outputs": [
    {
     "data": {
      "text/plain": [
       "id                int64\n",
       "given_credit    float64\n",
       "gender            int64\n",
       "education         int64\n",
       "mar_status        int64\n",
       "age               int64\n",
       "paystatus_09      int64\n",
       "paystatus_08      int64\n",
       "paystatus_07      int64\n",
       "paystatus_06      int64\n",
       "paystatus_05      int64\n",
       "paystatus_04      int64\n",
       "billamt_09      float64\n",
       "billamt_08      float64\n",
       "billamt_07      float64\n",
       "billamt_06      float64\n",
       "billamt_05      float64\n",
       "billamt_04      float64\n",
       "payamt_09       float64\n",
       "payamt_08       float64\n",
       "payamt_07       float64\n",
       "payamt_06       float64\n",
       "payamt_05       float64\n",
       "payamt_04       float64\n",
       "defaulted         int64\n",
       "dtype: object"
      ]
     },
     "execution_count": 103,
     "metadata": {},
     "output_type": "execute_result"
    }
   ],
   "source": [
    "df.dtypes"
   ]
  },
  {
   "cell_type": "code",
   "execution_count": 104,
   "metadata": {},
   "outputs": [],
   "source": [
    "# sort values based on limit balance. \n",
    "\n",
    "df.sort_values(by='given_credit', ascending=False,inplace=True)"
   ]
  },
  {
   "cell_type": "code",
   "execution_count": 105,
   "metadata": {},
   "outputs": [
    {
     "data": {
      "text/html": [
       "<div>\n",
       "<style scoped>\n",
       "    .dataframe tbody tr th:only-of-type {\n",
       "        vertical-align: middle;\n",
       "    }\n",
       "\n",
       "    .dataframe tbody tr th {\n",
       "        vertical-align: top;\n",
       "    }\n",
       "\n",
       "    .dataframe thead th {\n",
       "        text-align: right;\n",
       "    }\n",
       "</style>\n",
       "<table border=\"1\" class=\"dataframe\">\n",
       "  <thead>\n",
       "    <tr style=\"text-align: right;\">\n",
       "      <th></th>\n",
       "      <th>id</th>\n",
       "      <th>given_credit</th>\n",
       "      <th>gender</th>\n",
       "      <th>education</th>\n",
       "      <th>mar_status</th>\n",
       "      <th>age</th>\n",
       "      <th>paystatus_09</th>\n",
       "      <th>paystatus_08</th>\n",
       "      <th>paystatus_07</th>\n",
       "      <th>paystatus_06</th>\n",
       "      <th>...</th>\n",
       "      <th>billamt_06</th>\n",
       "      <th>billamt_05</th>\n",
       "      <th>billamt_04</th>\n",
       "      <th>payamt_09</th>\n",
       "      <th>payamt_08</th>\n",
       "      <th>payamt_07</th>\n",
       "      <th>payamt_06</th>\n",
       "      <th>payamt_05</th>\n",
       "      <th>payamt_04</th>\n",
       "      <th>defaulted</th>\n",
       "    </tr>\n",
       "  </thead>\n",
       "  <tbody>\n",
       "    <tr>\n",
       "      <td>22108</td>\n",
       "      <td>2198</td>\n",
       "      <td>1000000.0</td>\n",
       "      <td>2</td>\n",
       "      <td>1</td>\n",
       "      <td>1</td>\n",
       "      <td>47</td>\n",
       "      <td>0</td>\n",
       "      <td>0</td>\n",
       "      <td>0</td>\n",
       "      <td>-1</td>\n",
       "      <td>...</td>\n",
       "      <td>891586.0</td>\n",
       "      <td>927171.0</td>\n",
       "      <td>961664.0</td>\n",
       "      <td>50784.0</td>\n",
       "      <td>50723.0</td>\n",
       "      <td>896040.0</td>\n",
       "      <td>50000.0</td>\n",
       "      <td>50000.0</td>\n",
       "      <td>50256.0</td>\n",
       "      <td>0</td>\n",
       "    </tr>\n",
       "    <tr>\n",
       "      <td>11613</td>\n",
       "      <td>14920</td>\n",
       "      <td>800000.0</td>\n",
       "      <td>1</td>\n",
       "      <td>2</td>\n",
       "      <td>1</td>\n",
       "      <td>53</td>\n",
       "      <td>-1</td>\n",
       "      <td>-1</td>\n",
       "      <td>-1</td>\n",
       "      <td>0</td>\n",
       "      <td>...</td>\n",
       "      <td>40814.0</td>\n",
       "      <td>12590.0</td>\n",
       "      <td>9339.0</td>\n",
       "      <td>11145.0</td>\n",
       "      <td>64657.0</td>\n",
       "      <td>131.0</td>\n",
       "      <td>247.0</td>\n",
       "      <td>9366.0</td>\n",
       "      <td>63482.0</td>\n",
       "      <td>0</td>\n",
       "    </tr>\n",
       "    <tr>\n",
       "      <td>13516</td>\n",
       "      <td>28716</td>\n",
       "      <td>780000.0</td>\n",
       "      <td>2</td>\n",
       "      <td>2</td>\n",
       "      <td>2</td>\n",
       "      <td>41</td>\n",
       "      <td>-2</td>\n",
       "      <td>-2</td>\n",
       "      <td>-2</td>\n",
       "      <td>-2</td>\n",
       "      <td>...</td>\n",
       "      <td>21482.0</td>\n",
       "      <td>72628.0</td>\n",
       "      <td>182792.0</td>\n",
       "      <td>62819.0</td>\n",
       "      <td>39558.0</td>\n",
       "      <td>22204.0</td>\n",
       "      <td>82097.0</td>\n",
       "      <td>184322.0</td>\n",
       "      <td>25695.0</td>\n",
       "      <td>0</td>\n",
       "    </tr>\n",
       "    <tr>\n",
       "      <td>18117</td>\n",
       "      <td>24321</td>\n",
       "      <td>780000.0</td>\n",
       "      <td>1</td>\n",
       "      <td>1</td>\n",
       "      <td>1</td>\n",
       "      <td>48</td>\n",
       "      <td>0</td>\n",
       "      <td>0</td>\n",
       "      <td>0</td>\n",
       "      <td>0</td>\n",
       "      <td>...</td>\n",
       "      <td>195124.0</td>\n",
       "      <td>184872.0</td>\n",
       "      <td>191090.0</td>\n",
       "      <td>10000.0</td>\n",
       "      <td>15004.0</td>\n",
       "      <td>10000.0</td>\n",
       "      <td>8000.0</td>\n",
       "      <td>10028.0</td>\n",
       "      <td>7003.0</td>\n",
       "      <td>0</td>\n",
       "    </tr>\n",
       "    <tr>\n",
       "      <td>21388</td>\n",
       "      <td>10090</td>\n",
       "      <td>750000.0</td>\n",
       "      <td>2</td>\n",
       "      <td>1</td>\n",
       "      <td>1</td>\n",
       "      <td>41</td>\n",
       "      <td>0</td>\n",
       "      <td>0</td>\n",
       "      <td>0</td>\n",
       "      <td>0</td>\n",
       "      <td>...</td>\n",
       "      <td>75696.0</td>\n",
       "      <td>35485.0</td>\n",
       "      <td>4889.0</td>\n",
       "      <td>6817.0</td>\n",
       "      <td>2330.0</td>\n",
       "      <td>2705.0</td>\n",
       "      <td>50854.0</td>\n",
       "      <td>4913.0</td>\n",
       "      <td>550.0</td>\n",
       "      <td>0</td>\n",
       "    </tr>\n",
       "  </tbody>\n",
       "</table>\n",
       "<p>5 rows × 25 columns</p>\n",
       "</div>"
      ],
      "text/plain": [
       "          id  given_credit  gender  education  mar_status  age  paystatus_09  \\\n",
       "22108   2198     1000000.0       2          1           1   47             0   \n",
       "11613  14920      800000.0       1          2           1   53            -1   \n",
       "13516  28716      780000.0       2          2           2   41            -2   \n",
       "18117  24321      780000.0       1          1           1   48             0   \n",
       "21388  10090      750000.0       2          1           1   41             0   \n",
       "\n",
       "       paystatus_08  paystatus_07  paystatus_06  ...  billamt_06  billamt_05  \\\n",
       "22108             0             0            -1  ...    891586.0    927171.0   \n",
       "11613            -1            -1             0  ...     40814.0     12590.0   \n",
       "13516            -2            -2            -2  ...     21482.0     72628.0   \n",
       "18117             0             0             0  ...    195124.0    184872.0   \n",
       "21388             0             0             0  ...     75696.0     35485.0   \n",
       "\n",
       "       billamt_04  payamt_09  payamt_08  payamt_07  payamt_06  payamt_05  \\\n",
       "22108    961664.0    50784.0    50723.0   896040.0    50000.0    50000.0   \n",
       "11613      9339.0    11145.0    64657.0      131.0      247.0     9366.0   \n",
       "13516    182792.0    62819.0    39558.0    22204.0    82097.0   184322.0   \n",
       "18117    191090.0    10000.0    15004.0    10000.0     8000.0    10028.0   \n",
       "21388      4889.0     6817.0     2330.0     2705.0    50854.0     4913.0   \n",
       "\n",
       "       payamt_04  defaulted  \n",
       "22108    50256.0          0  \n",
       "11613    63482.0          0  \n",
       "13516    25695.0          0  \n",
       "18117     7003.0          0  \n",
       "21388      550.0          0  \n",
       "\n",
       "[5 rows x 25 columns]"
      ]
     },
     "execution_count": 105,
     "metadata": {},
     "output_type": "execute_result"
    }
   ],
   "source": [
    "df.head()"
   ]
  },
  {
   "cell_type": "code",
   "execution_count": 106,
   "metadata": {
    "scrolled": true
   },
   "outputs": [
    {
     "data": {
      "text/plain": [
       "0    17471\n",
       "1     5028\n",
       "Name: defaulted, dtype: int64"
      ]
     },
     "execution_count": 106,
     "metadata": {},
     "output_type": "execute_result"
    }
   ],
   "source": [
    "df.defaulted.value_counts() # class imbalance in defaulted column."
   ]
  },
  {
   "cell_type": "code",
   "execution_count": 107,
   "metadata": {},
   "outputs": [
    {
     "data": {
      "text/plain": [
       "2    13572\n",
       "1     8927\n",
       "Name: gender, dtype: int64"
      ]
     },
     "execution_count": 107,
     "metadata": {},
     "output_type": "execute_result"
    }
   ],
   "source": [
    "df.gender.value_counts() # class imbalance, appropriate choices are represented."
   ]
  },
  {
   "cell_type": "code",
   "execution_count": 108,
   "metadata": {},
   "outputs": [
    {
     "data": {
      "text/plain": [
       "2    10516\n",
       "1     7919\n",
       "3     3713\n",
       "5      208\n",
       "4       90\n",
       "6       42\n",
       "0       11\n",
       "Name: education, dtype: int64"
      ]
     },
     "execution_count": 108,
     "metadata": {},
     "output_type": "execute_result"
    }
   ],
   "source": [
    "df.education.value_counts()"
   ]
  },
  {
   "cell_type": "code",
   "execution_count": 109,
   "metadata": {},
   "outputs": [],
   "source": [
    "# no information for extraneous values could be found. group all education values of 0,5,6\n",
    "# as 4's since 4 represents 'other' for education extent.\n",
    "\n",
    "df.education = np.where( df.education > 4, 4, df.education ) \n",
    "df.education = np.where( df.education < 1, 4, df.education ) "
   ]
  },
  {
   "cell_type": "code",
   "execution_count": 110,
   "metadata": {},
   "outputs": [
    {
     "data": {
      "text/plain": [
       "2    10516\n",
       "1     7919\n",
       "3     3713\n",
       "4      351\n",
       "Name: education, dtype: int64"
      ]
     },
     "execution_count": 110,
     "metadata": {},
     "output_type": "execute_result"
    }
   ],
   "source": [
    "#verify change \n",
    "df.education.value_counts()"
   ]
  },
  {
   "cell_type": "code",
   "execution_count": 111,
   "metadata": {},
   "outputs": [
    {
     "data": {
      "text/plain": [
       "2    12026\n",
       "1    10195\n",
       "3      234\n",
       "0       44\n",
       "Name: mar_status, dtype: int64"
      ]
     },
     "execution_count": 111,
     "metadata": {},
     "output_type": "execute_result"
    }
   ],
   "source": [
    "# value codes for this field only take on values 1,2,3 where 3 indicates 'other'. Group 0's into 3 category\n",
    "df.mar_status.value_counts()"
   ]
  },
  {
   "cell_type": "code",
   "execution_count": 112,
   "metadata": {},
   "outputs": [],
   "source": [
    "df.mar_status = np.where( df.mar_status < 1, 3 , df.mar_status ) "
   ]
  },
  {
   "cell_type": "code",
   "execution_count": 113,
   "metadata": {},
   "outputs": [
    {
     "data": {
      "text/plain": [
       "22108    1\n",
       "11613    1\n",
       "13516    2\n",
       "18117    1\n",
       "21388    1\n",
       "        ..\n",
       "20248    2\n",
       "4123     1\n",
       "10227    2\n",
       "16823    2\n",
       "2334     2\n",
       "Name: mar_status, Length: 22499, dtype: int64"
      ]
     },
     "execution_count": 113,
     "metadata": {},
     "output_type": "execute_result"
    }
   ],
   "source": [
    "df.mar_status"
   ]
  },
  {
   "cell_type": "code",
   "execution_count": 114,
   "metadata": {},
   "outputs": [
    {
     "data": {
      "text/plain": [
       "count    22499.000000\n",
       "mean        35.447931\n",
       "std          9.237634\n",
       "min         21.000000\n",
       "25%         28.000000\n",
       "50%         34.000000\n",
       "75%         41.000000\n",
       "max         75.000000\n",
       "Name: age, dtype: float64"
      ]
     },
     "execution_count": 114,
     "metadata": {},
     "output_type": "execute_result"
    }
   ],
   "source": [
    "# age feature looks ok.\n",
    "\n",
    "df.age.describe()"
   ]
  },
  {
   "cell_type": "code",
   "execution_count": 115,
   "metadata": {},
   "outputs": [
    {
     "data": {
      "text/plain": [
       " 0    12233\n",
       "-1     4284\n",
       "-2     3663\n",
       " 2     2078\n",
       " 3      140\n",
       " 7       38\n",
       " 4       38\n",
       " 6       14\n",
       " 5        9\n",
       " 8        2\n",
       "Name: paystatus_04, dtype: int64"
      ]
     },
     "execution_count": 115,
     "metadata": {},
     "output_type": "execute_result"
    }
   ],
   "source": [
    "# check values for paystatus mm: 09->04, the values make sense. the 0 code was not included in the data dictionary. Assumption: 0 is debts paid, no outstanding balance.\n",
    "\n",
    "df.paystatus_04.value_counts()"
   ]
  },
  {
   "cell_type": "code",
   "execution_count": null,
   "metadata": {},
   "outputs": [],
   "source": []
  },
  {
   "cell_type": "code",
   "execution_count": 11,
   "metadata": {},
   "outputs": [],
   "source": [
    "# Split data to be used in the models\n",
    "# Create matrix of features\n",
    "X = df.drop('defaulted', axis = 1) # grabs everything else but 'Survived'\n",
    "\n",
    "\n",
    "# Create target variable\n",
    "y = df['defaulted'] # y is the column we're trying to predict"
   ]
  },
  {
   "cell_type": "markdown",
   "metadata": {},
   "source": [
    "## 2. EDA"
   ]
  },
  {
   "cell_type": "code",
   "execution_count": null,
   "metadata": {},
   "outputs": [],
   "source": []
  },
  {
   "cell_type": "code",
   "execution_count": null,
   "metadata": {},
   "outputs": [],
   "source": []
  },
  {
   "cell_type": "code",
   "execution_count": null,
   "metadata": {},
   "outputs": [],
   "source": []
  },
  {
   "cell_type": "code",
   "execution_count": null,
   "metadata": {},
   "outputs": [],
   "source": []
  },
  {
   "cell_type": "code",
   "execution_count": null,
   "metadata": {},
   "outputs": [],
   "source": []
  },
  {
   "cell_type": "code",
   "execution_count": null,
   "metadata": {},
   "outputs": [],
   "source": []
  },
  {
   "cell_type": "markdown",
   "metadata": {},
   "source": [
    "## 3. Feature Engineering"
   ]
  },
  {
   "cell_type": "code",
   "execution_count": 116,
   "metadata": {},
   "outputs": [],
   "source": [
    "# create feature of percentage of monthly bill paid.\n",
    "\n",
    "df['pay_ratio_09'] = (df['payamt_09']/df['billamt_09'])\n",
    "df['pay_ratio_08'] = (df['payamt_08']/df['billamt_08'])\n",
    "df['pay_ratio_07'] = (df['payamt_07']/df['billamt_07'])\n",
    "df['pay_ratio_06'] = (df['payamt_06']/df['billamt_06'])\n",
    "df['pay_ratio_05'] = (df['payamt_05']/df['billamt_05'])\n",
    "df['pay_ratio_04'] = (df['payamt_04']/df['billamt_04'])"
   ]
  },
  {
   "cell_type": "code",
   "execution_count": 117,
   "metadata": {},
   "outputs": [
    {
     "data": {
      "text/plain": [
       "0.000000    2824\n",
       "1.000000     521\n",
       "inf          411\n",
       "2.000000      44\n",
       "0.500000      10\n",
       "            ... \n",
       "0.152985       1\n",
       "1.759631       1\n",
       "0.008313       1\n",
       "0.039733       1\n",
       "0.162868       1\n",
       "Name: pay_ratio_09, Length: 17495, dtype: int64"
      ]
     },
     "execution_count": 117,
     "metadata": {},
     "output_type": "execute_result"
    }
   ],
   "source": [
    "df.pay_ratio_09.value_counts()"
   ]
  },
  {
   "cell_type": "code",
   "execution_count": 118,
   "metadata": {},
   "outputs": [
    {
     "data": {
      "text/plain": [
       "1081"
      ]
     },
     "execution_count": 118,
     "metadata": {},
     "output_type": "execute_result"
    }
   ],
   "source": [
    "df.pay_ratio_09.isna().sum()"
   ]
  },
  {
   "cell_type": "code",
   "execution_count": 119,
   "metadata": {},
   "outputs": [],
   "source": [
    "# for individuals with a current account, ratios will give an inf or nan... fill those values with 1 to proxy for indicating complete payment although payment not necessary.\n",
    "\n",
    "df.pay_ratio_09.fillna(1, inplace=True)\n",
    "df.pay_ratio_08.fillna(1, inplace=True)\n",
    "df.pay_ratio_07.fillna(1, inplace=True)\n",
    "df.pay_ratio_06.fillna(1, inplace=True)\n",
    "df.pay_ratio_05.fillna(1, inplace=True)\n",
    "df.pay_ratio_04.fillna(1, inplace=True)"
   ]
  },
  {
   "cell_type": "code",
   "execution_count": 120,
   "metadata": {},
   "outputs": [
    {
     "data": {
      "text/plain": [
       "0.000000    2665\n",
       "1.000000    1871\n",
       "inf          478\n",
       "2.000000      49\n",
       "0.500000      12\n",
       "            ... \n",
       "0.324232       1\n",
       "5.592841       1\n",
       "0.002612       1\n",
       "0.062304       1\n",
       "0.392839       1\n",
       "Name: pay_ratio_08, Length: 17295, dtype: int64"
      ]
     },
     "execution_count": 120,
     "metadata": {},
     "output_type": "execute_result"
    }
   ],
   "source": [
    "df.pay_ratio_08.value_counts()"
   ]
  },
  {
   "cell_type": "code",
   "execution_count": 121,
   "metadata": {},
   "outputs": [],
   "source": [
    "# handle remaining erroneous values (inf or >1)\n",
    "df.pay_ratio_09 = np.where(((df.pay_ratio_09 < 0)|(df.pay_ratio_09 > 1)), 1, df.pay_ratio_09)\n",
    "df.pay_ratio_08 = np.where(((df.pay_ratio_08 < 0)|(df.pay_ratio_08 > 1)), 1, df.pay_ratio_08)\n",
    "df.pay_ratio_07 = np.where(((df.pay_ratio_07 < 0)|(df.pay_ratio_07 > 1)), 1, df.pay_ratio_07)\n",
    "df.pay_ratio_06 = np.where(((df.pay_ratio_06 < 0)|(df.pay_ratio_06 > 1)), 1, df.pay_ratio_06)\n",
    "df.pay_ratio_05 = np.where(((df.pay_ratio_05 < 0)|(df.pay_ratio_05 > 1)), 1, df.pay_ratio_05)\n",
    "df.pay_ratio_04 = np.where(((df.pay_ratio_04 < 0)|(df.pay_ratio_04 > 1)), 1, df.pay_ratio_04)"
   ]
  },
  {
   "cell_type": "code",
   "execution_count": 56,
   "metadata": {},
   "outputs": [
    {
     "data": {
      "text/plain": [
       "1.000000    4999\n",
       "0.000000    2665\n",
       "0.500000      12\n",
       "0.264766       8\n",
       "0.102669       4\n",
       "            ... \n",
       "0.037159       1\n",
       "0.344444       1\n",
       "0.083818       1\n",
       "0.070294       1\n",
       "0.152905       1\n",
       "Name: pay_ratio_08, Length: 14731, dtype: int64"
      ]
     },
     "execution_count": 56,
     "metadata": {},
     "output_type": "execute_result"
    }
   ],
   "source": [
    "df.pay_ratio_08.value_counts()"
   ]
  },
  {
   "cell_type": "code",
   "execution_count": 122,
   "metadata": {},
   "outputs": [],
   "source": [
    "# Create columns for avg bill statement, average amount paid, gross pay ratio.\n",
    "\n",
    "df['avg_bill_stmt'] = (df.billamt_09 + df.billamt_08 + df.billamt_07 + df.billamt_06 + df.billamt_05 + df.billamt_04) / 6\n",
    "\n",
    "df['avg_amt_paid'] = (df.payamt_09 + df.payamt_08 + df.payamt_07 + df.payamt_06 + df.payamt_05 + df.payamt_04) / 6\n",
    "\n",
    "df['gross_pay_ratio']= df.avg_amt_paid / df.avg_bill_stmt"
   ]
  },
  {
   "cell_type": "code",
   "execution_count": 123,
   "metadata": {},
   "outputs": [],
   "source": [
    "# Handle non-bormal values in gross pay ratio column\n",
    "\n",
    "df.gross_pay_ratio.fillna(1, inplace=True)\n",
    "df.replace(np.inf, 1, inplace=True)\n",
    "df.gross_pay_ratio = np.where(((df.gross_pay_ratio < 0)|(df.gross_pay_ratio > 1)), 1, df.gross_pay_ratio)"
   ]
  },
  {
   "cell_type": "code",
   "execution_count": 124,
   "metadata": {},
   "outputs": [
    {
     "data": {
      "text/html": [
       "<div>\n",
       "<style scoped>\n",
       "    .dataframe tbody tr th:only-of-type {\n",
       "        vertical-align: middle;\n",
       "    }\n",
       "\n",
       "    .dataframe tbody tr th {\n",
       "        vertical-align: top;\n",
       "    }\n",
       "\n",
       "    .dataframe thead th {\n",
       "        text-align: right;\n",
       "    }\n",
       "</style>\n",
       "<table border=\"1\" class=\"dataframe\">\n",
       "  <thead>\n",
       "    <tr style=\"text-align: right;\">\n",
       "      <th></th>\n",
       "      <th>id</th>\n",
       "      <th>given_credit</th>\n",
       "      <th>gender</th>\n",
       "      <th>education</th>\n",
       "      <th>mar_status</th>\n",
       "      <th>age</th>\n",
       "      <th>paystatus_09</th>\n",
       "      <th>paystatus_08</th>\n",
       "      <th>paystatus_07</th>\n",
       "      <th>paystatus_06</th>\n",
       "      <th>...</th>\n",
       "      <th>defaulted</th>\n",
       "      <th>pay_ratio_09</th>\n",
       "      <th>pay_ratio_08</th>\n",
       "      <th>pay_ratio_07</th>\n",
       "      <th>pay_ratio_06</th>\n",
       "      <th>pay_ratio_05</th>\n",
       "      <th>pay_ratio_04</th>\n",
       "      <th>avg_bill_stmt</th>\n",
       "      <th>avg_amt_paid</th>\n",
       "      <th>gross_pay_ratio</th>\n",
       "    </tr>\n",
       "  </thead>\n",
       "  <tbody>\n",
       "    <tr>\n",
       "      <td>22108</td>\n",
       "      <td>2198</td>\n",
       "      <td>1000000.0</td>\n",
       "      <td>2</td>\n",
       "      <td>1</td>\n",
       "      <td>1</td>\n",
       "      <td>47</td>\n",
       "      <td>0</td>\n",
       "      <td>0</td>\n",
       "      <td>0</td>\n",
       "      <td>-1</td>\n",
       "      <td>...</td>\n",
       "      <td>0</td>\n",
       "      <td>0.052653</td>\n",
       "      <td>0.051551</td>\n",
       "      <td>1.000000</td>\n",
       "      <td>0.056080</td>\n",
       "      <td>0.053927</td>\n",
       "      <td>0.052259</td>\n",
       "      <td>877313.833333</td>\n",
       "      <td>191300.500000</td>\n",
       "      <td>0.218053</td>\n",
       "    </tr>\n",
       "    <tr>\n",
       "      <td>11613</td>\n",
       "      <td>14920</td>\n",
       "      <td>800000.0</td>\n",
       "      <td>1</td>\n",
       "      <td>2</td>\n",
       "      <td>1</td>\n",
       "      <td>53</td>\n",
       "      <td>-1</td>\n",
       "      <td>-1</td>\n",
       "      <td>-1</td>\n",
       "      <td>0</td>\n",
       "      <td>...</td>\n",
       "      <td>0</td>\n",
       "      <td>1.000000</td>\n",
       "      <td>1.000000</td>\n",
       "      <td>0.002030</td>\n",
       "      <td>0.006052</td>\n",
       "      <td>0.743924</td>\n",
       "      <td>1.000000</td>\n",
       "      <td>23411.500000</td>\n",
       "      <td>24838.000000</td>\n",
       "      <td>1.000000</td>\n",
       "    </tr>\n",
       "    <tr>\n",
       "      <td>13516</td>\n",
       "      <td>28716</td>\n",
       "      <td>780000.0</td>\n",
       "      <td>2</td>\n",
       "      <td>2</td>\n",
       "      <td>2</td>\n",
       "      <td>41</td>\n",
       "      <td>-2</td>\n",
       "      <td>-2</td>\n",
       "      <td>-2</td>\n",
       "      <td>-2</td>\n",
       "      <td>...</td>\n",
       "      <td>0</td>\n",
       "      <td>0.616132</td>\n",
       "      <td>0.640979</td>\n",
       "      <td>0.573954</td>\n",
       "      <td>1.000000</td>\n",
       "      <td>1.000000</td>\n",
       "      <td>0.140570</td>\n",
       "      <td>79876.666667</td>\n",
       "      <td>69449.166667</td>\n",
       "      <td>0.869455</td>\n",
       "    </tr>\n",
       "    <tr>\n",
       "      <td>18117</td>\n",
       "      <td>24321</td>\n",
       "      <td>780000.0</td>\n",
       "      <td>1</td>\n",
       "      <td>1</td>\n",
       "      <td>1</td>\n",
       "      <td>48</td>\n",
       "      <td>0</td>\n",
       "      <td>0</td>\n",
       "      <td>0</td>\n",
       "      <td>0</td>\n",
       "      <td>...</td>\n",
       "      <td>0</td>\n",
       "      <td>0.058323</td>\n",
       "      <td>0.084015</td>\n",
       "      <td>0.052449</td>\n",
       "      <td>0.041000</td>\n",
       "      <td>0.054243</td>\n",
       "      <td>0.036648</td>\n",
       "      <td>185299.166667</td>\n",
       "      <td>10005.833333</td>\n",
       "      <td>0.053998</td>\n",
       "    </tr>\n",
       "    <tr>\n",
       "      <td>21388</td>\n",
       "      <td>10090</td>\n",
       "      <td>750000.0</td>\n",
       "      <td>2</td>\n",
       "      <td>1</td>\n",
       "      <td>1</td>\n",
       "      <td>41</td>\n",
       "      <td>0</td>\n",
       "      <td>0</td>\n",
       "      <td>0</td>\n",
       "      <td>0</td>\n",
       "      <td>...</td>\n",
       "      <td>0</td>\n",
       "      <td>0.037044</td>\n",
       "      <td>0.014256</td>\n",
       "      <td>0.029159</td>\n",
       "      <td>0.671819</td>\n",
       "      <td>0.138453</td>\n",
       "      <td>0.112497</td>\n",
       "      <td>92716.666667</td>\n",
       "      <td>11361.500000</td>\n",
       "      <td>0.122540</td>\n",
       "    </tr>\n",
       "  </tbody>\n",
       "</table>\n",
       "<p>5 rows × 34 columns</p>\n",
       "</div>"
      ],
      "text/plain": [
       "          id  given_credit  gender  education  mar_status  age  paystatus_09  \\\n",
       "22108   2198     1000000.0       2          1           1   47             0   \n",
       "11613  14920      800000.0       1          2           1   53            -1   \n",
       "13516  28716      780000.0       2          2           2   41            -2   \n",
       "18117  24321      780000.0       1          1           1   48             0   \n",
       "21388  10090      750000.0       2          1           1   41             0   \n",
       "\n",
       "       paystatus_08  paystatus_07  paystatus_06  ...  defaulted  pay_ratio_09  \\\n",
       "22108             0             0            -1  ...          0      0.052653   \n",
       "11613            -1            -1             0  ...          0      1.000000   \n",
       "13516            -2            -2            -2  ...          0      0.616132   \n",
       "18117             0             0             0  ...          0      0.058323   \n",
       "21388             0             0             0  ...          0      0.037044   \n",
       "\n",
       "       pay_ratio_08  pay_ratio_07  pay_ratio_06  pay_ratio_05  pay_ratio_04  \\\n",
       "22108      0.051551      1.000000      0.056080      0.053927      0.052259   \n",
       "11613      1.000000      0.002030      0.006052      0.743924      1.000000   \n",
       "13516      0.640979      0.573954      1.000000      1.000000      0.140570   \n",
       "18117      0.084015      0.052449      0.041000      0.054243      0.036648   \n",
       "21388      0.014256      0.029159      0.671819      0.138453      0.112497   \n",
       "\n",
       "       avg_bill_stmt   avg_amt_paid  gross_pay_ratio  \n",
       "22108  877313.833333  191300.500000         0.218053  \n",
       "11613   23411.500000   24838.000000         1.000000  \n",
       "13516   79876.666667   69449.166667         0.869455  \n",
       "18117  185299.166667   10005.833333         0.053998  \n",
       "21388   92716.666667   11361.500000         0.122540  \n",
       "\n",
       "[5 rows x 34 columns]"
      ]
     },
     "execution_count": 124,
     "metadata": {},
     "output_type": "execute_result"
    }
   ],
   "source": [
    "df.head()"
   ]
  },
  {
   "cell_type": "code",
   "execution_count": 125,
   "metadata": {},
   "outputs": [
    {
     "data": {
      "text/html": [
       "<div>\n",
       "<style scoped>\n",
       "    .dataframe tbody tr th:only-of-type {\n",
       "        vertical-align: middle;\n",
       "    }\n",
       "\n",
       "    .dataframe tbody tr th {\n",
       "        vertical-align: top;\n",
       "    }\n",
       "\n",
       "    .dataframe thead th {\n",
       "        text-align: right;\n",
       "    }\n",
       "</style>\n",
       "<table border=\"1\" class=\"dataframe\">\n",
       "  <thead>\n",
       "    <tr style=\"text-align: right;\">\n",
       "      <th></th>\n",
       "      <th>id</th>\n",
       "      <th>given_credit</th>\n",
       "      <th>gender</th>\n",
       "      <th>education</th>\n",
       "      <th>mar_status</th>\n",
       "      <th>age</th>\n",
       "      <th>paystatus_09</th>\n",
       "      <th>paystatus_08</th>\n",
       "      <th>paystatus_07</th>\n",
       "      <th>paystatus_06</th>\n",
       "      <th>...</th>\n",
       "      <th>defaulted</th>\n",
       "      <th>pay_ratio_09</th>\n",
       "      <th>pay_ratio_08</th>\n",
       "      <th>pay_ratio_07</th>\n",
       "      <th>pay_ratio_06</th>\n",
       "      <th>pay_ratio_05</th>\n",
       "      <th>pay_ratio_04</th>\n",
       "      <th>avg_bill_stmt</th>\n",
       "      <th>avg_amt_paid</th>\n",
       "      <th>gross_pay_ratio</th>\n",
       "    </tr>\n",
       "  </thead>\n",
       "  <tbody>\n",
       "    <tr>\n",
       "      <td>count</td>\n",
       "      <td>22499.000000</td>\n",
       "      <td>22499.000000</td>\n",
       "      <td>22499.000000</td>\n",
       "      <td>22499.000000</td>\n",
       "      <td>22499.000000</td>\n",
       "      <td>22499.000000</td>\n",
       "      <td>22499.000000</td>\n",
       "      <td>22499.000000</td>\n",
       "      <td>22499.000000</td>\n",
       "      <td>22499.000000</td>\n",
       "      <td>...</td>\n",
       "      <td>22499.000000</td>\n",
       "      <td>22499.000000</td>\n",
       "      <td>22499.000000</td>\n",
       "      <td>22499.000000</td>\n",
       "      <td>22499.000000</td>\n",
       "      <td>22499.000000</td>\n",
       "      <td>22499.000000</td>\n",
       "      <td>22499.000000</td>\n",
       "      <td>22499.000000</td>\n",
       "      <td>22499.000000</td>\n",
       "    </tr>\n",
       "    <tr>\n",
       "      <td>mean</td>\n",
       "      <td>14951.920308</td>\n",
       "      <td>167054.521534</td>\n",
       "      <td>1.603227</td>\n",
       "      <td>1.844260</td>\n",
       "      <td>1.559225</td>\n",
       "      <td>35.447931</td>\n",
       "      <td>-0.014090</td>\n",
       "      <td>-0.128806</td>\n",
       "      <td>-0.160185</td>\n",
       "      <td>-0.214587</td>\n",
       "      <td>...</td>\n",
       "      <td>0.223477</td>\n",
       "      <td>0.303204</td>\n",
       "      <td>0.315860</td>\n",
       "      <td>0.311864</td>\n",
       "      <td>0.306397</td>\n",
       "      <td>0.328164</td>\n",
       "      <td>0.348377</td>\n",
       "      <td>45078.972125</td>\n",
       "      <td>5292.854497</td>\n",
       "      <td>0.344726</td>\n",
       "    </tr>\n",
       "    <tr>\n",
       "      <td>std</td>\n",
       "      <td>8663.502421</td>\n",
       "      <td>129864.960118</td>\n",
       "      <td>0.489239</td>\n",
       "      <td>0.745099</td>\n",
       "      <td>0.520785</td>\n",
       "      <td>9.237634</td>\n",
       "      <td>1.123191</td>\n",
       "      <td>1.197954</td>\n",
       "      <td>1.198880</td>\n",
       "      <td>1.174824</td>\n",
       "      <td>...</td>\n",
       "      <td>0.416584</td>\n",
       "      <td>0.392584</td>\n",
       "      <td>0.401119</td>\n",
       "      <td>0.407479</td>\n",
       "      <td>0.408008</td>\n",
       "      <td>0.417028</td>\n",
       "      <td>0.425910</td>\n",
       "      <td>63716.533656</td>\n",
       "      <td>10528.220177</td>\n",
       "      <td>0.380805</td>\n",
       "    </tr>\n",
       "    <tr>\n",
       "      <td>min</td>\n",
       "      <td>1.000000</td>\n",
       "      <td>10000.000000</td>\n",
       "      <td>1.000000</td>\n",
       "      <td>1.000000</td>\n",
       "      <td>1.000000</td>\n",
       "      <td>21.000000</td>\n",
       "      <td>-2.000000</td>\n",
       "      <td>-2.000000</td>\n",
       "      <td>-2.000000</td>\n",
       "      <td>-2.000000</td>\n",
       "      <td>...</td>\n",
       "      <td>0.000000</td>\n",
       "      <td>0.000000</td>\n",
       "      <td>0.000000</td>\n",
       "      <td>0.000000</td>\n",
       "      <td>0.000000</td>\n",
       "      <td>0.000000</td>\n",
       "      <td>0.000000</td>\n",
       "      <td>-56043.166667</td>\n",
       "      <td>0.000000</td>\n",
       "      <td>0.000000</td>\n",
       "    </tr>\n",
       "    <tr>\n",
       "      <td>25%</td>\n",
       "      <td>7419.500000</td>\n",
       "      <td>50000.000000</td>\n",
       "      <td>1.000000</td>\n",
       "      <td>1.000000</td>\n",
       "      <td>1.000000</td>\n",
       "      <td>28.000000</td>\n",
       "      <td>-1.000000</td>\n",
       "      <td>-1.000000</td>\n",
       "      <td>-1.000000</td>\n",
       "      <td>-1.000000</td>\n",
       "      <td>...</td>\n",
       "      <td>0.000000</td>\n",
       "      <td>0.038085</td>\n",
       "      <td>0.037787</td>\n",
       "      <td>0.032713</td>\n",
       "      <td>0.031667</td>\n",
       "      <td>0.035590</td>\n",
       "      <td>0.035410</td>\n",
       "      <td>4726.000000</td>\n",
       "      <td>1100.000000</td>\n",
       "      <td>0.043058</td>\n",
       "    </tr>\n",
       "    <tr>\n",
       "      <td>50%</td>\n",
       "      <td>14947.000000</td>\n",
       "      <td>140000.000000</td>\n",
       "      <td>2.000000</td>\n",
       "      <td>2.000000</td>\n",
       "      <td>2.000000</td>\n",
       "      <td>34.000000</td>\n",
       "      <td>0.000000</td>\n",
       "      <td>0.000000</td>\n",
       "      <td>0.000000</td>\n",
       "      <td>0.000000</td>\n",
       "      <td>...</td>\n",
       "      <td>0.000000</td>\n",
       "      <td>0.070375</td>\n",
       "      <td>0.071693</td>\n",
       "      <td>0.058782</td>\n",
       "      <td>0.050391</td>\n",
       "      <td>0.055751</td>\n",
       "      <td>0.059898</td>\n",
       "      <td>20896.833333</td>\n",
       "      <td>2382.166667</td>\n",
       "      <td>0.105698</td>\n",
       "    </tr>\n",
       "    <tr>\n",
       "      <td>75%</td>\n",
       "      <td>22441.000000</td>\n",
       "      <td>240000.000000</td>\n",
       "      <td>2.000000</td>\n",
       "      <td>2.000000</td>\n",
       "      <td>2.000000</td>\n",
       "      <td>41.000000</td>\n",
       "      <td>0.000000</td>\n",
       "      <td>0.000000</td>\n",
       "      <td>0.000000</td>\n",
       "      <td>0.000000</td>\n",
       "      <td>...</td>\n",
       "      <td>0.000000</td>\n",
       "      <td>0.556391</td>\n",
       "      <td>0.681358</td>\n",
       "      <td>0.735916</td>\n",
       "      <td>0.702730</td>\n",
       "      <td>0.960831</td>\n",
       "      <td>1.000000</td>\n",
       "      <td>57103.416667</td>\n",
       "      <td>5583.750000</td>\n",
       "      <td>0.711362</td>\n",
       "    </tr>\n",
       "    <tr>\n",
       "      <td>max</td>\n",
       "      <td>30000.000000</td>\n",
       "      <td>1000000.000000</td>\n",
       "      <td>2.000000</td>\n",
       "      <td>4.000000</td>\n",
       "      <td>3.000000</td>\n",
       "      <td>75.000000</td>\n",
       "      <td>8.000000</td>\n",
       "      <td>8.000000</td>\n",
       "      <td>8.000000</td>\n",
       "      <td>8.000000</td>\n",
       "      <td>...</td>\n",
       "      <td>1.000000</td>\n",
       "      <td>1.000000</td>\n",
       "      <td>1.000000</td>\n",
       "      <td>1.000000</td>\n",
       "      <td>1.000000</td>\n",
       "      <td>1.000000</td>\n",
       "      <td>1.000000</td>\n",
       "      <td>877313.833333</td>\n",
       "      <td>627344.333333</td>\n",
       "      <td>1.000000</td>\n",
       "    </tr>\n",
       "  </tbody>\n",
       "</table>\n",
       "<p>8 rows × 34 columns</p>\n",
       "</div>"
      ],
      "text/plain": [
       "                 id    given_credit        gender     education    mar_status  \\\n",
       "count  22499.000000    22499.000000  22499.000000  22499.000000  22499.000000   \n",
       "mean   14951.920308   167054.521534      1.603227      1.844260      1.559225   \n",
       "std     8663.502421   129864.960118      0.489239      0.745099      0.520785   \n",
       "min        1.000000    10000.000000      1.000000      1.000000      1.000000   \n",
       "25%     7419.500000    50000.000000      1.000000      1.000000      1.000000   \n",
       "50%    14947.000000   140000.000000      2.000000      2.000000      2.000000   \n",
       "75%    22441.000000   240000.000000      2.000000      2.000000      2.000000   \n",
       "max    30000.000000  1000000.000000      2.000000      4.000000      3.000000   \n",
       "\n",
       "                age  paystatus_09  paystatus_08  paystatus_07  paystatus_06  \\\n",
       "count  22499.000000  22499.000000  22499.000000  22499.000000  22499.000000   \n",
       "mean      35.447931     -0.014090     -0.128806     -0.160185     -0.214587   \n",
       "std        9.237634      1.123191      1.197954      1.198880      1.174824   \n",
       "min       21.000000     -2.000000     -2.000000     -2.000000     -2.000000   \n",
       "25%       28.000000     -1.000000     -1.000000     -1.000000     -1.000000   \n",
       "50%       34.000000      0.000000      0.000000      0.000000      0.000000   \n",
       "75%       41.000000      0.000000      0.000000      0.000000      0.000000   \n",
       "max       75.000000      8.000000      8.000000      8.000000      8.000000   \n",
       "\n",
       "       ...     defaulted  pay_ratio_09  pay_ratio_08  pay_ratio_07  \\\n",
       "count  ...  22499.000000  22499.000000  22499.000000  22499.000000   \n",
       "mean   ...      0.223477      0.303204      0.315860      0.311864   \n",
       "std    ...      0.416584      0.392584      0.401119      0.407479   \n",
       "min    ...      0.000000      0.000000      0.000000      0.000000   \n",
       "25%    ...      0.000000      0.038085      0.037787      0.032713   \n",
       "50%    ...      0.000000      0.070375      0.071693      0.058782   \n",
       "75%    ...      0.000000      0.556391      0.681358      0.735916   \n",
       "max    ...      1.000000      1.000000      1.000000      1.000000   \n",
       "\n",
       "       pay_ratio_06  pay_ratio_05  pay_ratio_04  avg_bill_stmt   avg_amt_paid  \\\n",
       "count  22499.000000  22499.000000  22499.000000   22499.000000   22499.000000   \n",
       "mean       0.306397      0.328164      0.348377   45078.972125    5292.854497   \n",
       "std        0.408008      0.417028      0.425910   63716.533656   10528.220177   \n",
       "min        0.000000      0.000000      0.000000  -56043.166667       0.000000   \n",
       "25%        0.031667      0.035590      0.035410    4726.000000    1100.000000   \n",
       "50%        0.050391      0.055751      0.059898   20896.833333    2382.166667   \n",
       "75%        0.702730      0.960831      1.000000   57103.416667    5583.750000   \n",
       "max        1.000000      1.000000      1.000000  877313.833333  627344.333333   \n",
       "\n",
       "       gross_pay_ratio  \n",
       "count     22499.000000  \n",
       "mean          0.344726  \n",
       "std           0.380805  \n",
       "min           0.000000  \n",
       "25%           0.043058  \n",
       "50%           0.105698  \n",
       "75%           0.711362  \n",
       "max           1.000000  \n",
       "\n",
       "[8 rows x 34 columns]"
      ]
     },
     "execution_count": 125,
     "metadata": {},
     "output_type": "execute_result"
    }
   ],
   "source": [
    "df.describe()"
   ]
  },
  {
   "cell_type": "code",
   "execution_count": 126,
   "metadata": {},
   "outputs": [],
   "source": [
    "df = pd.get_dummies(df, columns=['gender', 'education', 'mar_status', 'paystatus_09', 'paystatus_08',\n",
    "       'paystatus_07', 'paystatus_06', 'paystatus_05', 'paystatus_04'], drop_first=True)"
   ]
  },
  {
   "cell_type": "code",
   "execution_count": 127,
   "metadata": {},
   "outputs": [
    {
     "data": {
      "text/html": [
       "<div>\n",
       "<style scoped>\n",
       "    .dataframe tbody tr th:only-of-type {\n",
       "        vertical-align: middle;\n",
       "    }\n",
       "\n",
       "    .dataframe tbody tr th {\n",
       "        vertical-align: top;\n",
       "    }\n",
       "\n",
       "    .dataframe thead th {\n",
       "        text-align: right;\n",
       "    }\n",
       "</style>\n",
       "<table border=\"1\" class=\"dataframe\">\n",
       "  <thead>\n",
       "    <tr style=\"text-align: right;\">\n",
       "      <th></th>\n",
       "      <th>id</th>\n",
       "      <th>given_credit</th>\n",
       "      <th>age</th>\n",
       "      <th>billamt_09</th>\n",
       "      <th>billamt_08</th>\n",
       "      <th>billamt_07</th>\n",
       "      <th>billamt_06</th>\n",
       "      <th>billamt_05</th>\n",
       "      <th>billamt_04</th>\n",
       "      <th>payamt_09</th>\n",
       "      <th>...</th>\n",
       "      <th>paystatus_05_8</th>\n",
       "      <th>paystatus_04_-1</th>\n",
       "      <th>paystatus_04_0</th>\n",
       "      <th>paystatus_04_2</th>\n",
       "      <th>paystatus_04_3</th>\n",
       "      <th>paystatus_04_4</th>\n",
       "      <th>paystatus_04_5</th>\n",
       "      <th>paystatus_04_6</th>\n",
       "      <th>paystatus_04_7</th>\n",
       "      <th>paystatus_04_8</th>\n",
       "    </tr>\n",
       "  </thead>\n",
       "  <tbody>\n",
       "    <tr>\n",
       "      <td>22108</td>\n",
       "      <td>2198</td>\n",
       "      <td>1000000.0</td>\n",
       "      <td>47</td>\n",
       "      <td>964511.0</td>\n",
       "      <td>983931.0</td>\n",
       "      <td>535020.0</td>\n",
       "      <td>891586.0</td>\n",
       "      <td>927171.0</td>\n",
       "      <td>961664.0</td>\n",
       "      <td>50784.0</td>\n",
       "      <td>...</td>\n",
       "      <td>0</td>\n",
       "      <td>0</td>\n",
       "      <td>1</td>\n",
       "      <td>0</td>\n",
       "      <td>0</td>\n",
       "      <td>0</td>\n",
       "      <td>0</td>\n",
       "      <td>0</td>\n",
       "      <td>0</td>\n",
       "      <td>0</td>\n",
       "    </tr>\n",
       "    <tr>\n",
       "      <td>11613</td>\n",
       "      <td>14920</td>\n",
       "      <td>800000.0</td>\n",
       "      <td>53</td>\n",
       "      <td>7639.0</td>\n",
       "      <td>5552.0</td>\n",
       "      <td>64535.0</td>\n",
       "      <td>40814.0</td>\n",
       "      <td>12590.0</td>\n",
       "      <td>9339.0</td>\n",
       "      <td>11145.0</td>\n",
       "      <td>...</td>\n",
       "      <td>0</td>\n",
       "      <td>1</td>\n",
       "      <td>0</td>\n",
       "      <td>0</td>\n",
       "      <td>0</td>\n",
       "      <td>0</td>\n",
       "      <td>0</td>\n",
       "      <td>0</td>\n",
       "      <td>0</td>\n",
       "      <td>0</td>\n",
       "    </tr>\n",
       "    <tr>\n",
       "      <td>13516</td>\n",
       "      <td>28716</td>\n",
       "      <td>780000.0</td>\n",
       "      <td>41</td>\n",
       "      <td>101957.0</td>\n",
       "      <td>61715.0</td>\n",
       "      <td>38686.0</td>\n",
       "      <td>21482.0</td>\n",
       "      <td>72628.0</td>\n",
       "      <td>182792.0</td>\n",
       "      <td>62819.0</td>\n",
       "      <td>...</td>\n",
       "      <td>0</td>\n",
       "      <td>0</td>\n",
       "      <td>0</td>\n",
       "      <td>0</td>\n",
       "      <td>0</td>\n",
       "      <td>0</td>\n",
       "      <td>0</td>\n",
       "      <td>0</td>\n",
       "      <td>0</td>\n",
       "      <td>0</td>\n",
       "    </tr>\n",
       "    <tr>\n",
       "      <td>18117</td>\n",
       "      <td>24321</td>\n",
       "      <td>780000.0</td>\n",
       "      <td>48</td>\n",
       "      <td>171459.0</td>\n",
       "      <td>178587.0</td>\n",
       "      <td>190663.0</td>\n",
       "      <td>195124.0</td>\n",
       "      <td>184872.0</td>\n",
       "      <td>191090.0</td>\n",
       "      <td>10000.0</td>\n",
       "      <td>...</td>\n",
       "      <td>0</td>\n",
       "      <td>0</td>\n",
       "      <td>1</td>\n",
       "      <td>0</td>\n",
       "      <td>0</td>\n",
       "      <td>0</td>\n",
       "      <td>0</td>\n",
       "      <td>0</td>\n",
       "      <td>0</td>\n",
       "      <td>0</td>\n",
       "    </tr>\n",
       "    <tr>\n",
       "      <td>21388</td>\n",
       "      <td>10090</td>\n",
       "      <td>750000.0</td>\n",
       "      <td>41</td>\n",
       "      <td>184022.0</td>\n",
       "      <td>163441.0</td>\n",
       "      <td>92767.0</td>\n",
       "      <td>75696.0</td>\n",
       "      <td>35485.0</td>\n",
       "      <td>4889.0</td>\n",
       "      <td>6817.0</td>\n",
       "      <td>...</td>\n",
       "      <td>0</td>\n",
       "      <td>1</td>\n",
       "      <td>0</td>\n",
       "      <td>0</td>\n",
       "      <td>0</td>\n",
       "      <td>0</td>\n",
       "      <td>0</td>\n",
       "      <td>0</td>\n",
       "      <td>0</td>\n",
       "      <td>0</td>\n",
       "    </tr>\n",
       "  </tbody>\n",
       "</table>\n",
       "<p>5 rows × 89 columns</p>\n",
       "</div>"
      ],
      "text/plain": [
       "          id  given_credit  age  billamt_09  billamt_08  billamt_07  \\\n",
       "22108   2198     1000000.0   47    964511.0    983931.0    535020.0   \n",
       "11613  14920      800000.0   53      7639.0      5552.0     64535.0   \n",
       "13516  28716      780000.0   41    101957.0     61715.0     38686.0   \n",
       "18117  24321      780000.0   48    171459.0    178587.0    190663.0   \n",
       "21388  10090      750000.0   41    184022.0    163441.0     92767.0   \n",
       "\n",
       "       billamt_06  billamt_05  billamt_04  payamt_09  ...  paystatus_05_8  \\\n",
       "22108    891586.0    927171.0    961664.0    50784.0  ...               0   \n",
       "11613     40814.0     12590.0      9339.0    11145.0  ...               0   \n",
       "13516     21482.0     72628.0    182792.0    62819.0  ...               0   \n",
       "18117    195124.0    184872.0    191090.0    10000.0  ...               0   \n",
       "21388     75696.0     35485.0      4889.0     6817.0  ...               0   \n",
       "\n",
       "       paystatus_04_-1  paystatus_04_0  paystatus_04_2  paystatus_04_3  \\\n",
       "22108                0               1               0               0   \n",
       "11613                1               0               0               0   \n",
       "13516                0               0               0               0   \n",
       "18117                0               1               0               0   \n",
       "21388                1               0               0               0   \n",
       "\n",
       "       paystatus_04_4  paystatus_04_5  paystatus_04_6  paystatus_04_7  \\\n",
       "22108               0               0               0               0   \n",
       "11613               0               0               0               0   \n",
       "13516               0               0               0               0   \n",
       "18117               0               0               0               0   \n",
       "21388               0               0               0               0   \n",
       "\n",
       "       paystatus_04_8  \n",
       "22108               0  \n",
       "11613               0  \n",
       "13516               0  \n",
       "18117               0  \n",
       "21388               0  \n",
       "\n",
       "[5 rows x 89 columns]"
      ]
     },
     "execution_count": 127,
     "metadata": {},
     "output_type": "execute_result"
    }
   ],
   "source": [
    "df.head()"
   ]
  },
  {
   "cell_type": "markdown",
   "metadata": {},
   "source": [
    "## 4. Feature Selection"
   ]
  },
  {
   "cell_type": "code",
   "execution_count": 128,
   "metadata": {},
   "outputs": [],
   "source": [
    "target = df.defaulted\n",
    "features = df.drop(['defaulted'], axis=1)"
   ]
  },
  {
   "cell_type": "code",
   "execution_count": 129,
   "metadata": {},
   "outputs": [],
   "source": [
    "X_train_fs, X_test_fs, y_train_fs, y_test_fs = train_test_split(features, target, random_state=22,test_size=0.20)"
   ]
  },
  {
   "cell_type": "code",
   "execution_count": 130,
   "metadata": {},
   "outputs": [],
   "source": [
    "scaler = StandardScaler()\n",
    "\n",
    "# fit the scaler to the training data\n",
    "scaler.fit(X_train_fs)\n",
    "\n",
    "#transform the training data\n",
    "X_train_fs = pd.DataFrame(data = scaler.transform(X_train_fs), columns = features.columns)\n",
    "\n",
    "#transform the testing data\n",
    "X_test_fs = pd.DataFrame(data = scaler.transform(X_test_fs), columns = features.columns)"
   ]
  },
  {
   "cell_type": "code",
   "execution_count": 131,
   "metadata": {},
   "outputs": [
    {
     "name": "stdout",
     "output_type": "stream",
     "text": [
      "Training Root Mean Squared Error: 0.3724007489231984\n",
      "Testing Rooot Mean Squared Error: 0.3715461036584673\n",
      "R^2 Train Score: 0.20064676648100566\n",
      "R^2 Test Score: 0.20526490073018278\n"
     ]
    }
   ],
   "source": [
    "from sklearn.linear_model import Lasso\n",
    "\n",
    "lasso = Lasso(alpha = 0.01, normalize = False)\n",
    "\n",
    "lasso = lasso.fit(X_train_fs, y_train_fs)\n",
    "\n",
    "y_train_pred_fs = lasso.predict(X_train_fs)\n",
    "\n",
    "y_pred_fs = lasso.predict(X_test_fs)\n",
    "\n",
    "train_rmse_fs = np.sqrt(metrics.mean_squared_error(y_train_fs, y_train_pred_fs))\n",
    "\n",
    "test_rmse_fs = np.sqrt(metrics.mean_squared_error(y_test_fs, y_pred_fs))\n",
    "\n",
    "print('Training Root Mean Squared Error:' , train_rmse_fs)\n",
    "print(\"Testing Rooot Mean Squared Error:\" , test_rmse_fs)\n",
    "# print (\"R^2 Score:\", lasso.score(y_train, y_train_pred))\n",
    "print (\"R^2 Train Score:\", metrics.r2_score(y_train_fs, (y_train_pred_fs)))\n",
    "print(\"R^2 Test Score:\", metrics.r2_score(y_test_fs, y_pred_fs))"
   ]
  },
  {
   "cell_type": "code",
   "execution_count": 132,
   "metadata": {},
   "outputs": [
    {
     "data": {
      "text/plain": [
       "<matplotlib.axes._subplots.AxesSubplot at 0x1c21d9dda0>"
      ]
     },
     "execution_count": 132,
     "metadata": {},
     "output_type": "execute_result"
    },
    {
     "data": {
      "image/png": "[encoded data removed]",
      "text/plain": [
       "<Figure size 720x720 with 1 Axes>"
      ]
     },
     "metadata": {
      "needs_background": "light"
     },
     "output_type": "display_data"
    }
   ],
   "source": [
    "lasso_coef01 = pd.DataFrame(data=lasso.coef_).T\n",
    "lasso_coef01.columns = X_train_fs.columns\n",
    "lasso_coef01 = lasso_coef01.T.sort_values(by=0).T\n",
    "lasso_coef01.plot(kind='bar', title='Modal Coefficients', legend=True, figsize=(10,10))"
   ]
  },
  {
   "cell_type": "code",
   "execution_count": 135,
   "metadata": {},
   "outputs": [
    {
     "data": {
      "text/html": [
       "<div>\n",
       "<style scoped>\n",
       "    .dataframe tbody tr th:only-of-type {\n",
       "        vertical-align: middle;\n",
       "    }\n",
       "\n",
       "    .dataframe tbody tr th {\n",
       "        vertical-align: top;\n",
       "    }\n",
       "\n",
       "    .dataframe thead th {\n",
       "        text-align: right;\n",
       "    }\n",
       "</style>\n",
       "<table border=\"1\" class=\"dataframe\">\n",
       "  <thead>\n",
       "    <tr style=\"text-align: right;\">\n",
       "      <th></th>\n",
       "      <th>given_credit</th>\n",
       "      <th>paystatus_09_0</th>\n",
       "      <th>avg_amt_paid</th>\n",
       "      <th>gender_2</th>\n",
       "      <th>mar_status_2</th>\n",
       "      <th>paystatus_07_-1</th>\n",
       "      <th>education_4</th>\n",
       "      <th>paystatus_04_0</th>\n",
       "      <th>payamt_09</th>\n",
       "      <th>paystatus_06_-1</th>\n",
       "      <th>...</th>\n",
       "      <th>paystatus_08_3</th>\n",
       "      <th>paystatus_04_3</th>\n",
       "      <th>paystatus_06_2</th>\n",
       "      <th>paystatus_05_2</th>\n",
       "      <th>paystatus_09_1</th>\n",
       "      <th>paystatus_04_2</th>\n",
       "      <th>paystatus_07_2</th>\n",
       "      <th>paystatus_08_2</th>\n",
       "      <th>paystatus_09_3</th>\n",
       "      <th>paystatus_09_2</th>\n",
       "    </tr>\n",
       "  </thead>\n",
       "  <tbody>\n",
       "    <tr>\n",
       "      <td>0</td>\n",
       "      <td>-0.020475</td>\n",
       "      <td>-0.018287</td>\n",
       "      <td>-0.005035</td>\n",
       "      <td>-0.004079</td>\n",
       "      <td>-0.002473</td>\n",
       "      <td>-0.00155</td>\n",
       "      <td>-0.000967</td>\n",
       "      <td>-0.000729</td>\n",
       "      <td>-0.000007</td>\n",
       "      <td>-0.0</td>\n",
       "      <td>...</td>\n",
       "      <td>0.007464</td>\n",
       "      <td>0.007925</td>\n",
       "      <td>0.012357</td>\n",
       "      <td>0.014429</td>\n",
       "      <td>0.017694</td>\n",
       "      <td>0.017847</td>\n",
       "      <td>0.022461</td>\n",
       "      <td>0.023972</td>\n",
       "      <td>0.035014</td>\n",
       "      <td>0.098755</td>\n",
       "    </tr>\n",
       "  </tbody>\n",
       "</table>\n",
       "<p>1 rows × 88 columns</p>\n",
       "</div>"
      ],
      "text/plain": [
       "   given_credit  paystatus_09_0  avg_amt_paid  gender_2  mar_status_2  \\\n",
       "0     -0.020475       -0.018287     -0.005035 -0.004079     -0.002473   \n",
       "\n",
       "   paystatus_07_-1  education_4  paystatus_04_0  payamt_09  paystatus_06_-1  \\\n",
       "0         -0.00155    -0.000967       -0.000729  -0.000007             -0.0   \n",
       "\n",
       "   ...  paystatus_08_3  paystatus_04_3  paystatus_06_2  paystatus_05_2  \\\n",
       "0  ...        0.007464        0.007925        0.012357        0.014429   \n",
       "\n",
       "   paystatus_09_1  paystatus_04_2  paystatus_07_2  paystatus_08_2  \\\n",
       "0        0.017694        0.017847        0.022461        0.023972   \n",
       "\n",
       "   paystatus_09_3  paystatus_09_2  \n",
       "0        0.035014        0.098755  \n",
       "\n",
       "[1 rows x 88 columns]"
      ]
     },
     "execution_count": 135,
     "metadata": {},
     "output_type": "execute_result"
    }
   ],
   "source": [
    "lasso_coef01"
   ]
  },
  {
   "cell_type": "code",
   "execution_count": 137,
   "metadata": {},
   "outputs": [],
   "source": [
    "# assemble non-zero coefs\n",
    "coef_keep = []\n",
    "for i in lasso_coef01:\n",
    "    for j in lasso_coef01[i]:\n",
    "        if j > 0.0:\n",
    "            coef_keep.append(i)\n",
    "        elif j < 0.0:\n",
    "            coef_keep.append(i)   \n"
   ]
  },
  {
   "cell_type": "code",
   "execution_count": 138,
   "metadata": {},
   "outputs": [
    {
     "data": {
      "text/plain": [
       "['given_credit',\n",
       " 'paystatus_09_0',\n",
       " 'avg_amt_paid',\n",
       " 'gender_2',\n",
       " 'mar_status_2',\n",
       " 'paystatus_07_-1',\n",
       " 'education_4',\n",
       " 'paystatus_04_0',\n",
       " 'payamt_09',\n",
       " 'paystatus_05_3',\n",
       " 'paystatus_08_6',\n",
       " 'paystatus_09_4',\n",
       " 'paystatus_08_3',\n",
       " 'paystatus_04_3',\n",
       " 'paystatus_06_2',\n",
       " 'paystatus_05_2',\n",
       " 'paystatus_09_1',\n",
       " 'paystatus_04_2',\n",
       " 'paystatus_07_2',\n",
       " 'paystatus_08_2',\n",
       " 'paystatus_09_3',\n",
       " 'paystatus_09_2']"
      ]
     },
     "execution_count": 138,
     "metadata": {},
     "output_type": "execute_result"
    }
   ],
   "source": [
    "coef_keep"
   ]
  },
  {
   "cell_type": "code",
   "execution_count": 139,
   "metadata": {},
   "outputs": [
    {
     "data": {
      "text/plain": [
       "22"
      ]
     },
     "execution_count": 139,
     "metadata": {},
     "output_type": "execute_result"
    }
   ],
   "source": [
    "len(coef_keep)"
   ]
  },
  {
   "cell_type": "code",
   "execution_count": 140,
   "metadata": {},
   "outputs": [],
   "source": [
    "coef_keep.append('defaulted')"
   ]
  },
  {
   "cell_type": "code",
   "execution_count": 141,
   "metadata": {},
   "outputs": [
    {
     "data": {
      "text/plain": [
       "['given_credit',\n",
       " 'paystatus_09_0',\n",
       " 'avg_amt_paid',\n",
       " 'gender_2',\n",
       " 'mar_status_2',\n",
       " 'paystatus_07_-1',\n",
       " 'education_4',\n",
       " 'paystatus_04_0',\n",
       " 'payamt_09',\n",
       " 'paystatus_05_3',\n",
       " 'paystatus_08_6',\n",
       " 'paystatus_09_4',\n",
       " 'paystatus_08_3',\n",
       " 'paystatus_04_3',\n",
       " 'paystatus_06_2',\n",
       " 'paystatus_05_2',\n",
       " 'paystatus_09_1',\n",
       " 'paystatus_04_2',\n",
       " 'paystatus_07_2',\n",
       " 'paystatus_08_2',\n",
       " 'paystatus_09_3',\n",
       " 'paystatus_09_2',\n",
       " 'defaulted']"
      ]
     },
     "execution_count": 141,
     "metadata": {},
     "output_type": "execute_result"
    }
   ],
   "source": [
    "coef_keep"
   ]
  },
  {
   "cell_type": "code",
   "execution_count": 143,
   "metadata": {},
   "outputs": [],
   "source": [
    "# Compile df of most important features.\n",
    "working_df = df[coef_keep]"
   ]
  },
  {
   "cell_type": "code",
   "execution_count": null,
   "metadata": {},
   "outputs": [],
   "source": []
  },
  {
   "cell_type": "code",
   "execution_count": null,
   "metadata": {},
   "outputs": [],
   "source": []
  },
  {
   "cell_type": "markdown",
   "metadata": {},
   "source": [
    "## 5. Model Fitting and Hyperparameter Tuning\n",
    "KNN, Logistic Regression, Decision Tree"
   ]
  },
  {
   "cell_type": "code",
   "execution_count": 155,
   "metadata": {},
   "outputs": [],
   "source": [
    "from sklearn.linear_model import LogisticRegression\n",
    "from sklearn.metrics import accuracy_score, f1_score, recall_score\n",
    "from imblearn.over_sampling import SMOTE\n",
    "from sklearn.neighbors import KNeighborsClassifier\n",
    "\n",
    "from sklearn.model_selection import GridSearchCV\n",
    "from sklearn.model_selection import RandomizedSearchCV\n",
    "from sklearn.model_selection import cross_val_score\n",
    "import seaborn as sns\n",
    "\n",
    "from sklearn.ensemble import RandomForestClassifier\n",
    "from sklearn.model_selection import cross_val_score\n",
    "from sklearn.metrics import classification_report\n",
    "from sklearn.metrics import confusion_matrix\n",
    "from sklearn.tree import DecisionTreeClassifier"
   ]
  },
  {
   "cell_type": "code",
   "execution_count": 144,
   "metadata": {},
   "outputs": [],
   "source": [
    "target = working_df['defaulted']\n",
    "features = working_df.drop(['defaulted'], axis=1)"
   ]
  },
  {
   "cell_type": "code",
   "execution_count": 145,
   "metadata": {},
   "outputs": [],
   "source": [
    "X_train, X_test, y_train, y_test = train_test_split(features, target, random_state=22,test_size=0.20)"
   ]
  },
  {
   "cell_type": "code",
   "execution_count": 146,
   "metadata": {},
   "outputs": [],
   "source": [
    "scaler = StandardScaler()\n",
    "\n",
    "# fit the scaler to the training data\n",
    "scaler.fit(X_train)\n",
    "\n",
    "#transform the training data\n",
    "X_train = pd.DataFrame(data = scaler.transform(X_train), columns = features.columns)\n",
    "\n",
    "#transform the testing data\n",
    "X_test = pd.DataFrame(data = scaler.transform(X_test), columns = features.columns)"
   ]
  },
  {
   "cell_type": "markdown",
   "metadata": {},
   "source": [
    "## KNN"
   ]
  },
  {
   "cell_type": "code",
   "execution_count": 149,
   "metadata": {},
   "outputs": [],
   "source": [
    "knn = KNeighborsClassifier(n_neighbors=9)"
   ]
  },
  {
   "cell_type": "code",
   "execution_count": 150,
   "metadata": {},
   "outputs": [
    {
     "name": "stdout",
     "output_type": "stream",
     "text": [
      "Test F1 score:  0.4568911264946508\n",
      "Test Accuracy score:  0.8082222222222222\n"
     ]
    }
   ],
   "source": [
    "knn.fit(X_train, y_train)\n",
    "\n",
    "knn_preds = knn.predict(X_test)\n",
    "\n",
    "knn_f1 = metrics.f1_score(y_test, knn_preds)\n",
    "\n",
    "knn_acc = metrics.accuracy_score(y_test, knn_preds)\n",
    "\n",
    "print('Test F1 score: ', knn_f1)\n",
    "print('Test Accuracy score: ', knn_acc)"
   ]
  },
  {
   "cell_type": "markdown",
   "metadata": {},
   "source": [
    "## Logistic Regression"
   ]
  },
  {
   "cell_type": "code",
   "execution_count": 151,
   "metadata": {},
   "outputs": [],
   "source": [
    "lr = LogisticRegression(class_weight='balanced')"
   ]
  },
  {
   "cell_type": "code",
   "execution_count": 152,
   "metadata": {},
   "outputs": [
    {
     "name": "stderr",
     "output_type": "stream",
     "text": [
      "/Users/jventura/opt/anaconda3/envs/learn-env/lib/python3.6/site-packages/sklearn/linear_model/logistic.py:432: FutureWarning: Default solver will be changed to 'lbfgs' in 0.22. Specify a solver to silence this warning.\n",
      "  FutureWarning)\n"
     ]
    },
    {
     "data": {
      "text/plain": [
       "LogisticRegression(C=1.0, class_weight='balanced', dual=False,\n",
       "                   fit_intercept=True, intercept_scaling=1, l1_ratio=None,\n",
       "                   max_iter=100, multi_class='warn', n_jobs=None, penalty='l2',\n",
       "                   random_state=None, solver='warn', tol=0.0001, verbose=0,\n",
       "                   warm_start=False)"
      ]
     },
     "execution_count": 152,
     "metadata": {},
     "output_type": "execute_result"
    }
   ],
   "source": [
    "lr.fit(X_train, y_train)"
   ]
  },
  {
   "cell_type": "code",
   "execution_count": 153,
   "metadata": {},
   "outputs": [
    {
     "name": "stdout",
     "output_type": "stream",
     "text": [
      "Test F1 score:  0.5302370585389453\n",
      "Test Accuracy score:  0.7842222222222223\n"
     ]
    }
   ],
   "source": [
    "lr_preds = lr.predict(X_test)\n",
    "\n",
    "lr_f1 = metrics.f1_score(y_test, lr_preds)\n",
    "\n",
    "lr_acc = metrics.accuracy_score(y_test, lr_preds)\n",
    "\n",
    "print('Test F1 score: ', lr_f1)\n",
    "print('Test Accuracy score: ', lr_acc)"
   ]
  },
  {
   "cell_type": "code",
   "execution_count": null,
   "metadata": {},
   "outputs": [],
   "source": []
  },
  {
   "cell_type": "markdown",
   "metadata": {},
   "source": [
    "## Decision Tree"
   ]
  },
  {
   "cell_type": "code",
   "execution_count": 156,
   "metadata": {},
   "outputs": [
    {
     "name": "stdout",
     "output_type": "stream",
     "text": [
      "Test F1 score:  0.5184526456202757\n",
      "Test Accuracy score:  0.7593333333333333\n"
     ]
    }
   ],
   "source": [
    "dtc = DecisionTreeClassifier(max_depth=5, class_weight='balanced')\n",
    "\n",
    "dtc.fit(X_train, y_train)\n",
    "\n",
    "dtc_preds  = dtc.predict(X_test)\n",
    "\n",
    "dtc_f1 = metrics.f1_score(y_test, dtc_preds)\n",
    "\n",
    "dtc_acc = metrics.accuracy_score(y_test, dtc_preds)\n",
    "\n",
    "print('Test F1 score: ', dtc_f1)\n",
    "print('Test Accuracy score: ', dtc_acc)"
   ]
  },
  {
   "cell_type": "code",
   "execution_count": null,
   "metadata": {},
   "outputs": [],
   "source": []
  },
  {
   "cell_type": "markdown",
   "metadata": {},
   "source": [
    "## Random Forest"
   ]
  },
  {
   "cell_type": "code",
   "execution_count": 157,
   "metadata": {},
   "outputs": [],
   "source": [
    "rfc = RandomForestClassifier(random_state = 1, n_estimators=100, max_depth=9, max_features=3)"
   ]
  },
  {
   "cell_type": "code",
   "execution_count": 158,
   "metadata": {},
   "outputs": [
    {
     "data": {
      "text/plain": [
       "RandomForestClassifier(bootstrap=True, class_weight=None, criterion='gini',\n",
       "                       max_depth=9, max_features=3, max_leaf_nodes=None,\n",
       "                       min_impurity_decrease=0.0, min_impurity_split=None,\n",
       "                       min_samples_leaf=1, min_samples_split=2,\n",
       "                       min_weight_fraction_leaf=0.0, n_estimators=100,\n",
       "                       n_jobs=None, oob_score=False, random_state=1, verbose=0,\n",
       "                       warm_start=False)"
      ]
     },
     "execution_count": 158,
     "metadata": {},
     "output_type": "execute_result"
    }
   ],
   "source": [
    "#fit the model to the training data\n",
    "rfc.fit(X_train, y_train)"
   ]
  },
  {
   "cell_type": "code",
   "execution_count": 159,
   "metadata": {},
   "outputs": [
    {
     "name": "stdout",
     "output_type": "stream",
     "text": [
      "Test F1 score:  0.4667981591058514\n",
      "Test Accuracy score:  0.8197777777777778\n"
     ]
    }
   ],
   "source": [
    "#use the fitted model to predict on the test data\n",
    "rfc_preds = rfc.predict(X_test)\n",
    "\n",
    "rfc_f1 = metrics.f1_score(y_test, rfc_preds)\n",
    "rfc_acc = metrics.accuracy_score(y_test, rfc_preds)\n",
    "\n",
    "# checking accuracy on the test data\n",
    "print('Test F1 score: ', rfc_f1)\n",
    "print('Test Accuracy score: ', rfc_acc)"
   ]
  },
  {
   "cell_type": "markdown",
   "metadata": {},
   "source": [
    "## 6. Model Evaluation"
   ]
  },
  {
   "cell_type": "markdown",
   "metadata": {},
   "source": [
    "### Voting Classifier"
   ]
  },
  {
   "cell_type": "code",
   "execution_count": 160,
   "metadata": {},
   "outputs": [],
   "source": [
    "from sklearn.ensemble import VotingClassifier\n",
    "\n",
    "voting_clf = VotingClassifier(\n",
    "                estimators=[('knneighbors', knn), ('logreg', lr), ('decisiontree', dtc)], \n",
    "                voting='soft')"
   ]
  },
  {
   "cell_type": "code",
   "execution_count": 162,
   "metadata": {},
   "outputs": [
    {
     "name": "stderr",
     "output_type": "stream",
     "text": [
      "/Users/jventura/opt/anaconda3/envs/learn-env/lib/python3.6/site-packages/sklearn/linear_model/logistic.py:432: FutureWarning: Default solver will be changed to 'lbfgs' in 0.22. Specify a solver to silence this warning.\n",
      "  FutureWarning)\n"
     ]
    },
    {
     "name": "stdout",
     "output_type": "stream",
     "text": [
      "Test F1 score:  0.529886914378029\n",
      "Test Accuracy score:  0.806\n"
     ]
    }
   ],
   "source": [
    "voting_clf.fit(X_train, y_train)\n",
    "\n",
    "vc_preds = voting_clf.predict(X_test)\n",
    "\n",
    "vc_f1 = metrics.f1_score(y_test, vc_preds)\n",
    "\n",
    "vc_acc = metrics.accuracy_score(y_test, vc_preds)\n",
    "\n",
    "print('Test F1 score: ', vc_f1)\n",
    "print('Test Accuracy score: ', vc_acc)"
   ]
  },
  {
   "cell_type": "markdown",
   "metadata": {},
   "source": [
    "### GridSearch CV - Logit"
   ]
  },
  {
   "cell_type": "code",
   "execution_count": 165,
   "metadata": {},
   "outputs": [],
   "source": [
    "#create a dictionary of all the parameters you want to tune\n",
    "param_grid = { \n",
    "    'C':[0.001,0.01,0.1,1],\n",
    "    'penalty':['l1', 'l2']\n",
    "}"
   ]
  },
  {
   "cell_type": "code",
   "execution_count": 163,
   "metadata": {},
   "outputs": [],
   "source": [
    "lr_CV = LogisticRegression(random_state = 1, class_weight='balanced')"
   ]
  },
  {
   "cell_type": "code",
   "execution_count": 166,
   "metadata": {},
   "outputs": [
    {
     "name": "stdout",
     "output_type": "stream",
     "text": [
      "Fitting 5 folds for each of 8 candidates, totalling 40 fits\n"
     ]
    },
    {
     "name": "stderr",
     "output_type": "stream",
     "text": [
      "[Parallel(n_jobs=-1)]: Using backend LokyBackend with 4 concurrent workers.\n",
      "[Parallel(n_jobs=-1)]: Done  40 out of  40 | elapsed:    6.6s finished\n",
      "/Users/jventura/opt/anaconda3/envs/learn-env/lib/python3.6/site-packages/sklearn/linear_model/logistic.py:432: FutureWarning: Default solver will be changed to 'lbfgs' in 0.22. Specify a solver to silence this warning.\n",
      "  FutureWarning)\n"
     ]
    },
    {
     "data": {
      "text/plain": [
       "GridSearchCV(cv=5, error_score='raise-deprecating',\n",
       "             estimator=LogisticRegression(C=1.0, class_weight='balanced',\n",
       "                                          dual=False, fit_intercept=True,\n",
       "                                          intercept_scaling=1, l1_ratio=None,\n",
       "                                          max_iter=100, multi_class='warn',\n",
       "                                          n_jobs=None, penalty='l2',\n",
       "                                          random_state=1, solver='warn',\n",
       "                                          tol=0.0001, verbose=0,\n",
       "                                          warm_start=False),\n",
       "             iid='warn', n_jobs=-1,\n",
       "             param_grid={'C': [0.001, 0.01, 0.1, 1], 'penalty': ['l1', 'l2']},\n",
       "             pre_dispatch='2*n_jobs', refit=True, return_train_score=False,\n",
       "             scoring='f1', verbose=1)"
      ]
     },
     "execution_count": 166,
     "metadata": {},
     "output_type": "execute_result"
    }
   ],
   "source": [
    "#create a grid search object and fit it to the data\n",
    "\n",
    "lr_CV = GridSearchCV(estimator=lr_CV, param_grid=param_grid, cv= 5, scoring='f1', verbose=1, n_jobs=-1)\n",
    "lr_CV.fit(X_train, y_train)"
   ]
  },
  {
   "cell_type": "code",
   "execution_count": 167,
   "metadata": {},
   "outputs": [
    {
     "name": "stdout",
     "output_type": "stream",
     "text": [
      "{'C': 0.01, 'penalty': 'l2'}\n",
      "LogisticRegression(C=0.01, class_weight='balanced', dual=False,\n",
      "                   fit_intercept=True, intercept_scaling=1, l1_ratio=None,\n",
      "                   max_iter=100, multi_class='warn', n_jobs=None, penalty='l2',\n",
      "                   random_state=1, solver='warn', tol=0.0001, verbose=0,\n",
      "                   warm_start=False)\n"
     ]
    }
   ],
   "source": [
    "### Identify the best params \n",
    "print(lr_CV.best_params_)\n",
    "print(lr_CV.best_estimator_)"
   ]
  },
  {
   "cell_type": "code",
   "execution_count": 168,
   "metadata": {},
   "outputs": [
    {
     "name": "stdout",
     "output_type": "stream",
     "text": [
      "0.5335880649007242\n"
     ]
    }
   ],
   "source": [
    "#Identify the best score during fitting with cross-validation\n",
    "print(lr_CV.best_score_)"
   ]
  },
  {
   "cell_type": "code",
   "execution_count": 169,
   "metadata": {},
   "outputs": [
    {
     "name": "stdout",
     "output_type": "stream",
     "text": [
      "Accuracy: 0.7833333333333333\n",
      "F1: 0.5292129406084016\n"
     ]
    }
   ],
   "source": [
    "#predict on the test set\n",
    "test_preds_lr_CV = lr_CV.best_estimator_.predict(X_test)\n",
    "\n",
    "# checking accuracy and F1\n",
    "print(\"Accuracy:\",metrics.accuracy_score(y_test, test_preds_lr_CV))\n",
    "print(\"F1:\",metrics.f1_score(y_test, test_preds_lr_CV))"
   ]
  },
  {
   "cell_type": "code",
   "execution_count": 170,
   "metadata": {},
   "outputs": [
    {
     "name": "stderr",
     "output_type": "stream",
     "text": [
      "/Users/jventura/opt/anaconda3/envs/learn-env/lib/python3.6/site-packages/sklearn/linear_model/logistic.py:432: FutureWarning: Default solver will be changed to 'lbfgs' in 0.22. Specify a solver to silence this warning.\n",
      "  FutureWarning)\n"
     ]
    },
    {
     "name": "stdout",
     "output_type": "stream",
     "text": [
      "Fitting 5 folds for each of 8 candidates, totalling 40 fits\n"
     ]
    },
    {
     "name": "stderr",
     "output_type": "stream",
     "text": [
      "[Parallel(n_jobs=-1)]: Using backend LokyBackend with 4 concurrent workers.\n",
      "[Parallel(n_jobs=-1)]: Done  40 out of  40 | elapsed:    2.3s finished\n",
      "/Users/jventura/opt/anaconda3/envs/learn-env/lib/python3.6/site-packages/sklearn/linear_model/logistic.py:432: FutureWarning: Default solver will be changed to 'lbfgs' in 0.22. Specify a solver to silence this warning.\n",
      "  FutureWarning)\n"
     ]
    },
    {
     "name": "stdout",
     "output_type": "stream",
     "text": [
      "Test F1 score:  0.5300462249614791\n",
      "Test Accuracy score:  0.7966666666666666\n"
     ]
    }
   ],
   "source": [
    "voting_clf = VotingClassifier(\n",
    "                estimators=[('knneighbors', knn), ('logreg', lr), ('decisiontree', dtc), ('randomforest', rfc), ('logregCV', lr_CV)], \n",
    "                voting='hard')\n",
    "\n",
    "voting_clf.fit(X_train, y_train)\n",
    "\n",
    "vc_preds = voting_clf.predict(X_test)\n",
    "\n",
    "vc_f1 = metrics.f1_score(y_test, vc_preds)\n",
    "\n",
    "vc_acc = metrics.accuracy_score(y_test, vc_preds)\n",
    "\n",
    "print('Test F1 score: ', vc_f1)\n",
    "print('Test Accuracy score: ', vc_acc)"
   ]
  },
  {
   "cell_type": "markdown",
   "metadata": {},
   "source": [
    "### GridsearchCV - Random Forest"
   ]
  },
  {
   "cell_type": "code",
   "execution_count": 178,
   "metadata": {},
   "outputs": [],
   "source": [
    "#create a dictionary of all the parameters you want to tune\n",
    "param_grid2 = { \n",
    "    'n_estimators': [100, 200, 300, 400],\n",
    "    'max_features': [.25, .5, .75],\n",
    "    'max_depth' : [5, 10, 15],\n",
    "    'criterion' : ['gini','entropy']\n",
    "    \n",
    "}"
   ]
  },
  {
   "cell_type": "code",
   "execution_count": 179,
   "metadata": {},
   "outputs": [],
   "source": [
    "rfc_CV = RandomForestClassifier(random_state = 1, class_weight='balanced')"
   ]
  },
  {
   "cell_type": "code",
   "execution_count": 180,
   "metadata": {},
   "outputs": [
    {
     "name": "stdout",
     "output_type": "stream",
     "text": [
      "Fitting 7 folds for each of 72 candidates, totalling 504 fits\n"
     ]
    },
    {
     "name": "stderr",
     "output_type": "stream",
     "text": [
      "[Parallel(n_jobs=-1)]: Using backend LokyBackend with 4 concurrent workers.\n",
      "[Parallel(n_jobs=-1)]: Done  42 tasks      | elapsed:  1.9min\n",
      "[Parallel(n_jobs=-1)]: Done 192 tasks      | elapsed: 15.2min\n",
      "[Parallel(n_jobs=-1)]: Done 442 tasks      | elapsed: 29.6min\n",
      "[Parallel(n_jobs=-1)]: Done 504 out of 504 | elapsed: 35.2min finished\n"
     ]
    },
    {
     "data": {
      "text/plain": [
       "GridSearchCV(cv=7, error_score='raise-deprecating',\n",
       "             estimator=RandomForestClassifier(bootstrap=True,\n",
       "                                              class_weight='balanced',\n",
       "                                              criterion='gini', max_depth=None,\n",
       "                                              max_features='auto',\n",
       "                                              max_leaf_nodes=None,\n",
       "                                              min_impurity_decrease=0.0,\n",
       "                                              min_impurity_split=None,\n",
       "                                              min_samples_leaf=1,\n",
       "                                              min_samples_split=2,\n",
       "                                              min_weight_fraction_leaf=0.0,\n",
       "                                              n_estimators='warn', n_jobs=None,\n",
       "                                              oob_score=False, random_state=1,\n",
       "                                              verbose=0, warm_start=False),\n",
       "             iid='warn', n_jobs=-1,\n",
       "             param_grid={'criterion': ['gini', 'entropy'],\n",
       "                         'max_depth': [5, 10, 15],\n",
       "                         'max_features': [0.25, 0.5, 0.75],\n",
       "                         'n_estimators': [100, 200, 300, 400]},\n",
       "             pre_dispatch='2*n_jobs', refit=True, return_train_score=False,\n",
       "             scoring='f1', verbose=1)"
      ]
     },
     "execution_count": 180,
     "metadata": {},
     "output_type": "execute_result"
    }
   ],
   "source": [
    "#create a grid search object and fit it to the data\n",
    "\n",
    "rfc_CV = GridSearchCV(estimator=rfc_CV, param_grid=param_grid2, cv= 7, scoring='f1', verbose=1, n_jobs=-1)\n",
    "rfc_CV.fit(X_train, y_train)"
   ]
  },
  {
   "cell_type": "code",
   "execution_count": 181,
   "metadata": {},
   "outputs": [
    {
     "name": "stdout",
     "output_type": "stream",
     "text": [
      "{'criterion': 'entropy', 'max_depth': 5, 'max_features': 0.25, 'n_estimators': 400}\n",
      "RandomForestClassifier(bootstrap=True, class_weight='balanced',\n",
      "                       criterion='entropy', max_depth=5, max_features=0.25,\n",
      "                       max_leaf_nodes=None, min_impurity_decrease=0.0,\n",
      "                       min_impurity_split=None, min_samples_leaf=1,\n",
      "                       min_samples_split=2, min_weight_fraction_leaf=0.0,\n",
      "                       n_estimators=400, n_jobs=None, oob_score=False,\n",
      "                       random_state=1, verbose=0, warm_start=False)\n",
      "0.5384653690053264\n"
     ]
    }
   ],
   "source": [
    "# Identify the best params \n",
    "print(rfc_CV.best_params_)\n",
    "print(rfc_CV.best_estimator_)\n",
    "\n",
    "\n",
    "#Identify the best score during fitting with cross-validation\n",
    "print(rfc_CV.best_score_)\n"
   ]
  },
  {
   "cell_type": "code",
   "execution_count": 182,
   "metadata": {},
   "outputs": [
    {
     "name": "stdout",
     "output_type": "stream",
     "text": [
      "Accuracy: 0.782\n",
      "F1: 0.5383529411764707\n"
     ]
    }
   ],
   "source": [
    "#predict on the test set\n",
    "test_preds_rfc_CV = rfc_CV.best_estimator_.predict(X_test)\n",
    "\n",
    "# checking accuracy and F1\n",
    "print(\"Accuracy:\",metrics.accuracy_score(y_test, test_preds_rfc_CV))\n",
    "print(\"F1:\",metrics.f1_score(y_test, test_preds_rfc_CV))"
   ]
  },
  {
   "cell_type": "code",
   "execution_count": 183,
   "metadata": {},
   "outputs": [],
   "source": [
    "#create a dictionary of all the parameters you want to tune\n",
    "param_grid3 = { \n",
    "    'n_estimators': [400, 500],\n",
    "    'max_features': [.2, .25],\n",
    "    'max_depth' : [4, 5, 6, 7],\n",
    "    'criterion' : ['gini']\n",
    "    \n",
    "}"
   ]
  },
  {
   "cell_type": "code",
   "execution_count": 184,
   "metadata": {},
   "outputs": [],
   "source": [
    "rfc_CV2 = RandomForestClassifier(random_state = 1, class_weight='balanced')"
   ]
  },
  {
   "cell_type": "code",
   "execution_count": 185,
   "metadata": {},
   "outputs": [
    {
     "name": "stdout",
     "output_type": "stream",
     "text": [
      "Fitting 7 folds for each of 16 candidates, totalling 112 fits\n"
     ]
    },
    {
     "name": "stderr",
     "output_type": "stream",
     "text": [
      "[Parallel(n_jobs=-1)]: Using backend LokyBackend with 4 concurrent workers.\n",
      "[Parallel(n_jobs=-1)]: Done  42 tasks      | elapsed:  1.2min\n",
      "[Parallel(n_jobs=-1)]: Done 112 out of 112 | elapsed:  3.7min finished\n"
     ]
    },
    {
     "data": {
      "text/plain": [
       "GridSearchCV(cv=7, error_score='raise-deprecating',\n",
       "             estimator=RandomForestClassifier(bootstrap=True,\n",
       "                                              class_weight='balanced',\n",
       "                                              criterion='gini', max_depth=None,\n",
       "                                              max_features='auto',\n",
       "                                              max_leaf_nodes=None,\n",
       "                                              min_impurity_decrease=0.0,\n",
       "                                              min_impurity_split=None,\n",
       "                                              min_samples_leaf=1,\n",
       "                                              min_samples_split=2,\n",
       "                                              min_weight_fraction_leaf=0.0,\n",
       "                                              n_estimators='warn', n_jobs=None,\n",
       "                                              oob_score=False, random_state=1,\n",
       "                                              verbose=0, warm_start=False),\n",
       "             iid='warn', n_jobs=-1,\n",
       "             param_grid={'criterion': ['gini'], 'max_depth': [4, 5, 6, 7],\n",
       "                         'max_features': [0.2, 0.25],\n",
       "                         'n_estimators': [400, 500]},\n",
       "             pre_dispatch='2*n_jobs', refit=True, return_train_score=False,\n",
       "             scoring='f1', verbose=1)"
      ]
     },
     "execution_count": 185,
     "metadata": {},
     "output_type": "execute_result"
    }
   ],
   "source": [
    "#create a grid search object and fit it to the data\n",
    "\n",
    "rfc_CV2 = GridSearchCV(estimator=rfc_CV2, param_grid=param_grid3, cv= 7, scoring='f1', verbose=1, n_jobs=-1)\n",
    "rfc_CV2.fit(X_train, y_train)"
   ]
  },
  {
   "cell_type": "code",
   "execution_count": 186,
   "metadata": {},
   "outputs": [
    {
     "name": "stdout",
     "output_type": "stream",
     "text": [
      "{'criterion': 'gini', 'max_depth': 5, 'max_features': 0.2, 'n_estimators': 400}\n",
      "RandomForestClassifier(bootstrap=True, class_weight='balanced',\n",
      "                       criterion='gini', max_depth=5, max_features=0.2,\n",
      "                       max_leaf_nodes=None, min_impurity_decrease=0.0,\n",
      "                       min_impurity_split=None, min_samples_leaf=1,\n",
      "                       min_samples_split=2, min_weight_fraction_leaf=0.0,\n",
      "                       n_estimators=400, n_jobs=None, oob_score=False,\n",
      "                       random_state=1, verbose=0, warm_start=False)\n",
      "0.5380691576989001\n"
     ]
    }
   ],
   "source": [
    "# Identify the best params \n",
    "print(rfc_CV2.best_params_)\n",
    "print(rfc_CV2.best_estimator_)\n",
    "\n",
    "\n",
    "#Identify the best score during fitting with cross-validation\n",
    "print(rfc_CV2.best_score_)\n"
   ]
  },
  {
   "cell_type": "code",
   "execution_count": 187,
   "metadata": {},
   "outputs": [
    {
     "name": "stdout",
     "output_type": "stream",
     "text": [
      "Accuracy: 0.7788888888888889\n",
      "F1: 0.5361305361305362\n"
     ]
    }
   ],
   "source": [
    "#predict on the test set\n",
    "test_preds_rfc_CV2 = rfc_CV2.best_estimator_.predict(X_test)\n",
    "\n",
    "# checking accuracy and F1\n",
    "print(\"Accuracy:\",metrics.accuracy_score(y_test, test_preds_rfc_CV2))\n",
    "print(\"F1:\",metrics.f1_score(y_test, test_preds_rfc_CV2))\n"
   ]
  },
  {
   "cell_type": "code",
   "execution_count": null,
   "metadata": {},
   "outputs": [],
   "source": []
  },
  {
   "cell_type": "code",
   "execution_count": 188,
   "metadata": {},
   "outputs": [],
   "source": [
    "# Instantiate the classifier using 100 trees\n",
    "from sklearn.ensemble import RandomForestClassifier\n",
    "rfc2 = RandomForestClassifier(random_state = 1, n_estimators=400, max_depth=5, max_features=.25, criterion='gini', class_weight='balanced')"
   ]
  },
  {
   "cell_type": "code",
   "execution_count": 189,
   "metadata": {},
   "outputs": [
    {
     "data": {
      "text/plain": [
       "RandomForestClassifier(bootstrap=True, class_weight='balanced',\n",
       "                       criterion='gini', max_depth=5, max_features=0.25,\n",
       "                       max_leaf_nodes=None, min_impurity_decrease=0.0,\n",
       "                       min_impurity_split=None, min_samples_leaf=1,\n",
       "                       min_samples_split=2, min_weight_fraction_leaf=0.0,\n",
       "                       n_estimators=400, n_jobs=None, oob_score=False,\n",
       "                       random_state=1, verbose=0, warm_start=False)"
      ]
     },
     "execution_count": 189,
     "metadata": {},
     "output_type": "execute_result"
    }
   ],
   "source": [
    "#fit the model to the training data\n",
    "rfc2.fit(X_train, y_train)"
   ]
  },
  {
   "cell_type": "code",
   "execution_count": 190,
   "metadata": {},
   "outputs": [
    {
     "name": "stdout",
     "output_type": "stream",
     "text": [
      "Test F1 score:  0.5383529411764707\n",
      "Test Accuracy score:  0.782\n"
     ]
    }
   ],
   "source": [
    "#use the fitted model to predict on the test data\n",
    "rfc2_preds = rfc2.predict(X_test)\n",
    "\n",
    "rfc2_f1 = metrics.f1_score(y_test, rfc2_preds)\n",
    "rfc2_acc = metrics.accuracy_score(y_test, rfc2_preds)\n",
    "\n",
    "# checking accuracy on the test data\n",
    "print('Test F1 score: ', rfc2_f1)\n",
    "print('Test Accuracy score: ', rfc2_acc)"
   ]
  },
  {
   "cell_type": "code",
   "execution_count": null,
   "metadata": {},
   "outputs": [],
   "source": []
  },
  {
   "cell_type": "code",
   "execution_count": 191,
   "metadata": {},
   "outputs": [
    {
     "name": "stdout",
     "output_type": "stream",
     "text": [
      "Fitting 5 folds for each of 8 candidates, totalling 40 fits\n"
     ]
    },
    {
     "name": "stderr",
     "output_type": "stream",
     "text": [
      "[Parallel(n_jobs=-1)]: Using backend LokyBackend with 4 concurrent workers.\n",
      "[Parallel(n_jobs=-1)]: Done  40 out of  40 | elapsed:    2.7s finished\n",
      "/Users/jventura/opt/anaconda3/envs/learn-env/lib/python3.6/site-packages/sklearn/linear_model/logistic.py:432: FutureWarning: Default solver will be changed to 'lbfgs' in 0.22. Specify a solver to silence this warning.\n",
      "  FutureWarning)\n"
     ]
    },
    {
     "name": "stdout",
     "output_type": "stream",
     "text": [
      "Test F1 score:  0.536636794939378\n",
      "Test Accuracy score:  0.8046666666666666\n"
     ]
    }
   ],
   "source": [
    "voting_clf = VotingClassifier(\n",
    "                estimators=[('knneighbors', knn), ('logreg', lr_CV), ('decisiontree', dtc), ('randomforest', rfc2)], \n",
    "                voting='soft')\n",
    "\n",
    "voting_clf.fit(X_train, y_train)\n",
    "\n",
    "vc_preds = voting_clf.predict(X_test)\n",
    "\n",
    "vc_f1 = metrics.f1_score(y_test, vc_preds)\n",
    "\n",
    "vc_acc = metrics.accuracy_score(y_test, vc_preds)\n",
    "\n",
    "print('Test F1 score: ', vc_f1)\n",
    "print('Test Accuracy score: ', vc_acc)"
   ]
  },
  {
   "cell_type": "code",
   "execution_count": null,
   "metadata": {},
   "outputs": [],
   "source": []
  },
  {
   "cell_type": "markdown",
   "metadata": {},
   "source": [
    "## 7. Final Model"
   ]
  },
  {
   "cell_type": "code",
   "execution_count": 195,
   "metadata": {},
   "outputs": [],
   "source": [
    "df1 = pd.read_csv('holdout_data.csv', index_col=0)\n",
    "df_bleh = pd.read_csv('training_data.csv')"
   ]
  },
  {
   "cell_type": "code",
   "execution_count": 196,
   "metadata": {},
   "outputs": [
    {
     "data": {
      "text/html": [
       "<div>\n",
       "<style scoped>\n",
       "    .dataframe tbody tr th:only-of-type {\n",
       "        vertical-align: middle;\n",
       "    }\n",
       "\n",
       "    .dataframe tbody tr th {\n",
       "        vertical-align: top;\n",
       "    }\n",
       "\n",
       "    .dataframe thead th {\n",
       "        text-align: right;\n",
       "    }\n",
       "</style>\n",
       "<table border=\"1\" class=\"dataframe\">\n",
       "  <thead>\n",
       "    <tr style=\"text-align: right;\">\n",
       "      <th></th>\n",
       "      <th>X1</th>\n",
       "      <th>X2</th>\n",
       "      <th>X3</th>\n",
       "      <th>X4</th>\n",
       "      <th>X5</th>\n",
       "      <th>X6</th>\n",
       "      <th>X7</th>\n",
       "      <th>X8</th>\n",
       "      <th>X9</th>\n",
       "      <th>X10</th>\n",
       "      <th>...</th>\n",
       "      <th>X14</th>\n",
       "      <th>X15</th>\n",
       "      <th>X16</th>\n",
       "      <th>X17</th>\n",
       "      <th>X18</th>\n",
       "      <th>X19</th>\n",
       "      <th>X20</th>\n",
       "      <th>X21</th>\n",
       "      <th>X22</th>\n",
       "      <th>X23</th>\n",
       "    </tr>\n",
       "  </thead>\n",
       "  <tbody>\n",
       "    <tr>\n",
       "      <td>5501</td>\n",
       "      <td>180000</td>\n",
       "      <td>2</td>\n",
       "      <td>2</td>\n",
       "      <td>1</td>\n",
       "      <td>44</td>\n",
       "      <td>0</td>\n",
       "      <td>0</td>\n",
       "      <td>0</td>\n",
       "      <td>0</td>\n",
       "      <td>0</td>\n",
       "      <td>...</td>\n",
       "      <td>170788</td>\n",
       "      <td>174764</td>\n",
       "      <td>162667</td>\n",
       "      <td>166953</td>\n",
       "      <td>10000</td>\n",
       "      <td>8000</td>\n",
       "      <td>7000</td>\n",
       "      <td>6000</td>\n",
       "      <td>7000</td>\n",
       "      <td>10000</td>\n",
       "    </tr>\n",
       "    <tr>\n",
       "      <td>28857</td>\n",
       "      <td>130000</td>\n",
       "      <td>2</td>\n",
       "      <td>2</td>\n",
       "      <td>1</td>\n",
       "      <td>48</td>\n",
       "      <td>-2</td>\n",
       "      <td>-2</td>\n",
       "      <td>-2</td>\n",
       "      <td>-2</td>\n",
       "      <td>-2</td>\n",
       "      <td>...</td>\n",
       "      <td>1487</td>\n",
       "      <td>1279</td>\n",
       "      <td>749</td>\n",
       "      <td>440</td>\n",
       "      <td>1240</td>\n",
       "      <td>1487</td>\n",
       "      <td>1279</td>\n",
       "      <td>749</td>\n",
       "      <td>440</td>\n",
       "      <td>849</td>\n",
       "    </tr>\n",
       "    <tr>\n",
       "      <td>11272</td>\n",
       "      <td>60000</td>\n",
       "      <td>2</td>\n",
       "      <td>1</td>\n",
       "      <td>1</td>\n",
       "      <td>43</td>\n",
       "      <td>-1</td>\n",
       "      <td>3</td>\n",
       "      <td>2</td>\n",
       "      <td>0</td>\n",
       "      <td>0</td>\n",
       "      <td>...</td>\n",
       "      <td>495</td>\n",
       "      <td>330</td>\n",
       "      <td>165</td>\n",
       "      <td>340</td>\n",
       "      <td>0</td>\n",
       "      <td>330</td>\n",
       "      <td>0</td>\n",
       "      <td>0</td>\n",
       "      <td>340</td>\n",
       "      <td>0</td>\n",
       "    </tr>\n",
       "    <tr>\n",
       "      <td>8206</td>\n",
       "      <td>240000</td>\n",
       "      <td>1</td>\n",
       "      <td>1</td>\n",
       "      <td>1</td>\n",
       "      <td>42</td>\n",
       "      <td>0</td>\n",
       "      <td>0</td>\n",
       "      <td>0</td>\n",
       "      <td>0</td>\n",
       "      <td>0</td>\n",
       "      <td>...</td>\n",
       "      <td>91027</td>\n",
       "      <td>51508</td>\n",
       "      <td>51127</td>\n",
       "      <td>0</td>\n",
       "      <td>20000</td>\n",
       "      <td>2213</td>\n",
       "      <td>1030</td>\n",
       "      <td>1023</td>\n",
       "      <td>6790</td>\n",
       "      <td>10893</td>\n",
       "    </tr>\n",
       "    <tr>\n",
       "      <td>6362</td>\n",
       "      <td>100000</td>\n",
       "      <td>2</td>\n",
       "      <td>2</td>\n",
       "      <td>1</td>\n",
       "      <td>28</td>\n",
       "      <td>2</td>\n",
       "      <td>0</td>\n",
       "      <td>0</td>\n",
       "      <td>0</td>\n",
       "      <td>0</td>\n",
       "      <td>...</td>\n",
       "      <td>70844</td>\n",
       "      <td>63924</td>\n",
       "      <td>57326</td>\n",
       "      <td>59654</td>\n",
       "      <td>3500</td>\n",
       "      <td>3003</td>\n",
       "      <td>1910</td>\n",
       "      <td>2400</td>\n",
       "      <td>3300</td>\n",
       "      <td>0</td>\n",
       "    </tr>\n",
       "  </tbody>\n",
       "</table>\n",
       "<p>5 rows × 23 columns</p>\n",
       "</div>"
      ],
      "text/plain": [
       "           X1  X2  X3  X4  X5  X6  X7  X8  X9  X10  ...     X14     X15  \\\n",
       "5501   180000   2   2   1  44   0   0   0   0    0  ...  170788  174764   \n",
       "28857  130000   2   2   1  48  -2  -2  -2  -2   -2  ...    1487    1279   \n",
       "11272   60000   2   1   1  43  -1   3   2   0    0  ...     495     330   \n",
       "8206   240000   1   1   1  42   0   0   0   0    0  ...   91027   51508   \n",
       "6362   100000   2   2   1  28   2   0   0   0    0  ...   70844   63924   \n",
       "\n",
       "          X16     X17    X18   X19   X20   X21   X22    X23  \n",
       "5501   162667  166953  10000  8000  7000  6000  7000  10000  \n",
       "28857     749     440   1240  1487  1279   749   440    849  \n",
       "11272     165     340      0   330     0     0   340      0  \n",
       "8206    51127       0  20000  2213  1030  1023  6790  10893  \n",
       "6362    57326   59654   3500  3003  1910  2400  3300      0  \n",
       "\n",
       "[5 rows x 23 columns]"
      ]
     },
     "execution_count": 196,
     "metadata": {},
     "output_type": "execute_result"
    }
   ],
   "source": [
    "df1.head()"
   ]
  },
  {
   "cell_type": "code",
   "execution_count": 204,
   "metadata": {},
   "outputs": [],
   "source": [
    "#headers = df_bleh.drop(columns='Y').loc['id']"
   ]
  },
  {
   "cell_type": "code",
   "execution_count": 197,
   "metadata": {},
   "outputs": [
    {
     "data": {
      "text/html": [
       "<div>\n",
       "<style scoped>\n",
       "    .dataframe tbody tr th:only-of-type {\n",
       "        vertical-align: middle;\n",
       "    }\n",
       "\n",
       "    .dataframe tbody tr th {\n",
       "        vertical-align: top;\n",
       "    }\n",
       "\n",
       "    .dataframe thead th {\n",
       "        text-align: right;\n",
       "    }\n",
       "</style>\n",
       "<table border=\"1\" class=\"dataframe\">\n",
       "  <thead>\n",
       "    <tr style=\"text-align: right;\">\n",
       "      <th></th>\n",
       "      <th>Unnamed: 0</th>\n",
       "      <th>X1</th>\n",
       "      <th>X2</th>\n",
       "      <th>X3</th>\n",
       "      <th>X4</th>\n",
       "      <th>X5</th>\n",
       "      <th>X6</th>\n",
       "      <th>X7</th>\n",
       "      <th>X8</th>\n",
       "      <th>X9</th>\n",
       "      <th>...</th>\n",
       "      <th>X15</th>\n",
       "      <th>X16</th>\n",
       "      <th>X17</th>\n",
       "      <th>X18</th>\n",
       "      <th>X19</th>\n",
       "      <th>X20</th>\n",
       "      <th>X21</th>\n",
       "      <th>X22</th>\n",
       "      <th>X23</th>\n",
       "      <th>Y</th>\n",
       "    </tr>\n",
       "  </thead>\n",
       "  <tbody>\n",
       "    <tr>\n",
       "      <td>0</td>\n",
       "      <td>28835</td>\n",
       "      <td>220000</td>\n",
       "      <td>2</td>\n",
       "      <td>1</td>\n",
       "      <td>2</td>\n",
       "      <td>36</td>\n",
       "      <td>0</td>\n",
       "      <td>0</td>\n",
       "      <td>0</td>\n",
       "      <td>0</td>\n",
       "      <td>...</td>\n",
       "      <td>221193</td>\n",
       "      <td>181859</td>\n",
       "      <td>184605</td>\n",
       "      <td>10000</td>\n",
       "      <td>8018</td>\n",
       "      <td>10121</td>\n",
       "      <td>6006</td>\n",
       "      <td>10987</td>\n",
       "      <td>143779</td>\n",
       "      <td>1</td>\n",
       "    </tr>\n",
       "    <tr>\n",
       "      <td>1</td>\n",
       "      <td>25329</td>\n",
       "      <td>200000</td>\n",
       "      <td>2</td>\n",
       "      <td>3</td>\n",
       "      <td>2</td>\n",
       "      <td>29</td>\n",
       "      <td>-1</td>\n",
       "      <td>-1</td>\n",
       "      <td>-1</td>\n",
       "      <td>-1</td>\n",
       "      <td>...</td>\n",
       "      <td>326</td>\n",
       "      <td>326</td>\n",
       "      <td>326</td>\n",
       "      <td>326</td>\n",
       "      <td>326</td>\n",
       "      <td>326</td>\n",
       "      <td>326</td>\n",
       "      <td>326</td>\n",
       "      <td>326</td>\n",
       "      <td>0</td>\n",
       "    </tr>\n",
       "    <tr>\n",
       "      <td>2</td>\n",
       "      <td>18894</td>\n",
       "      <td>180000</td>\n",
       "      <td>2</td>\n",
       "      <td>1</td>\n",
       "      <td>2</td>\n",
       "      <td>27</td>\n",
       "      <td>-2</td>\n",
       "      <td>-2</td>\n",
       "      <td>-2</td>\n",
       "      <td>-2</td>\n",
       "      <td>...</td>\n",
       "      <td>0</td>\n",
       "      <td>0</td>\n",
       "      <td>0</td>\n",
       "      <td>0</td>\n",
       "      <td>0</td>\n",
       "      <td>0</td>\n",
       "      <td>0</td>\n",
       "      <td>0</td>\n",
       "      <td>0</td>\n",
       "      <td>0</td>\n",
       "    </tr>\n",
       "    <tr>\n",
       "      <td>3</td>\n",
       "      <td>690</td>\n",
       "      <td>80000</td>\n",
       "      <td>1</td>\n",
       "      <td>2</td>\n",
       "      <td>2</td>\n",
       "      <td>32</td>\n",
       "      <td>0</td>\n",
       "      <td>0</td>\n",
       "      <td>0</td>\n",
       "      <td>0</td>\n",
       "      <td>...</td>\n",
       "      <td>43882</td>\n",
       "      <td>42256</td>\n",
       "      <td>42527</td>\n",
       "      <td>1853</td>\n",
       "      <td>1700</td>\n",
       "      <td>1522</td>\n",
       "      <td>1548</td>\n",
       "      <td>1488</td>\n",
       "      <td>1500</td>\n",
       "      <td>0</td>\n",
       "    </tr>\n",
       "    <tr>\n",
       "      <td>4</td>\n",
       "      <td>6239</td>\n",
       "      <td>10000</td>\n",
       "      <td>1</td>\n",
       "      <td>2</td>\n",
       "      <td>2</td>\n",
       "      <td>27</td>\n",
       "      <td>0</td>\n",
       "      <td>0</td>\n",
       "      <td>0</td>\n",
       "      <td>0</td>\n",
       "      <td>...</td>\n",
       "      <td>5444</td>\n",
       "      <td>2639</td>\n",
       "      <td>2697</td>\n",
       "      <td>2000</td>\n",
       "      <td>1100</td>\n",
       "      <td>600</td>\n",
       "      <td>300</td>\n",
       "      <td>300</td>\n",
       "      <td>1000</td>\n",
       "      <td>1</td>\n",
       "    </tr>\n",
       "  </tbody>\n",
       "</table>\n",
       "<p>5 rows × 25 columns</p>\n",
       "</div>"
      ],
      "text/plain": [
       "  Unnamed: 0      X1 X2 X3 X4  X5  X6  X7  X8  X9  ...     X15     X16  \\\n",
       "0      28835  220000  2  1  2  36   0   0   0   0  ...  221193  181859   \n",
       "1      25329  200000  2  3  2  29  -1  -1  -1  -1  ...     326     326   \n",
       "2      18894  180000  2  1  2  27  -2  -2  -2  -2  ...       0       0   \n",
       "3        690   80000  1  2  2  32   0   0   0   0  ...   43882   42256   \n",
       "4       6239   10000  1  2  2  27   0   0   0   0  ...    5444    2639   \n",
       "\n",
       "      X17    X18   X19    X20   X21    X22     X23  Y  \n",
       "0  184605  10000  8018  10121  6006  10987  143779  1  \n",
       "1     326    326   326    326   326    326     326  0  \n",
       "2       0      0     0      0     0      0       0  0  \n",
       "3   42527   1853  1700   1522  1548   1488    1500  0  \n",
       "4    2697   2000  1100    600   300    300    1000  1  \n",
       "\n",
       "[5 rows x 25 columns]"
      ]
     },
     "execution_count": 197,
     "metadata": {},
     "output_type": "execute_result"
    }
   ],
   "source": [
    "df_bleh.head()"
   ]
  },
  {
   "cell_type": "code",
   "execution_count": 205,
   "metadata": {},
   "outputs": [
    {
     "data": {
      "text/plain": [
       "Index(['X1', 'X2', 'X3', 'X4', 'X5', 'X6', 'X7', 'X8', 'X9', 'X10', 'X11',\n",
       "       'X12', 'X13', 'X14', 'X15', 'X16', 'X17', 'X18', 'X19', 'X20', 'X21',\n",
       "       'X22', 'X23'],\n",
       "      dtype='object')"
      ]
     },
     "execution_count": 205,
     "metadata": {},
     "output_type": "execute_result"
    }
   ],
   "source": [
    "#df1.columns = df_bleh.drop(columns='Y').loc['Unnamed: 0']\n",
    "df1.columns"
   ]
  },
  {
   "cell_type": "code",
   "execution_count": 247,
   "metadata": {},
   "outputs": [],
   "source": [
    "def jps_df_pipeline(datafilecsv):\n",
    "    '''\n",
    "    pipeline function for data prossing of credit default data\n",
    "    '''\n",
    "    \n",
    "    df = pd.read_csv(datafilecsv)\n",
    "    \n",
    "    cols = ['Unnamed: 0', 'X1','X2','X3','X4','X5','X6','X7','X8','X9','X10','X11', 'X12', 'X13', 'X14', 'X15', 'X16', 'X17', 'X18', 'X19', 'X20', 'X21', 'X22', 'X23']\n",
    "    df[cols] = df[cols].apply(pd.to_numeric, errors='coerce')\n",
    "        \n",
    "    rnm_dict = {'Unnamed: 0': 'id',\n",
    "                'X1' :'given_credit',\n",
    "                'X2' :'gender',\n",
    "                'X3' :'education',\n",
    "                'X4' :'mar_status',\n",
    "                'X5' :'age',\n",
    "                'X6' :'paystatus_09',\n",
    "                'X7' :'paystatus_08',\n",
    "                'X8' :'paystatus_07',\n",
    "                'X9' :'paystatus_06',\n",
    "                'X10':'paystatus_05',\n",
    "                'X11':'paystatus_04',\n",
    "                'X12':'billamt_09',\n",
    "                'X13':'billamt_08',\n",
    "                'X14':'billamt_07',\n",
    "                'X15':'billamt_06',\n",
    "                'X16':'billamt_05',\n",
    "                'X17':'billamt_04',\n",
    "                'X18':'payamt_09', \n",
    "                'X19':'payamt_08',\n",
    "                'X20':'payamt_07',\n",
    "                'X21':'payamt_06',\n",
    "                'X22':'payamt_05',\n",
    "                'X23':'payamt_04'\n",
    "               }\n",
    "\n",
    "    df.rename(columns = rnm_dict, inplace = True)\n",
    "\n",
    "    df = df.dropna(axis=0)\n",
    "    \n",
    "    int_list = ['id', 'gender', 'education', 'mar_status', 'age', 'paystatus_09', 'paystatus_08', 'paystatus_07', 'paystatus_06', 'paystatus_05', 'paystatus_04']\n",
    "\n",
    "    for i in int_list:\n",
    "        df[i] = df[i].astype('int')\n",
    "    \n",
    "    df.sort_values(by='given_credit', ascending=False,inplace=True)\n",
    "    \n",
    "    df.education = np.where( df.education > 4, 4, df.education ) \n",
    "    df.education = np.where( df.education < 1, 4, df.education ) \n",
    "    \n",
    "    df.mar_status = np.where( df.mar_status < 1, 3 , df.mar_status ) \n",
    "            \n",
    "    ### FEATURE ENGINEERING\n",
    "            \n",
    "    df['pay_ratio_09'] = (df['payamt_09']/df['billamt_09'])\n",
    "    df['pay_ratio_08'] = (df['payamt_08']/df['billamt_08'])\n",
    "    df['pay_ratio_07'] = (df['payamt_07']/df['billamt_07'])\n",
    "    df['pay_ratio_06'] = (df['payamt_06']/df['billamt_06'])\n",
    "    df['pay_ratio_05'] = (df['payamt_05']/df['billamt_05'])\n",
    "    df['pay_ratio_04'] = (df['payamt_04']/df['billamt_04'])\n",
    "            \n",
    "    df.pay_ratio_09.fillna(1, inplace=True)\n",
    "    df.pay_ratio_08.fillna(1, inplace=True)\n",
    "    df.pay_ratio_07.fillna(1, inplace=True)\n",
    "    df.pay_ratio_06.fillna(1, inplace=True)\n",
    "    df.pay_ratio_05.fillna(1, inplace=True)\n",
    "    df.pay_ratio_04.fillna(1, inplace=True)\n",
    "            \n",
    "    df.pay_ratio_09 = np.where(((df.pay_ratio_09 < 0)|(df.pay_ratio_09 > 1)), 1, df.pay_ratio_09)\n",
    "    df.pay_ratio_08 = np.where(((df.pay_ratio_08 < 0)|(df.pay_ratio_08 > 1)), 1, df.pay_ratio_08)\n",
    "    df.pay_ratio_07 = np.where(((df.pay_ratio_07 < 0)|(df.pay_ratio_07 > 1)), 1, df.pay_ratio_07)\n",
    "    df.pay_ratio_06 = np.where(((df.pay_ratio_06 < 0)|(df.pay_ratio_06 > 1)), 1, df.pay_ratio_06)\n",
    "    df.pay_ratio_05 = np.where(((df.pay_ratio_05 < 0)|(df.pay_ratio_05 > 1)), 1, df.pay_ratio_05)\n",
    "    df.pay_ratio_04 = np.where(((df.pay_ratio_04 < 0)|(df.pay_ratio_04 > 1)), 1, df.pay_ratio_04)\n",
    "            \n",
    "    df['avg_bill_stmt'] = (df.billamt_09 + df.billamt_08 + df.billamt_07 + df.billamt_06 + df.billamt_05 + df.billamt_04) / 6\n",
    "    df['avg_amt_paid'] = (df.payamt_09 + df.payamt_08 + df.payamt_07 + df.payamt_06 + df.payamt_05 + df.payamt_04) / 6\n",
    "    df['gross_pay_ratio']= df.avg_amt_paid / df.avg_bill_stmt\n",
    "            \n",
    "    \n",
    "    df.gross_pay_ratio.fillna(1, inplace=True)\n",
    "    df.replace(np.inf, 1, inplace=True)\n",
    "    df.gross_pay_ratio = np.where(((df.gross_pay_ratio < 0)|(df.gross_pay_ratio > 1)), 1, df.gross_pay_ratio)\n",
    "    \n",
    "    df = pd.get_dummies(df, columns=['gender', 'education', 'mar_status', 'paystatus_09', 'paystatus_08',\n",
    "       'paystatus_07', 'paystatus_06', 'paystatus_05', 'paystatus_04'], drop_first=True)\n",
    "            \n",
    "    ### feature selection was done using lasso.\n",
    "    working_df = df[['given_credit',\n",
    "                     'paystatus_09_0',\n",
    "                     'avg_amt_paid',\n",
    "                     'gender_2',\n",
    "                     'mar_status_2',\n",
    "                     'paystatus_07_-1',\n",
    "                     'education_4',\n",
    "                     'paystatus_04_0',\n",
    "                     'payamt_09',\n",
    "                     'paystatus_05_3',\n",
    "                     'paystatus_08_6',\n",
    "                     'paystatus_09_4',\n",
    "                     'paystatus_08_3',\n",
    "                     'paystatus_04_3',\n",
    "                     'paystatus_06_2',\n",
    "                     'paystatus_05_2',\n",
    "                     'paystatus_09_1',\n",
    "                     'paystatus_04_2',\n",
    "                     'paystatus_07_2',\n",
    "                     'paystatus_08_2',\n",
    "                     'paystatus_09_3',\n",
    "                     'paystatus_09_2']]\n",
    "    \n",
    "    scaler = StandardScaler()\n",
    "    \n",
    "    scaler.fit(working_df)\n",
    "    \n",
    "    scaled_df = pd.DataFrame(data = scaler.transform(working_df.drop()), columns = working_df.columns)\n",
    "    \n",
    "    return scaled_df\n",
    "    \n"
   ]
  },
  {
   "cell_type": "code",
   "execution_count": 206,
   "metadata": {},
   "outputs": [],
   "source": [
    "df = df1"
   ]
  },
  {
   "cell_type": "code",
   "execution_count": 220,
   "metadata": {},
   "outputs": [
    {
     "data": {
      "text/html": [
       "<div>\n",
       "<style scoped>\n",
       "    .dataframe tbody tr th:only-of-type {\n",
       "        vertical-align: middle;\n",
       "    }\n",
       "\n",
       "    .dataframe tbody tr th {\n",
       "        vertical-align: top;\n",
       "    }\n",
       "\n",
       "    .dataframe thead th {\n",
       "        text-align: right;\n",
       "    }\n",
       "</style>\n",
       "<table border=\"1\" class=\"dataframe\">\n",
       "  <thead>\n",
       "    <tr style=\"text-align: right;\">\n",
       "      <th></th>\n",
       "      <th>X1</th>\n",
       "      <th>X2</th>\n",
       "      <th>X3</th>\n",
       "      <th>X4</th>\n",
       "      <th>X5</th>\n",
       "      <th>X6</th>\n",
       "      <th>X7</th>\n",
       "      <th>X8</th>\n",
       "      <th>X9</th>\n",
       "      <th>X10</th>\n",
       "      <th>...</th>\n",
       "      <th>X14</th>\n",
       "      <th>X15</th>\n",
       "      <th>X16</th>\n",
       "      <th>X17</th>\n",
       "      <th>X18</th>\n",
       "      <th>X19</th>\n",
       "      <th>X20</th>\n",
       "      <th>X21</th>\n",
       "      <th>X22</th>\n",
       "      <th>X23</th>\n",
       "    </tr>\n",
       "  </thead>\n",
       "  <tbody>\n",
       "    <tr>\n",
       "      <td>5501</td>\n",
       "      <td>180000</td>\n",
       "      <td>2</td>\n",
       "      <td>2</td>\n",
       "      <td>1</td>\n",
       "      <td>44</td>\n",
       "      <td>0</td>\n",
       "      <td>0</td>\n",
       "      <td>0</td>\n",
       "      <td>0</td>\n",
       "      <td>0</td>\n",
       "      <td>...</td>\n",
       "      <td>170788</td>\n",
       "      <td>174764</td>\n",
       "      <td>162667</td>\n",
       "      <td>166953</td>\n",
       "      <td>10000</td>\n",
       "      <td>8000</td>\n",
       "      <td>7000</td>\n",
       "      <td>6000</td>\n",
       "      <td>7000</td>\n",
       "      <td>10000</td>\n",
       "    </tr>\n",
       "    <tr>\n",
       "      <td>28857</td>\n",
       "      <td>130000</td>\n",
       "      <td>2</td>\n",
       "      <td>2</td>\n",
       "      <td>1</td>\n",
       "      <td>48</td>\n",
       "      <td>-2</td>\n",
       "      <td>-2</td>\n",
       "      <td>-2</td>\n",
       "      <td>-2</td>\n",
       "      <td>-2</td>\n",
       "      <td>...</td>\n",
       "      <td>1487</td>\n",
       "      <td>1279</td>\n",
       "      <td>749</td>\n",
       "      <td>440</td>\n",
       "      <td>1240</td>\n",
       "      <td>1487</td>\n",
       "      <td>1279</td>\n",
       "      <td>749</td>\n",
       "      <td>440</td>\n",
       "      <td>849</td>\n",
       "    </tr>\n",
       "    <tr>\n",
       "      <td>11272</td>\n",
       "      <td>60000</td>\n",
       "      <td>2</td>\n",
       "      <td>1</td>\n",
       "      <td>1</td>\n",
       "      <td>43</td>\n",
       "      <td>-1</td>\n",
       "      <td>3</td>\n",
       "      <td>2</td>\n",
       "      <td>0</td>\n",
       "      <td>0</td>\n",
       "      <td>...</td>\n",
       "      <td>495</td>\n",
       "      <td>330</td>\n",
       "      <td>165</td>\n",
       "      <td>340</td>\n",
       "      <td>0</td>\n",
       "      <td>330</td>\n",
       "      <td>0</td>\n",
       "      <td>0</td>\n",
       "      <td>340</td>\n",
       "      <td>0</td>\n",
       "    </tr>\n",
       "    <tr>\n",
       "      <td>8206</td>\n",
       "      <td>240000</td>\n",
       "      <td>1</td>\n",
       "      <td>1</td>\n",
       "      <td>1</td>\n",
       "      <td>42</td>\n",
       "      <td>0</td>\n",
       "      <td>0</td>\n",
       "      <td>0</td>\n",
       "      <td>0</td>\n",
       "      <td>0</td>\n",
       "      <td>...</td>\n",
       "      <td>91027</td>\n",
       "      <td>51508</td>\n",
       "      <td>51127</td>\n",
       "      <td>0</td>\n",
       "      <td>20000</td>\n",
       "      <td>2213</td>\n",
       "      <td>1030</td>\n",
       "      <td>1023</td>\n",
       "      <td>6790</td>\n",
       "      <td>10893</td>\n",
       "    </tr>\n",
       "    <tr>\n",
       "      <td>6362</td>\n",
       "      <td>100000</td>\n",
       "      <td>2</td>\n",
       "      <td>2</td>\n",
       "      <td>1</td>\n",
       "      <td>28</td>\n",
       "      <td>2</td>\n",
       "      <td>0</td>\n",
       "      <td>0</td>\n",
       "      <td>0</td>\n",
       "      <td>0</td>\n",
       "      <td>...</td>\n",
       "      <td>70844</td>\n",
       "      <td>63924</td>\n",
       "      <td>57326</td>\n",
       "      <td>59654</td>\n",
       "      <td>3500</td>\n",
       "      <td>3003</td>\n",
       "      <td>1910</td>\n",
       "      <td>2400</td>\n",
       "      <td>3300</td>\n",
       "      <td>0</td>\n",
       "    </tr>\n",
       "  </tbody>\n",
       "</table>\n",
       "<p>5 rows × 23 columns</p>\n",
       "</div>"
      ],
      "text/plain": [
       "           X1  X2  X3  X4  X5  X6  X7  X8  X9  X10  ...     X14     X15  \\\n",
       "5501   180000   2   2   1  44   0   0   0   0    0  ...  170788  174764   \n",
       "28857  130000   2   2   1  48  -2  -2  -2  -2   -2  ...    1487    1279   \n",
       "11272   60000   2   1   1  43  -1   3   2   0    0  ...     495     330   \n",
       "8206   240000   1   1   1  42   0   0   0   0    0  ...   91027   51508   \n",
       "6362   100000   2   2   1  28   2   0   0   0    0  ...   70844   63924   \n",
       "\n",
       "          X16     X17    X18   X19   X20   X21   X22    X23  \n",
       "5501   162667  166953  10000  8000  7000  6000  7000  10000  \n",
       "28857     749     440   1240  1487  1279   749   440    849  \n",
       "11272     165     340      0   330     0     0   340      0  \n",
       "8206    51127       0  20000  2213  1030  1023  6790  10893  \n",
       "6362    57326   59654   3500  3003  1910  2400  3300      0  \n",
       "\n",
       "[5 rows x 23 columns]"
      ]
     },
     "execution_count": 220,
     "metadata": {},
     "output_type": "execute_result"
    }
   ],
   "source": [
    "df1.head()"
   ]
  },
  {
   "cell_type": "code",
   "execution_count": 246,
   "metadata": {},
   "outputs": [],
   "source": [
    "import pickle \n",
    "\n",
    "rfc2_model  = rfc2\n",
    "best_model = 'bestmodel.sav'\n",
    "pickle.dump(rfc2_model, open(best_model, 'wb'))\n",
    "\n",
    "\n",
    "\n"
   ]
  },
  {
   "cell_type": "code",
   "execution_count": null,
   "metadata": {},
   "outputs": [],
   "source": []
  },
  {
   "cell_type": "code",
   "execution_count": null,
   "metadata": {},
   "outputs": [],
   "source": []
  },
  {
   "cell_type": "code",
   "execution_count": null,
   "metadata": {},
   "outputs": [],
   "source": []
  },
  {
   "cell_type": "code",
   "execution_count": null,
   "metadata": {},
   "outputs": [],
   "source": []
  },
  {
   "cell_type": "code",
   "execution_count": null,
   "metadata": {},
   "outputs": [],
   "source": []
  },
  {
   "cell_type": "code",
   "execution_count": null,
   "metadata": {},
   "outputs": [],
   "source": []
  },
  {
   "cell_type": "code",
   "execution_count": null,
   "metadata": {},
   "outputs": [],
   "source": []
  },
  {
   "cell_type": "code",
   "execution_count": null,
   "metadata": {},
   "outputs": [],
   "source": []
  },
  {
   "cell_type": "code",
   "execution_count": 156,
   "metadata": {},
   "outputs": [],
   "source": [
    "df1 = df.astype(float)\n",
    "df1['education']=np.where(df1['educationeducation'['education'])\n",
    "df1['education']=np.where(data['education']<1,4,data['education'])\n",
    "df1['mar_status']=np.where(data['mar_status']<1,3,data['mar_status'])"
   ]
  },
  {
   "cell_type": "code",
   "execution_count": 157,
   "metadata": {},
   "outputs": [],
   "source": [
    "clean_df = pd.get_dummies(data, columns=['SEX', 'EDUCATION', 'MARRIAGE', 'PAY_0', 'PAY_2',\n",
    "       'PAY_3', 'PAY_4', 'PAY_5', 'PAY_6'], drop_first=True)"
   ]
  },
  {
   "cell_type": "code",
   "execution_count": 158,
   "metadata": {},
   "outputs": [],
   "source": [
    "clean_df['PAY_RATIO_1'] = (clean_df['PAY_AMT1']/clean_df['BILL_AMT1'])\n",
    "clean_df['PAY_RATIO_2'] = (clean_df['PAY_AMT2']/clean_df['BILL_AMT2'])\n",
    "clean_df['PAY_RATIO_3'] = (clean_df['PAY_AMT3']/clean_df['BILL_AMT3'])\n",
    "clean_df['PAY_RATIO_4'] = (clean_df['PAY_AMT4']/clean_df['BILL_AMT4'])\n",
    "clean_df['PAY_RATIO_5'] = (clean_df['PAY_AMT5']/clean_df['BILL_AMT5'])\n",
    "clean_df['PAY_RATIO_6'] = (clean_df['PAY_AMT6']/clean_df['BILL_AMT6'])\n"
   ]
  },
  {
   "cell_type": "code",
   "execution_count": 159,
   "metadata": {},
   "outputs": [],
   "source": [
    "clean_df.PAY_RATIO_1.fillna(1, inplace=True)\n",
    "clean_df.PAY_RATIO_2.fillna(1, inplace=True)\n",
    "clean_df.PAY_RATIO_3.fillna(1, inplace=True)\n",
    "clean_df.PAY_RATIO_4.fillna(1, inplace=True)\n",
    "clean_df.PAY_RATIO_5.fillna(1, inplace=True)\n",
    "clean_df.PAY_RATIO_6.fillna(1, inplace=True)"
   ]
  },
  {
   "cell_type": "code",
   "execution_count": 160,
   "metadata": {},
   "outputs": [],
   "source": [
    "clean_df.PAY_RATIO_1 = np.where(((clean_df.PAY_RATIO_1 < 0)|(clean_df.PAY_RATIO_1 > 1)), 1, clean_df.PAY_RATIO_1)\n",
    "clean_df.PAY_RATIO_2 = np.where(((clean_df.PAY_RATIO_2 < 0)|(clean_df.PAY_RATIO_2 > 1)), 1, clean_df.PAY_RATIO_2)\n",
    "clean_df.PAY_RATIO_3 = np.where(((clean_df.PAY_RATIO_3 < 0)|(clean_df.PAY_RATIO_3 > 1)), 1, clean_df.PAY_RATIO_3)\n",
    "clean_df.PAY_RATIO_4 = np.where(((clean_df.PAY_RATIO_4 < 0)|(clean_df.PAY_RATIO_4 > 1)), 1, clean_df.PAY_RATIO_4)\n",
    "clean_df.PAY_RATIO_5 = np.where(((clean_df.PAY_RATIO_5 < 0)|(clean_df.PAY_RATIO_5 > 1)), 1, clean_df.PAY_RATIO_5)\n",
    "clean_df.PAY_RATIO_6 = np.where(((clean_df.PAY_RATIO_6 < 0)|(clean_df.PAY_RATIO_6 > 1)), 1, clean_df.PAY_RATIO_6)"
   ]
  },
  {
   "cell_type": "code",
   "execution_count": 161,
   "metadata": {},
   "outputs": [],
   "source": [
    "clean_df['AVG_BILL_STMT'] = (clean_df['BILL_AMT1']+clean_df['BILL_AMT2']+clean_df['BILL_AMT3']+clean_df['BILL_AMT4']+clean_df['BILL_AMT5']+clean_df['BILL_AMT6'])/6\n",
    "clean_df['AVG_AMT_PAID'] = (clean_df['PAY_AMT1']+clean_df['PAY_AMT2']+clean_df['PAY_AMT3']+clean_df['PAY_AMT4']+clean_df['PAY_AMT5']+clean_df['PAY_AMT6'])/6\n"
   ]
  },
  {
   "cell_type": "code",
   "execution_count": 162,
   "metadata": {},
   "outputs": [],
   "source": [
    "clean_df['PAY_RATIO']= clean_df['AVG_AMT_PAID']/clean_df['AVG_BILL_STMT']"
   ]
  },
  {
   "cell_type": "code",
   "execution_count": 163,
   "metadata": {},
   "outputs": [],
   "source": [
    "clean_df.PAY_RATIO.fillna(1, inplace=True)\n",
    "clean_df.replace(np.inf, 1, inplace=True)\n",
    "clean_df.PAY_RATIO = np.where(((clean_df.PAY_RATIO < 0)|(clean_df.PAY_RATIO > 1)), 1, clean_df.PAY_RATIO)"
   ]
  },
  {
   "cell_type": "code",
   "execution_count": 165,
   "metadata": {},
   "outputs": [],
   "source": [
    "working_df = clean_df[['PAY_0_0.0','LIMIT_BAL','AVG_AMT_PAID','PAY_3_-1.0','MARRIAGE_2.0','EDUCATION_4.0','PAY_5_7.0','PAY_2_6.0','PAY_0_7.0','PAY_3_6.0','PAY_5_3.0','PAY_4_7.0','PAY_3_3.0','PAY_0_4.0','PAY_2_3.0','PAY_6_3.0','PAY_4_2.0','PAY_0_1.0','PAY_3_2.0','PAY_6_2.0','PAY_5_2.0','PAY_2_2.0','PAY_0_3.0','PAY_0_2.0']]"
   ]
  },
  {
   "cell_type": "code",
   "execution_count": 166,
   "metadata": {},
   "outputs": [
    {
     "data": {
      "text/html": [
       "<div>\n",
       "<style scoped>\n",
       "    .dataframe tbody tr th:only-of-type {\n",
       "        vertical-align: middle;\n",
       "    }\n",
       "\n",
       "    .dataframe tbody tr th {\n",
       "        vertical-align: top;\n",
       "    }\n",
       "\n",
       "    .dataframe thead th {\n",
       "        text-align: right;\n",
       "    }\n",
       "</style>\n",
       "<table border=\"1\" class=\"dataframe\">\n",
       "  <thead>\n",
       "    <tr style=\"text-align: right;\">\n",
       "      <th></th>\n",
       "      <th>PAY_0_0.0</th>\n",
       "      <th>LIMIT_BAL</th>\n",
       "      <th>AVG_AMT_PAID</th>\n",
       "      <th>PAY_3_-1.0</th>\n",
       "      <th>MARRIAGE_2.0</th>\n",
       "      <th>EDUCATION_4.0</th>\n",
       "      <th>PAY_5_7.0</th>\n",
       "      <th>PAY_2_6.0</th>\n",
       "      <th>PAY_0_7.0</th>\n",
       "      <th>PAY_3_6.0</th>\n",
       "      <th>PAY_5_3.0</th>\n",
       "      <th>PAY_4_7.0</th>\n",
       "      <th>PAY_3_3.0</th>\n",
       "      <th>PAY_0_4.0</th>\n",
       "      <th>PAY_2_3.0</th>\n",
       "      <th>PAY_6_3.0</th>\n",
       "      <th>PAY_4_2.0</th>\n",
       "      <th>PAY_0_1.0</th>\n",
       "      <th>PAY_3_2.0</th>\n",
       "      <th>PAY_6_2.0</th>\n",
       "      <th>PAY_5_2.0</th>\n",
       "      <th>PAY_2_2.0</th>\n",
       "      <th>PAY_0_3.0</th>\n",
       "      <th>PAY_0_2.0</th>\n",
       "    </tr>\n",
       "  </thead>\n",
       "  <tbody>\n",
       "    <tr>\n",
       "      <th>5501</th>\n",
       "      <td>1</td>\n",
       "      <td>180000.0</td>\n",
       "      <td>8000.000000</td>\n",
       "      <td>0</td>\n",
       "      <td>0</td>\n",
       "      <td>0</td>\n",
       "      <td>0</td>\n",
       "      <td>0</td>\n",
       "      <td>0</td>\n",
       "      <td>0</td>\n",
       "      <td>0</td>\n",
       "      <td>0</td>\n",
       "      <td>0</td>\n",
       "      <td>0</td>\n",
       "      <td>0</td>\n",
       "      <td>0</td>\n",
       "      <td>0</td>\n",
       "      <td>0</td>\n",
       "      <td>0</td>\n",
       "      <td>0</td>\n",
       "      <td>0</td>\n",
       "      <td>0</td>\n",
       "      <td>0</td>\n",
       "      <td>0</td>\n",
       "    </tr>\n",
       "    <tr>\n",
       "      <th>28857</th>\n",
       "      <td>0</td>\n",
       "      <td>130000.0</td>\n",
       "      <td>1007.333333</td>\n",
       "      <td>0</td>\n",
       "      <td>0</td>\n",
       "      <td>0</td>\n",
       "      <td>0</td>\n",
       "      <td>0</td>\n",
       "      <td>0</td>\n",
       "      <td>0</td>\n",
       "      <td>0</td>\n",
       "      <td>0</td>\n",
       "      <td>0</td>\n",
       "      <td>0</td>\n",
       "      <td>0</td>\n",
       "      <td>0</td>\n",
       "      <td>0</td>\n",
       "      <td>0</td>\n",
       "      <td>0</td>\n",
       "      <td>0</td>\n",
       "      <td>0</td>\n",
       "      <td>0</td>\n",
       "      <td>0</td>\n",
       "      <td>0</td>\n",
       "    </tr>\n",
       "    <tr>\n",
       "      <th>11272</th>\n",
       "      <td>0</td>\n",
       "      <td>60000.0</td>\n",
       "      <td>111.666667</td>\n",
       "      <td>0</td>\n",
       "      <td>0</td>\n",
       "      <td>0</td>\n",
       "      <td>0</td>\n",
       "      <td>0</td>\n",
       "      <td>0</td>\n",
       "      <td>0</td>\n",
       "      <td>0</td>\n",
       "      <td>0</td>\n",
       "      <td>0</td>\n",
       "      <td>0</td>\n",
       "      <td>1</td>\n",
       "      <td>0</td>\n",
       "      <td>0</td>\n",
       "      <td>0</td>\n",
       "      <td>1</td>\n",
       "      <td>0</td>\n",
       "      <td>0</td>\n",
       "      <td>0</td>\n",
       "      <td>0</td>\n",
       "      <td>0</td>\n",
       "    </tr>\n",
       "    <tr>\n",
       "      <th>8206</th>\n",
       "      <td>1</td>\n",
       "      <td>240000.0</td>\n",
       "      <td>6991.500000</td>\n",
       "      <td>0</td>\n",
       "      <td>0</td>\n",
       "      <td>0</td>\n",
       "      <td>0</td>\n",
       "      <td>0</td>\n",
       "      <td>0</td>\n",
       "      <td>0</td>\n",
       "      <td>0</td>\n",
       "      <td>0</td>\n",
       "      <td>0</td>\n",
       "      <td>0</td>\n",
       "      <td>0</td>\n",
       "      <td>0</td>\n",
       "      <td>0</td>\n",
       "      <td>0</td>\n",
       "      <td>0</td>\n",
       "      <td>0</td>\n",
       "      <td>0</td>\n",
       "      <td>0</td>\n",
       "      <td>0</td>\n",
       "      <td>0</td>\n",
       "    </tr>\n",
       "    <tr>\n",
       "      <th>6362</th>\n",
       "      <td>0</td>\n",
       "      <td>100000.0</td>\n",
       "      <td>2352.166667</td>\n",
       "      <td>0</td>\n",
       "      <td>0</td>\n",
       "      <td>0</td>\n",
       "      <td>0</td>\n",
       "      <td>0</td>\n",
       "      <td>0</td>\n",
       "      <td>0</td>\n",
       "      <td>0</td>\n",
       "      <td>0</td>\n",
       "      <td>0</td>\n",
       "      <td>0</td>\n",
       "      <td>0</td>\n",
       "      <td>0</td>\n",
       "      <td>0</td>\n",
       "      <td>0</td>\n",
       "      <td>0</td>\n",
       "      <td>1</td>\n",
       "      <td>0</td>\n",
       "      <td>0</td>\n",
       "      <td>0</td>\n",
       "      <td>1</td>\n",
       "    </tr>\n",
       "  </tbody>\n",
       "</table>\n",
       "</div>"
      ],
      "text/plain": [
       "       PAY_0_0.0  LIMIT_BAL  AVG_AMT_PAID  PAY_3_-1.0  MARRIAGE_2.0  \\\n",
       "5501           1   180000.0   8000.000000           0             0   \n",
       "28857          0   130000.0   1007.333333           0             0   \n",
       "11272          0    60000.0    111.666667           0             0   \n",
       "8206           1   240000.0   6991.500000           0             0   \n",
       "6362           0   100000.0   2352.166667           0             0   \n",
       "\n",
       "       EDUCATION_4.0  PAY_5_7.0  PAY_2_6.0  PAY_0_7.0  PAY_3_6.0  PAY_5_3.0  \\\n",
       "5501               0          0          0          0          0          0   \n",
       "28857              0          0          0          0          0          0   \n",
       "11272              0          0          0          0          0          0   \n",
       "8206               0          0          0          0          0          0   \n",
       "6362               0          0          0          0          0          0   \n",
       "\n",
       "       PAY_4_7.0  PAY_3_3.0  PAY_0_4.0  PAY_2_3.0  PAY_6_3.0  PAY_4_2.0  \\\n",
       "5501           0          0          0          0          0          0   \n",
       "28857          0          0          0          0          0          0   \n",
       "11272          0          0          0          1          0          0   \n",
       "8206           0          0          0          0          0          0   \n",
       "6362           0          0          0          0          0          0   \n",
       "\n",
       "       PAY_0_1.0  PAY_3_2.0  PAY_6_2.0  PAY_5_2.0  PAY_2_2.0  PAY_0_3.0  \\\n",
       "5501           0          0          0          0          0          0   \n",
       "28857          0          0          0          0          0          0   \n",
       "11272          0          1          0          0          0          0   \n",
       "8206           0          0          0          0          0          0   \n",
       "6362           0          0          1          0          0          0   \n",
       "\n",
       "       PAY_0_2.0  \n",
       "5501           0  \n",
       "28857          0  \n",
       "11272          0  \n",
       "8206           0  \n",
       "6362           1  "
      ]
     },
     "execution_count": 166,
     "metadata": {},
     "output_type": "execute_result"
    }
   ],
   "source": [
    "working_df.head()"
   ]
  },
  {
   "cell_type": "code",
   "execution_count": 168,
   "metadata": {},
   "outputs": [],
   "source": [
    "scaled_df = pd.DataFrame(data = scaler.transform(working_df), columns = working_df.columns)"
   ]
  },
  {
   "cell_type": "code",
   "execution_count": null,
   "metadata": {},
   "outputs": [],
   "source": []
  },
  {
   "cell_type": "code",
   "execution_count": null,
   "metadata": {},
   "outputs": [],
   "source": []
  },
  {
   "cell_type": "code",
   "execution_count": null,
   "metadata": {},
   "outputs": [],
   "source": []
  },
  {
   "cell_type": "code",
   "execution_count": null,
   "metadata": {},
   "outputs": [],
   "source": []
  },
  {
   "cell_type": "code",
   "execution_count": 248,
   "metadata": {},
   "outputs": [],
   "source": [
    "holdout_df = jps_df_pipeline('holdout_data.csv')"
   ]
  },
  {
   "cell_type": "code",
   "execution_count": null,
   "metadata": {},
   "outputs": [],
   "source": []
  },
  {
   "cell_type": "code",
   "execution_count": null,
   "metadata": {},
   "outputs": [],
   "source": []
  },
  {
   "cell_type": "code",
   "execution_count": 249,
   "metadata": {},
   "outputs": [
    {
     "data": {
      "text/plain": [
       "array([0, 0, 0, ..., 1, 1, 1])"
      ]
     },
     "execution_count": 249,
     "metadata": {},
     "output_type": "execute_result"
    }
   ],
   "source": [
    "rfc2.predict(holdout_df)"
   ]
  },
  {
   "cell_type": "code",
   "execution_count": 250,
   "metadata": {},
   "outputs": [],
   "source": [
    "yhat = rfc2.predict(holdout_df)"
   ]
  },
  {
   "cell_type": "code",
   "execution_count": 251,
   "metadata": {},
   "outputs": [
    {
     "data": {
      "text/plain": [
       "0.26369817357685643"
      ]
     },
     "execution_count": 251,
     "metadata": {},
     "output_type": "execute_result"
    }
   ],
   "source": [
    "rfc2.predict(holdout_df).mean()"
   ]
  },
  {
   "cell_type": "code",
   "execution_count": 255,
   "metadata": {},
   "outputs": [
    {
     "ename": "ValueError",
     "evalue": "Found input variables with inconsistent numbers of samples: [4500, 17999]",
     "output_type": "error",
     "traceback": [
      "\u001b[0;31m---------------------------------------------------------------------------\u001b[0m",
      "\u001b[0;31mValueError\u001b[0m                                Traceback (most recent call last)",
      "\u001b[0;32m<ipython-input-255-2e6bde6335d2>\u001b[0m in \u001b[0;36m<module>\u001b[0;34m\u001b[0m\n\u001b[0;32m----> 1\u001b[0;31m \u001b[0mrfc2_f1\u001b[0m \u001b[0;34m=\u001b[0m \u001b[0mmetrics\u001b[0m\u001b[0;34m.\u001b[0m\u001b[0mf1_score\u001b[0m\u001b[0;34m(\u001b[0m\u001b[0my_test\u001b[0m\u001b[0;34m,\u001b[0m \u001b[0my_train\u001b[0m\u001b[0;34m,\u001b[0m\u001b[0myhat\u001b[0m\u001b[0;34m)\u001b[0m\u001b[0;34m\u001b[0m\u001b[0;34m\u001b[0m\u001b[0m\n\u001b[0m\u001b[1;32m      2\u001b[0m \u001b[0;34m\u001b[0m\u001b[0m\n\u001b[1;32m      3\u001b[0m \u001b[0mrfc2_acc\u001b[0m \u001b[0;34m=\u001b[0m \u001b[0mmetrics\u001b[0m\u001b[0;34m.\u001b[0m\u001b[0maccuracy_score\u001b[0m\u001b[0;34m(\u001b[0m\u001b[0my_train\u001b[0m\u001b[0;34m,\u001b[0m \u001b[0myhat\u001b[0m\u001b[0;34m)\u001b[0m\u001b[0;34m\u001b[0m\u001b[0;34m\u001b[0m\u001b[0m\n\u001b[1;32m      4\u001b[0m \u001b[0;34m\u001b[0m\u001b[0m\n\u001b[1;32m      5\u001b[0m \u001b[0mprint\u001b[0m\u001b[0;34m(\u001b[0m\u001b[0;34m'Test F1 score: '\u001b[0m\u001b[0;34m,\u001b[0m \u001b[0mrfc2_f1\u001b[0m\u001b[0;34m)\u001b[0m\u001b[0;34m\u001b[0m\u001b[0;34m\u001b[0m\u001b[0m\n",
      "\u001b[0;32m~/opt/anaconda3/envs/learn-env/lib/python3.6/site-packages/sklearn/metrics/classification.py\u001b[0m in \u001b[0;36mf1_score\u001b[0;34m(y_true, y_pred, labels, pos_label, average, sample_weight)\u001b[0m\n\u001b[1;32m   1057\u001b[0m     return fbeta_score(y_true, y_pred, 1, labels=labels,\n\u001b[1;32m   1058\u001b[0m                        \u001b[0mpos_label\u001b[0m\u001b[0;34m=\u001b[0m\u001b[0mpos_label\u001b[0m\u001b[0;34m,\u001b[0m \u001b[0maverage\u001b[0m\u001b[0;34m=\u001b[0m\u001b[0maverage\u001b[0m\u001b[0;34m,\u001b[0m\u001b[0;34m\u001b[0m\u001b[0;34m\u001b[0m\u001b[0m\n\u001b[0;32m-> 1059\u001b[0;31m                        sample_weight=sample_weight)\n\u001b[0m\u001b[1;32m   1060\u001b[0m \u001b[0;34m\u001b[0m\u001b[0m\n\u001b[1;32m   1061\u001b[0m \u001b[0;34m\u001b[0m\u001b[0m\n",
      "\u001b[0;32m~/opt/anaconda3/envs/learn-env/lib/python3.6/site-packages/sklearn/metrics/classification.py\u001b[0m in \u001b[0;36mfbeta_score\u001b[0;34m(y_true, y_pred, beta, labels, pos_label, average, sample_weight)\u001b[0m\n\u001b[1;32m   1180\u001b[0m                                                  \u001b[0maverage\u001b[0m\u001b[0;34m=\u001b[0m\u001b[0maverage\u001b[0m\u001b[0;34m,\u001b[0m\u001b[0;34m\u001b[0m\u001b[0;34m\u001b[0m\u001b[0m\n\u001b[1;32m   1181\u001b[0m                                                  \u001b[0mwarn_for\u001b[0m\u001b[0;34m=\u001b[0m\u001b[0;34m(\u001b[0m\u001b[0;34m'f-score'\u001b[0m\u001b[0;34m,\u001b[0m\u001b[0;34m)\u001b[0m\u001b[0;34m,\u001b[0m\u001b[0;34m\u001b[0m\u001b[0;34m\u001b[0m\u001b[0m\n\u001b[0;32m-> 1182\u001b[0;31m                                                  sample_weight=sample_weight)\n\u001b[0m\u001b[1;32m   1183\u001b[0m     \u001b[0;32mreturn\u001b[0m \u001b[0mf\u001b[0m\u001b[0;34m\u001b[0m\u001b[0;34m\u001b[0m\u001b[0m\n\u001b[1;32m   1184\u001b[0m \u001b[0;34m\u001b[0m\u001b[0m\n",
      "\u001b[0;32m~/opt/anaconda3/envs/learn-env/lib/python3.6/site-packages/sklearn/metrics/classification.py\u001b[0m in \u001b[0;36mprecision_recall_fscore_support\u001b[0;34m(y_true, y_pred, beta, labels, pos_label, average, warn_for, sample_weight)\u001b[0m\n\u001b[1;32m   1413\u001b[0m         \u001b[0;32mraise\u001b[0m \u001b[0mValueError\u001b[0m\u001b[0;34m(\u001b[0m\u001b[0;34m\"beta should be >0 in the F-beta score\"\u001b[0m\u001b[0;34m)\u001b[0m\u001b[0;34m\u001b[0m\u001b[0;34m\u001b[0m\u001b[0m\n\u001b[1;32m   1414\u001b[0m     labels = _check_set_wise_labels(y_true, y_pred, average, labels,\n\u001b[0;32m-> 1415\u001b[0;31m                                     pos_label)\n\u001b[0m\u001b[1;32m   1416\u001b[0m \u001b[0;34m\u001b[0m\u001b[0m\n\u001b[1;32m   1417\u001b[0m     \u001b[0;31m# Calculate tp_sum, pred_sum, true_sum ###\u001b[0m\u001b[0;34m\u001b[0m\u001b[0;34m\u001b[0m\u001b[0;34m\u001b[0m\u001b[0m\n",
      "\u001b[0;32m~/opt/anaconda3/envs/learn-env/lib/python3.6/site-packages/sklearn/metrics/classification.py\u001b[0m in \u001b[0;36m_check_set_wise_labels\u001b[0;34m(y_true, y_pred, average, labels, pos_label)\u001b[0m\n\u001b[1;32m   1237\u001b[0m                          str(average_options))\n\u001b[1;32m   1238\u001b[0m \u001b[0;34m\u001b[0m\u001b[0m\n\u001b[0;32m-> 1239\u001b[0;31m     \u001b[0my_type\u001b[0m\u001b[0;34m,\u001b[0m \u001b[0my_true\u001b[0m\u001b[0;34m,\u001b[0m \u001b[0my_pred\u001b[0m \u001b[0;34m=\u001b[0m \u001b[0m_check_targets\u001b[0m\u001b[0;34m(\u001b[0m\u001b[0my_true\u001b[0m\u001b[0;34m,\u001b[0m \u001b[0my_pred\u001b[0m\u001b[0;34m)\u001b[0m\u001b[0;34m\u001b[0m\u001b[0;34m\u001b[0m\u001b[0m\n\u001b[0m\u001b[1;32m   1240\u001b[0m     \u001b[0mpresent_labels\u001b[0m \u001b[0;34m=\u001b[0m \u001b[0munique_labels\u001b[0m\u001b[0;34m(\u001b[0m\u001b[0my_true\u001b[0m\u001b[0;34m,\u001b[0m \u001b[0my_pred\u001b[0m\u001b[0;34m)\u001b[0m\u001b[0;34m\u001b[0m\u001b[0;34m\u001b[0m\u001b[0m\n\u001b[1;32m   1241\u001b[0m     \u001b[0;32mif\u001b[0m \u001b[0maverage\u001b[0m \u001b[0;34m==\u001b[0m \u001b[0;34m'binary'\u001b[0m\u001b[0;34m:\u001b[0m\u001b[0;34m\u001b[0m\u001b[0;34m\u001b[0m\u001b[0m\n",
      "\u001b[0;32m~/opt/anaconda3/envs/learn-env/lib/python3.6/site-packages/sklearn/metrics/classification.py\u001b[0m in \u001b[0;36m_check_targets\u001b[0;34m(y_true, y_pred)\u001b[0m\n\u001b[1;32m     69\u001b[0m     \u001b[0my_pred\u001b[0m \u001b[0;34m:\u001b[0m \u001b[0marray\u001b[0m \u001b[0;32mor\u001b[0m \u001b[0mindicator\u001b[0m \u001b[0mmatrix\u001b[0m\u001b[0;34m\u001b[0m\u001b[0;34m\u001b[0m\u001b[0m\n\u001b[1;32m     70\u001b[0m     \"\"\"\n\u001b[0;32m---> 71\u001b[0;31m     \u001b[0mcheck_consistent_length\u001b[0m\u001b[0;34m(\u001b[0m\u001b[0my_true\u001b[0m\u001b[0;34m,\u001b[0m \u001b[0my_pred\u001b[0m\u001b[0;34m)\u001b[0m\u001b[0;34m\u001b[0m\u001b[0;34m\u001b[0m\u001b[0m\n\u001b[0m\u001b[1;32m     72\u001b[0m     \u001b[0mtype_true\u001b[0m \u001b[0;34m=\u001b[0m \u001b[0mtype_of_target\u001b[0m\u001b[0;34m(\u001b[0m\u001b[0my_true\u001b[0m\u001b[0;34m)\u001b[0m\u001b[0;34m\u001b[0m\u001b[0;34m\u001b[0m\u001b[0m\n\u001b[1;32m     73\u001b[0m     \u001b[0mtype_pred\u001b[0m \u001b[0;34m=\u001b[0m \u001b[0mtype_of_target\u001b[0m\u001b[0;34m(\u001b[0m\u001b[0my_pred\u001b[0m\u001b[0;34m)\u001b[0m\u001b[0;34m\u001b[0m\u001b[0;34m\u001b[0m\u001b[0m\n",
      "\u001b[0;32m~/opt/anaconda3/envs/learn-env/lib/python3.6/site-packages/sklearn/utils/validation.py\u001b[0m in \u001b[0;36mcheck_consistent_length\u001b[0;34m(*arrays)\u001b[0m\n\u001b[1;32m    203\u001b[0m     \u001b[0;32mif\u001b[0m \u001b[0mlen\u001b[0m\u001b[0;34m(\u001b[0m\u001b[0muniques\u001b[0m\u001b[0;34m)\u001b[0m \u001b[0;34m>\u001b[0m \u001b[0;36m1\u001b[0m\u001b[0;34m:\u001b[0m\u001b[0;34m\u001b[0m\u001b[0;34m\u001b[0m\u001b[0m\n\u001b[1;32m    204\u001b[0m         raise ValueError(\"Found input variables with inconsistent numbers of\"\n\u001b[0;32m--> 205\u001b[0;31m                          \" samples: %r\" % [int(l) for l in lengths])\n\u001b[0m\u001b[1;32m    206\u001b[0m \u001b[0;34m\u001b[0m\u001b[0m\n\u001b[1;32m    207\u001b[0m \u001b[0;34m\u001b[0m\u001b[0m\n",
      "\u001b[0;31mValueError\u001b[0m: Found input variables with inconsistent numbers of samples: [4500, 17999]"
     ]
    }
   ],
   "source": [
    "rfc2_f1 = metrics.f1_score(df.defaulted,yhat)\n",
    "\n",
    "rfc2_acc = metrics.accuracy_score(df.defaulted, yhat)\n",
    "\n",
    "print('Test F1 score: ', rfc2_f1)\n",
    "print('Test Accuracy score: ', rfc2_acc)"
   ]
  },
  {
   "cell_type": "code",
   "execution_count": 174,
   "metadata": {},
   "outputs": [],
   "source": [
    "np.savetxt('default_preds_JV.csv', yhat, delimiter=\",\")"
   ]
  },
  {
   "cell_type": "code",
   "execution_count": 253,
   "metadata": {},
   "outputs": [],
   "source": [
    "pd.DataFrame(yhat).to_csv(\"_default_preds_JV.csv\", header=None)"
   ]
  },
  {
   "cell_type": "code",
   "execution_count": null,
   "metadata": {},
   "outputs": [],
   "source": []
  },
  {
   "cell_type": "code",
   "execution_count": null,
   "metadata": {},
   "outputs": [],
   "source": []
  },
  {
   "cell_type": "code",
   "execution_count": null,
   "metadata": {},
   "outputs": [],
   "source": []
  },
  {
   "cell_type": "code",
   "execution_count": 232,
   "metadata": {},
   "outputs": [],
   "source": [
    "holdout_df = jps_df_pipeline('holdout_data.csv')"
   ]
  },
  {
   "cell_type": "code",
   "execution_count": 233,
   "metadata": {},
   "outputs": [],
   "source": [
    "y_hat = rfc2.predict(holdout_df)"
   ]
  },
  {
   "cell_type": "code",
   "execution_count": 234,
   "metadata": {},
   "outputs": [
    {
     "data": {
      "text/plain": [
       "0.25223303559525395"
      ]
     },
     "execution_count": 234,
     "metadata": {},
     "output_type": "execute_result"
    }
   ],
   "source": [
    "y_hat.mean()"
   ]
  },
  {
   "cell_type": "code",
   "execution_count": 235,
   "metadata": {},
   "outputs": [
    {
     "data": {
      "text/plain": [
       "array([0, 0, 0, ..., 1, 1, 1])"
      ]
     },
     "execution_count": 235,
     "metadata": {},
     "output_type": "execute_result"
    }
   ],
   "source": [
    "y_hat"
   ]
  },
  {
   "cell_type": "code",
   "execution_count": 236,
   "metadata": {},
   "outputs": [],
   "source": [
    "pd.DataFrame(y_hat).to_csv('default_preds_JV.csv', header= None)"
   ]
  },
  {
   "cell_type": "code",
   "execution_count": 240,
   "metadata": {},
   "outputs": [
    {
     "data": {
      "text/plain": [
       "array([0, 0, 0, 0, 1, 0, 0, 0, 0, 0, 0, 0, 0, 0, 0, 0, 0, 0, 0, 0, 0, 0,\n",
       "       0, 0, 0, 0, 1, 0, 0, 0])"
      ]
     },
     "execution_count": 240,
     "metadata": {},
     "output_type": "execute_result"
    }
   ],
   "source": [
    "y_hat[0:30]"
   ]
  },
  {
   "cell_type": "code",
   "execution_count": 237,
   "metadata": {},
   "outputs": [
    {
     "data": {
      "text/plain": [
       "(7501,)"
      ]
     },
     "execution_count": 237,
     "metadata": {},
     "output_type": "execute_result"
    }
   ],
   "source": [
    "y_hat.shape"
   ]
  },
  {
   "cell_type": "code",
   "execution_count": null,
   "metadata": {},
   "outputs": [],
   "source": []
  }
 ],
 "metadata": {
  "kernelspec": {
   "display_name": "Python 3",
   "language": "python",
   "name": "python3"
  },
  "language_info": {
   "codemirror_mode": {
    "name": "ipython",
    "version": 3
   },
   "file_extension": ".py",
   "mimetype": "text/x-python",
   "name": "python",
   "nbconvert_exporter": "python",
   "pygments_lexer": "ipython3",
   "version": "3.6.9"
  },
  "toc": {
   "base_numbering": 1,
   "nav_menu": {},
   "number_sections": true,
   "sideBar": true,
   "skip_h1_title": false,
   "title_cell": "Table of Contents",
   "title_sidebar": "Contents",
   "toc_cell": false,
   "toc_position": {},
   "toc_section_display": true,
   "toc_window_display": false
  }
 },
 "nbformat": 4,
 "nbformat_minor": 4
}
