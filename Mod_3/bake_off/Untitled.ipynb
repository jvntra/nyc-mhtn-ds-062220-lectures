{
 "cells": [
  {
   "cell_type": "code",
   "execution_count": 1,
   "metadata": {},
   "outputs": [],
   "source": [
    "# import libraries\n",
    "\n",
    "import pandas as pd\n",
    "import numpy as np\n",
    "import matplotlib.pyplot as plt\n",
    "import seaborn as sns\n",
    "import statsmodels.api as sm\n",
    "\n",
    "from sklearn import metrics\n",
    "from sklearn.preprocessing import MinMaxScaler\n",
    "from sklearn.preprocessing import StandardScaler\n",
    "from sklearn.model_selection import train_test_split\n"
   ]
  },
  {
   "cell_type": "code",
   "execution_count": 9,
   "metadata": {},
   "outputs": [],
   "source": [
    "def jps_df_pipeline(datafilecsv):\n",
    "    '''\n",
    "    pipeline function for data prossing of credit default data\n",
    "    '''\n",
    "    \n",
    "    df = pd.read_csv(datafilecsv)\n",
    "    \n",
    "    cols = ['Unnamed: 0', 'X1','X2','X3','X4','X5','X6','X7','X8','X9','X10','X11', 'X12', 'X13', 'X14', 'X15', 'X16', 'X17', 'X18', 'X19', 'X20', 'X21', 'X22', 'X23']\n",
    "    df[cols] = df[cols].apply(pd.to_numeric, errors='coerce')\n",
    "        \n",
    "    rnm_dict = {'Unnamed: 0': 'id',\n",
    "                'X1' :'given_credit',\n",
    "                'X2' :'gender',\n",
    "                'X3' :'education',\n",
    "                'X4' :'mar_status',\n",
    "                'X5' :'age',\n",
    "                'X6' :'paystatus_09',\n",
    "                'X7' :'paystatus_08',\n",
    "                'X8' :'paystatus_07',\n",
    "                'X9' :'paystatus_06',\n",
    "                'X10':'paystatus_05',\n",
    "                'X11':'paystatus_04',\n",
    "                'X12':'billamt_09',\n",
    "                'X13':'billamt_08',\n",
    "                'X14':'billamt_07',\n",
    "                'X15':'billamt_06',\n",
    "                'X16':'billamt_05',\n",
    "                'X17':'billamt_04',\n",
    "                'X18':'payamt_09', \n",
    "                'X19':'payamt_08',\n",
    "                'X20':'payamt_07',\n",
    "                'X21':'payamt_06',\n",
    "                'X22':'payamt_05',\n",
    "                'X23':'payamt_04'\n",
    "               }\n",
    "\n",
    "    df.rename(columns = rnm_dict, inplace = True)\n",
    "\n",
    "    df = df.dropna(axis=0)\n",
    "    \n",
    "    int_list = ['id', 'gender', 'education', 'mar_status', 'age', 'paystatus_09', 'paystatus_08', 'paystatus_07', 'paystatus_06', 'paystatus_05', 'paystatus_04']\n",
    "\n",
    "    for i in int_list:\n",
    "        df[i] = df[i].astype('int')\n",
    "    \n",
    "    df.sort_values(by='given_credit', ascending=False,inplace=True)\n",
    "    \n",
    "    df.education = np.where( df.education > 4, 4, df.education ) \n",
    "    df.education = np.where( df.education < 1, 4, df.education ) \n",
    "    \n",
    "    df.mar_status = np.where( df.mar_status < 1, 3 , df.mar_status ) \n",
    "            \n",
    "    ### FEATURE ENGINEERING\n",
    "            \n",
    "    df['pay_ratio_09'] = (df['payamt_09']/df['billamt_09'])\n",
    "    df['pay_ratio_08'] = (df['payamt_08']/df['billamt_08'])\n",
    "    df['pay_ratio_07'] = (df['payamt_07']/df['billamt_07'])\n",
    "    df['pay_ratio_06'] = (df['payamt_06']/df['billamt_06'])\n",
    "    df['pay_ratio_05'] = (df['payamt_05']/df['billamt_05'])\n",
    "    df['pay_ratio_04'] = (df['payamt_04']/df['billamt_04'])\n",
    "            \n",
    "    df.pay_ratio_09.fillna(1, inplace=True)\n",
    "    df.pay_ratio_08.fillna(1, inplace=True)\n",
    "    df.pay_ratio_07.fillna(1, inplace=True)\n",
    "    df.pay_ratio_06.fillna(1, inplace=True)\n",
    "    df.pay_ratio_05.fillna(1, inplace=True)\n",
    "    df.pay_ratio_04.fillna(1, inplace=True)\n",
    "            \n",
    "    df.pay_ratio_09 = np.where(((df.pay_ratio_09 < 0)|(df.pay_ratio_09 > 1)), 1, df.pay_ratio_09)\n",
    "    df.pay_ratio_08 = np.where(((df.pay_ratio_08 < 0)|(df.pay_ratio_08 > 1)), 1, df.pay_ratio_08)\n",
    "    df.pay_ratio_07 = np.where(((df.pay_ratio_07 < 0)|(df.pay_ratio_07 > 1)), 1, df.pay_ratio_07)\n",
    "    df.pay_ratio_06 = np.where(((df.pay_ratio_06 < 0)|(df.pay_ratio_06 > 1)), 1, df.pay_ratio_06)\n",
    "    df.pay_ratio_05 = np.where(((df.pay_ratio_05 < 0)|(df.pay_ratio_05 > 1)), 1, df.pay_ratio_05)\n",
    "    df.pay_ratio_04 = np.where(((df.pay_ratio_04 < 0)|(df.pay_ratio_04 > 1)), 1, df.pay_ratio_04)\n",
    "            \n",
    "    df['avg_bill_stmt'] = (df.billamt_09 + df.billamt_08 + df.billamt_07 + df.billamt_06 + df.billamt_05 + df.billamt_04) / 6\n",
    "    df['avg_amt_paid'] = (df.payamt_09 + df.payamt_08 + df.payamt_07 + df.payamt_06 + df.payamt_05 + df.payamt_04) / 6\n",
    "    df['gross_pay_ratio']= df.avg_amt_paid / df.avg_bill_stmt\n",
    "            \n",
    "    \n",
    "    df.gross_pay_ratio.fillna(1, inplace=True)\n",
    "    df.replace(np.inf, 1, inplace=True)\n",
    "    df.gross_pay_ratio = np.where(((df.gross_pay_ratio < 0)|(df.gross_pay_ratio > 1)), 1, df.gross_pay_ratio)\n",
    "    \n",
    "    df = pd.get_dummies(df, columns=['gender', 'education', 'mar_status', 'paystatus_09', 'paystatus_08',\n",
    "       'paystatus_07', 'paystatus_06', 'paystatus_05', 'paystatus_04'], drop_first=True)\n",
    "            \n",
    "    ### feature selection was done using lasso.\n",
    "    working_df = df[['given_credit',\n",
    "                     'paystatus_09_0',\n",
    "                     'avg_amt_paid',\n",
    "                     'gender_2',\n",
    "                     'mar_status_2',\n",
    "                     'paystatus_07_-1',\n",
    "                     'education_4',\n",
    "                     'paystatus_04_0',\n",
    "                     'payamt_09',\n",
    "                     'paystatus_05_3',\n",
    "                     'paystatus_08_6',\n",
    "                     'paystatus_09_4',\n",
    "                     'paystatus_08_3',\n",
    "                     'paystatus_04_3',\n",
    "                     'paystatus_06_2',\n",
    "                     'paystatus_05_2',\n",
    "                     'paystatus_09_1',\n",
    "                     'paystatus_04_2',\n",
    "                     'paystatus_07_2',\n",
    "                     'paystatus_08_2',\n",
    "                     'paystatus_09_3',\n",
    "                     'paystatus_09_2']]\n",
    "    \n",
    "    scaler = StandardScaler()\n",
    "    \n",
    "    scaler.fit(working_df)\n",
    "    \n",
    "    scaled_df = pd.DataFrame(data = scaler.transform(working_df), columns = working_df.columns)\n",
    "    \n",
    "    return scaled_df\n",
    "    \n"
   ]
  },
  {
   "cell_type": "code",
   "execution_count": 4,
   "metadata": {},
   "outputs": [],
   "source": [
    "import pickle\n",
    "loaded_model = pickle.load(open('bestmodel.sav', 'rb'))"
   ]
  },
  {
   "cell_type": "code",
   "execution_count": 10,
   "metadata": {},
   "outputs": [],
   "source": [
    "holdout_df = jps_df_pipeline('holdout_data.csv')"
   ]
  },
  {
   "cell_type": "code",
   "execution_count": 11,
   "metadata": {},
   "outputs": [],
   "source": [
    "y_preds = loaded_model.predict(holdout_df)"
   ]
  },
  {
   "cell_type": "code",
   "execution_count": 12,
   "metadata": {},
   "outputs": [
    {
     "data": {
      "text/plain": [
       "array([0, 0, 0, ..., 1, 1, 1])"
      ]
     },
     "execution_count": 12,
     "metadata": {},
     "output_type": "execute_result"
    }
   ],
   "source": [
    "y_preds"
   ]
  },
  {
   "cell_type": "code",
   "execution_count": 13,
   "metadata": {},
   "outputs": [
    {
     "data": {
      "text/plain": [
       "0.26369817357685643"
      ]
     },
     "execution_count": 13,
     "metadata": {},
     "output_type": "execute_result"
    }
   ],
   "source": [
    "y_preds.mean()"
   ]
  },
  {
   "cell_type": "code",
   "execution_count": 14,
   "metadata": {},
   "outputs": [
    {
     "data": {
      "text/plain": [
       "(7501,)"
      ]
     },
     "execution_count": 14,
     "metadata": {},
     "output_type": "execute_result"
    }
   ],
   "source": [
    "y_preds.shape"
   ]
  },
  {
   "cell_type": "code",
   "execution_count": null,
   "metadata": {},
   "outputs": [],
   "source": [
    "pd.DataFrame(y_preds).to_csv('_default_preds_JV.csv', header= None)"
   ]
  }
 ],
 "metadata": {
  "kernelspec": {
   "display_name": "Python [conda env:learn-env] *",
   "language": "python",
   "name": "conda-env-learn-env-py"
  },
  "language_info": {
   "codemirror_mode": {
    "name": "ipython",
    "version": 3
   },
   "file_extension": ".py",
   "mimetype": "text/x-python",
   "name": "python",
   "nbconvert_exporter": "python",
   "pygments_lexer": "ipython3",
   "version": "3.6.9"
  }
 },
 "nbformat": 4,
 "nbformat_minor": 4
}
