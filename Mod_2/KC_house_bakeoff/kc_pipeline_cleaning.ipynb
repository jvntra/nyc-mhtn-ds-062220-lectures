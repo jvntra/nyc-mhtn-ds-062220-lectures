{
 "cells": [
  {
   "cell_type": "markdown",
   "metadata": {},
   "source": [
    "## This is the data cleaning operations we did for the kc housing bake off"
   ]
  },
  {
   "cell_type": "markdown",
   "metadata": {},
   "source": [
    "##### Import all of the packages"
   ]
  },
  {
   "cell_type": "code",
   "execution_count": 1,
   "metadata": {},
   "outputs": [],
   "source": [
    "import matplotlib.pyplot as plt\n",
    "from math import exp\n",
    "from scipy.stats import norm\n",
    "from scipy import stats\n",
    "import seaborn as sns\n",
    "import numpy as np \n",
    "import pandas as pd\n",
    "from sklearn.model_selection import train_test_split\n",
    "from sklearn.linear_model import LinearRegression\n",
    "from sklearn import metrics\n",
    "\n",
    "import warnings\n",
    "warnings.filterwarnings(\"ignore\")\n",
    "pd.set_option('display.max_columns', 300)\n",
    "df_kc = pd.read_csv('kc_house_data_train.csv')"
   ]
  },
  {
   "cell_type": "markdown",
   "metadata": {},
   "source": [
    "##### Imputing data"
   ]
  },
  {
   "cell_type": "code",
   "execution_count": 1,
   "metadata": {},
   "outputs": [],
   "source": [
    "def kc_cleaning_pipeline(dataframefile):\n",
    "    \n",
    "    '''\n",
    "    Function pipeline to process pandas dataframe of Kings county housing data for multiple linear regression modeling.\n",
    "    \n",
    "    =========\n",
    "    Arguments: filepath of unprocessed data as a string.\n",
    "    =========\n",
    "    \n",
    "    =======\n",
    "    Returns: processed dataframe in preparation for multiple linear regression\n",
    "    =======\n",
    "    '''\n",
    "   \n",
    "\n",
    "    df_kc = pd.read_csv(dataframefile)\n",
    "    \n",
    "    ################################################################ DATA FORMATTING/CLEANING ################################################################\n",
    "    \n",
    "    rnmdate = {'date':'selldate'}\n",
    "    df_kc.rename(columns = rnmdate, inplace = True)\n",
    "    \n",
    "    df_kc.selldate = df_kc.selldate.apply(lambda x: x[:8])\n",
    "    df_kc.selldate = df_kc.selldate.apply(lambda x: pd.to_datetime(x, yearfirst=True, format='%Y%m%d'))\n",
    "    \n",
    "    df_kc['yr_old'] = np.where(df_kc['yr_renovated'] != 0, df_kc['selldate'].apply(lambda x: x.year) - df_kc['yr_renovated'], \n",
    "                       df_kc['selldate'].apply(lambda x: x.year) - df_kc['yr_built'])\n",
    "\n",
    "    df_kc['yr_old'] = np.where(df_kc['yr_old'] < 0, 0, df_kc['yr_old'])\n",
    "    \n",
    "    # turning the 0s into nans \n",
    "    df_kc.yr_renovated = np.where(df_kc.yr_renovated == 0, np.nan, df_kc.yr_renovated)\n",
    "\n",
    "    # make a column that has the sqft living / sqft lot. Effectively, how big is the house in comparison to the land\n",
    "\n",
    "    df_kc['liv_lot_ratio'] = df_kc.sqft_living / df_kc.sqft_lot \n",
    "\n",
    "\n",
    "\n",
    "    \n",
    "\n",
    "    # The below np.select function is to adjust all of the houses estimation of number of bathrooms \n",
    "\n",
    "   \n",
    "    conditions = [  (df_kc.sqft_living <= 3000) & ((df_kc.bathrooms >= 0) & (df_kc.bathrooms <= 1.5)),\n",
    "                    ((df_kc.sqft_living  <= 3800) & (df_kc.sqft_living  >= 3000))  & ((df_kc.bathrooms >= 0) & (df_kc.bathrooms <= 3)), \n",
    "                    ((df_kc.sqft_living  <= 4800) & (df_kc.sqft_living  > 3800))  & ((df_kc.bathrooms >= 0) & (df_kc.bathrooms <= 2)),\n",
    "                   (df_kc.liv_lot_ratio <= 0.001)]\n",
    "\n",
    "    choices = [ df_kc.bathrooms,\n",
    "                df_kc.bathrooms.median(),\n",
    "                df_kc.bedrooms,\n",
    "                df_kc.bathrooms]\n",
    "\n",
    "    df_kc.bathrooms = np.select(conditions, choices, default = df_kc.bathrooms)\n",
    "\n",
    "   \n",
    "\n",
    "\n",
    "\n",
    "\n",
    "    #The below np.select() function is to adjust all of the houses with an overestimation of bedrooms\n",
    "\n",
    "    \n",
    "    df_kc.at[8597, 'bedrooms'] = 3\n",
    "\n",
    "    conditions = [ (df_kc.sqft_living <= 3000) & ((df_kc.bedrooms >= 1) & (df_kc.bedrooms <= 7)), # do the smaller end\n",
    "                    (df_kc.sqft_living  > 4000) & ((df_kc.bedrooms >= 1) & (df_kc.bedrooms <= 3)) # do the upper end\n",
    "                   ]\n",
    "\n",
    "    choices = [ df_kc.bedrooms.mean(),\n",
    "               5\n",
    "                ]\n",
    "\n",
    "    df_kc.bedrooms = np.select(conditions, choices, default = df_kc.bedrooms)\n",
    "\n",
    "\n",
    "    \n",
    "    \n",
    "    \n",
    "    \n",
    "    # The below np.select() function is to adjust all of the houses with an underestimation of bedrooms\n",
    "    \n",
    "    conditions = [  (df_kc.sqft_living > 3000) & ((df_kc.bedrooms >= 0) & (df_kc.bedrooms <= 3)), # do the upper end\n",
    "                    ((df_kc.sqft_living  <= 3800) & (df_kc.sqft_living  > 2800))  & ((df_kc.bedrooms >= 0) & (df_kc.bedrooms <= 3)) # do the lower end\n",
    "                   ]\n",
    "\n",
    "    choices = [ 6.5,\n",
    "                4.5\n",
    "                ]\n",
    "\n",
    "    df_kc.bedrooms = np.select(conditions, choices, default = df_kc.bedrooms)\n",
    "    \n",
    "    \n",
    "    \n",
    "    ################################################################ FEATURE ENGINEERING  ################################################################\n",
    "    \n",
    "\n",
    "    # bedrooms to bathrooms ratio\n",
    "    df_kc['bed_bath'] = df_kc['bedrooms']/df_kc['bathrooms']\n",
    "                \n",
    "   \n",
    "    ### Create feature for housing listing proximity to nearest central transit center (sites that host major rail and bus lines) .\n",
    "    #transit_loc = {'Northgate TC': (47.707696,-122.326842),\n",
    "    #           'UW': (47.651572,-122.304242) ,\n",
    "    #           'Westlake': (47.612982,-122.336532) ,\n",
    "    #           'Capitol Hill': (47.621353,-122.320111) ,\n",
    "    #           'Bellevue': (47.617540,-122.-195230),\n",
    "    #           'Pine Street, 9th ave': (47.614489,-122.332074) ,\n",
    "    #           'Pioneer Square': (47.603276,-122.331904) ,\n",
    "    #           'Kings Street': (47.598833,-122.329926) ,\n",
    "    #           \"Int'l District/ctown\": (47.598308,-122.327837) ,\n",
    "    #           '6th ave S & S Atlantic': (47.591008,-122.325878) ,\n",
    "    #           'Rainier Ave & Mt Baker TC': (47.578748,-122.297142) ,\n",
    "    #           'Rainier Beach': (47.524828,-122.280494),\n",
    "    #           'Columbia City': (47.560558,-122.293057) ,\n",
    "    #           'Kings County South Base': (47.499379,-122.284285) ,\n",
    "    #           'Tukwila': (47.463233,-122.238660) ,\n",
    "    #           'Renton TC': (47.488332,-122.210975),\n",
    "    #           'Burien TC': (47.474578,-122.334315)}\n",
    "    #\n",
    "    #loc_coord = np.array(list(zip(df_kc.lat, df_kc.long)))\n",
    "    #\n",
    "    #import geopy.distance\n",
    "    #metro_prox = []\n",
    "    #for houseloc in loc_coord:\n",
    "    #    sortlist=[]\n",
    "    #    for transitloc in transit_loc.values():\n",
    "    #        sortlist.append(geopy.distance.great_circle(houseloc,transitloc).miles)\n",
    "    #        #print(len(sortlist))\n",
    "    #    metro_prox.append(min(sortlist))\n",
    "    #    \n",
    "    #df_kc['metro_prox'] = metro_prox\n",
    "    \n",
    "    \n",
    "    ### Create zip code grouping dummies.\n",
    "    \n",
    "    #zips = df_kc.groupby('zipcode').price.mean().sort_values(ascending = True)\n",
    "    #\n",
    "    #df_kc2 = zips.to_frame().reset_index()\n",
    "    #\n",
    "    #ziplist = []\n",
    "    #sublist = []\n",
    "    #for i in range(69):\n",
    "    #    if len(sublist) == 0:\n",
    "    #        sublist = [df_kc2.zipcode.iloc[i]]\n",
    "    #        if df_kc2.price.iloc[i+1]/df_kc2.price.iloc[i] < 1.02:\n",
    "    #            sublist.append(df_kc2.zipcode.iloc[i+1])\n",
    "    #        else:\n",
    "    #            ziplist.append(sublist)\n",
    "    #            sublist = []\n",
    "    #    else:\n",
    "    #        if df_kc2.price.iloc[i+1]/df_kc2.price.iloc[i] < 1.02:\n",
    "    #            sublist.append(df_kc2.zipcode.iloc[i+1])\n",
    "    #        else:\n",
    "    #            ziplist.append(sublist)\n",
    "    #            sublist = []\n",
    "    #ziplist.append([df_kc2.zipcode.iloc[69]])\n",
    "   #\n",
    "    #zipstr = [str(x) for x in ziplist]\n",
    "    #zipdict = dict(zip(zipstr, ziplist))\n",
    "    #\n",
    "    #zipunique = df_kc.zipcode.unique().tolist()\n",
    "    #ziplist1 = []\n",
    "    #\n",
    "    #for i in zipunique: \n",
    "    #    for j, k in zipdict.items():\n",
    "    #        if i in k:\n",
    "    #            ziplist1.append(j)\n",
    "    #            \n",
    "    #zipdict1 = dict(zip(zipunique, ziplist1))\n",
    "    #df_kc['zipgroup'] = df_kc['zipcode'].map(zipdict1)\n",
    "    #\n",
    "    #df_kc = pd.concat([df_kc, pd.get_dummies(df_kc['zipgroup'])], 1)\n",
    "    \n",
    "    return df_kc\n",
    "    \n",
    "    \n",
    "    "
   ]
  },
  {
   "cell_type": "code",
   "execution_count": 5,
   "metadata": {},
   "outputs": [],
   "source": [
    "\n",
    "# turning the 0s into nans \n",
    "#df_kc.yr_renovated = np.where(df_kc.yr_renovated == 0, np.nan, df_kc.yr_renovated)\n",
    "\n",
    "## make a column that has the sqft living / sqft lot. Effectively, how big is the house in comparison to the land\n",
    "#\n",
    "#df_kc['liv_lot_ratio'] = df_kc.sqft_living / df_kc.sqft_lot \n",
    "#\n",
    "#\n",
    "#\n",
    "#\"\"\" \n",
    "#The below np.select function is to adjust all of the houses estimation of number of bathrooms \n",
    "#\n",
    "#\"\"\"\n",
    "#\n",
    "#\n",
    "#conditions = [ ((df_kc.price <= 650000)) & (df_kc.sqft_living <= 3000) & ((df_kc.bathrooms >= 0) & (df_kc.bathrooms <= 1.5)),\n",
    "#               ((df_kc.price  > 650000) & (df_kc.price <= 850000)) & ((df_kc.sqft_living  <= 3800) & (df_kc.sqft_living  >= 3000))  & ((df_kc.bathrooms >= 0) & (df_kc.bathrooms <= 3)), \n",
    "#               ((df_kc.price  > 850000) & (df_kc.price < 1250000)) & ((df_kc.sqft_living  <= 4800) & (df_kc.sqft_living  > 3800))  & ((df_kc.bathrooms >= 0) & (df_kc.bathrooms <= 2)),\n",
    "#               (df_kc.liv_lot_ratio <= 0.001)]\n",
    "#\n",
    "#choices = [ df_kc.bathrooms,\n",
    "#            df_kc.bathrooms.median(),\n",
    "#            df_kc.bedrooms,\n",
    "#            df_kc.bathrooms]\n",
    "#\n",
    "#df_kc.bathrooms = np.select(conditions, choices, default = df_kc.bathrooms)\n",
    "#\n",
    "#\"\"\"\n",
    "#The below np.select() function is to adjust all of the houses with an overestimation of bedrooms\n",
    "#\"\"\"\n",
    "#\n",
    "#\n",
    "#df_kc.at[8597, 'bedrooms'] = 3\n",
    "#\n",
    "#conditions = [ (df_kc.price <= 650000) & (df_kc.sqft_living <= 3000) & ((df_kc.bedrooms >= 1) & (df_kc.bedrooms <= 7)), # do the smaller end\n",
    "#               ((df_kc.price  > 700000) & (df_kc.price < 1000000) & (df_kc.sqft_living  > 4000)) & ((df_kc.bedrooms >= 1) & (df_kc.bedrooms <= 3)) # do the upper end\n",
    "#               ]\n",
    "#\n",
    "#choices = [ df_kc.bedrooms.mean(),\n",
    "#            5\n",
    "#            ]\n",
    "#\n",
    "#df_kc.bedrooms = np.select(conditions, choices, default = df_kc.bedrooms)\n",
    "#\n",
    "#\n",
    "#\"\"\"\n",
    "#The below np.select() function is to adjust all of the houses with an underestimation of bedrooms\n",
    "#\"\"\"\n",
    "#conditions = [ ((df_kc.price > 850000)) & (df_kc.sqft_living > 3000) & ((df_kc.bedrooms >= 0) & (df_kc.bedrooms <= 3)), # do the upper end\n",
    "#               ((df_kc.price  > 700000) & (df_kc.price < 850000)) & ((df_kc.sqft_living  <= 3800) & (df_kc.sqft_living  > 2800))  & ((df_kc.bedrooms >= 0) & (df_kc.bedrooms <= 3)) # do the lower end\n",
    "#               ]\n",
    "#\n",
    "#choices = [ 6.5,\n",
    "#            4.5\n",
    "#            ]\n",
    "#\n",
    "#df_kc.bedrooms = np.select(conditions, choices, default = df_kc.bedrooms)\n",
    "#\n",
    "## this gives us a living to lot size ratio\n",
    "#df_kc['price_sqft_liv'] = df_kc['price']/df_kc['sqft_living'] \n",
    "#\n",
    "# # bedrooms to bathrooms ratio\n",
    "#df_kc['bed_bath'] = df_kc['bedrooms']/df_kc['bathrooms']\n",
    "\n",
    "### feature engineering\n",
    "\n",
    "# this gives us a living to lot size ratio\n",
    "#df_kc['price_sqft_liv'] = df_kc['price']/df_kc['sqft_living'] \n",
    "\n",
    " # bedrooms to bathrooms ratio\n",
    "#df_kc['bed_bath'] = df_kc['bedrooms']/df_kc['bathrooms']\n",
    "\n",
    "kc_df[features]"
   ]
  },
  {
   "cell_type": "code",
   "execution_count": 11,
   "metadata": {},
   "outputs": [],
   "source": [
    "kc_df = kc_cleaning_pipeline('kc_house_data_train.csv')"
   ]
  },
  {
   "cell_type": "code",
   "execution_count": 12,
   "metadata": {},
   "outputs": [
    {
     "ename": "NameError",
     "evalue": "name 'zipdict1' is not defined",
     "output_type": "error",
     "traceback": [
      "\u001b[0;31m---------------------------------------------------------------------------\u001b[0m",
      "\u001b[0;31mNameError\u001b[0m                                 Traceback (most recent call last)",
      "\u001b[0;32m<ipython-input-12-a35989bb9850>\u001b[0m in \u001b[0;36m<module>\u001b[0;34m\u001b[0m\n\u001b[0;32m----> 1\u001b[0;31m \u001b[0mzipdict1\u001b[0m\u001b[0;34m\u001b[0m\u001b[0;34m\u001b[0m\u001b[0m\n\u001b[0m",
      "\u001b[0;31mNameError\u001b[0m: name 'zipdict1' is not defined"
     ]
    }
   ],
   "source": [
    "zipdict1"
   ]
  },
  {
   "cell_type": "code",
   "execution_count": 111,
   "metadata": {},
   "outputs": [
    {
     "data": {
      "text/html": [
       "<div>\n",
       "<style scoped>\n",
       "    .dataframe tbody tr th:only-of-type {\n",
       "        vertical-align: middle;\n",
       "    }\n",
       "\n",
       "    .dataframe tbody tr th {\n",
       "        vertical-align: top;\n",
       "    }\n",
       "\n",
       "    .dataframe thead th {\n",
       "        text-align: right;\n",
       "    }\n",
       "</style>\n",
       "<table border=\"1\" class=\"dataframe\">\n",
       "  <thead>\n",
       "    <tr style=\"text-align: right;\">\n",
       "      <th></th>\n",
       "      <th>Unnamed: 0</th>\n",
       "      <th>id</th>\n",
       "      <th>selldate</th>\n",
       "      <th>price</th>\n",
       "      <th>bedrooms</th>\n",
       "      <th>bathrooms</th>\n",
       "      <th>sqft_living</th>\n",
       "      <th>sqft_lot</th>\n",
       "      <th>floors</th>\n",
       "      <th>waterfront</th>\n",
       "      <th>view</th>\n",
       "      <th>condition</th>\n",
       "      <th>grade</th>\n",
       "      <th>sqft_above</th>\n",
       "      <th>sqft_basement</th>\n",
       "      <th>yr_built</th>\n",
       "      <th>yr_renovated</th>\n",
       "      <th>zipcode</th>\n",
       "      <th>lat</th>\n",
       "      <th>long</th>\n",
       "      <th>sqft_living15</th>\n",
       "      <th>sqft_lot15</th>\n",
       "      <th>yr_old</th>\n",
       "      <th>liv_lot_ratio</th>\n",
       "      <th>price_sqft_liv</th>\n",
       "      <th>bed_bath</th>\n",
       "      <th>metro_prox</th>\n",
       "      <th>zipgroup</th>\n",
       "      <th>[98001]</th>\n",
       "      <th>[98002]</th>\n",
       "      <th>[98004]</th>\n",
       "      <th>[98006]</th>\n",
       "      <th>[98008, 98052, 98177]</th>\n",
       "      <th>[98011, 98059, 98070]</th>\n",
       "      <th>[98014]</th>\n",
       "      <th>[98028, 98125, 98166]</th>\n",
       "      <th>[98032]</th>\n",
       "      <th>[98034, 98065]</th>\n",
       "      <th>[98039]</th>\n",
       "      <th>[98040]</th>\n",
       "      <th>[98058, 98108]</th>\n",
       "      <th>[98074]</th>\n",
       "      <th>[98077, 98053]</th>\n",
       "      <th>[98092]</th>\n",
       "      <th>[98102]</th>\n",
       "      <th>[98105, 98119, 98109]</th>\n",
       "      <th>[98107, 98103, 98024, 98007, 98027, 98115, 98116, 98029, 98122, 98144]</th>\n",
       "      <th>[98112]</th>\n",
       "      <th>[98118]</th>\n",
       "      <th>[98133]</th>\n",
       "      <th>[98136, 98072, 98117]</th>\n",
       "      <th>[98146, 98038]</th>\n",
       "      <th>[98148]</th>\n",
       "      <th>[98155, 98056, 98010, 98126, 98019, 98045]</th>\n",
       "      <th>[98168]</th>\n",
       "      <th>[98188, 98023, 98003, 98030, 98031, 98198, 98055, 98022, 98042, 98178, 98106]</th>\n",
       "      <th>[98199, 98075, 98033, 98005]</th>\n",
       "    </tr>\n",
       "  </thead>\n",
       "  <tbody>\n",
       "    <tr>\n",
       "      <th>0</th>\n",
       "      <td>0</td>\n",
       "      <td>2591820310</td>\n",
       "      <td>2014-10-06</td>\n",
       "      <td>365000.0</td>\n",
       "      <td>3.370735</td>\n",
       "      <td>2.25</td>\n",
       "      <td>2070</td>\n",
       "      <td>8893</td>\n",
       "      <td>2.0</td>\n",
       "      <td>0</td>\n",
       "      <td>0</td>\n",
       "      <td>4</td>\n",
       "      <td>8</td>\n",
       "      <td>2070</td>\n",
       "      <td>0</td>\n",
       "      <td>1986</td>\n",
       "      <td>NaN</td>\n",
       "      <td>98058</td>\n",
       "      <td>47.4388</td>\n",
       "      <td>-122.162</td>\n",
       "      <td>2390</td>\n",
       "      <td>7700</td>\n",
       "      <td>28</td>\n",
       "      <td>0.232767</td>\n",
       "      <td>176.328502</td>\n",
       "      <td>1.498104</td>\n",
       "      <td>3.959637</td>\n",
       "      <td>[98058, 98108]</td>\n",
       "      <td>0</td>\n",
       "      <td>0</td>\n",
       "      <td>0</td>\n",
       "      <td>0</td>\n",
       "      <td>0</td>\n",
       "      <td>0</td>\n",
       "      <td>0</td>\n",
       "      <td>0</td>\n",
       "      <td>0</td>\n",
       "      <td>0</td>\n",
       "      <td>0</td>\n",
       "      <td>0</td>\n",
       "      <td>1</td>\n",
       "      <td>0</td>\n",
       "      <td>0</td>\n",
       "      <td>0</td>\n",
       "      <td>0</td>\n",
       "      <td>0</td>\n",
       "      <td>0</td>\n",
       "      <td>0</td>\n",
       "      <td>0</td>\n",
       "      <td>0</td>\n",
       "      <td>0</td>\n",
       "      <td>0</td>\n",
       "      <td>0</td>\n",
       "      <td>0</td>\n",
       "      <td>0</td>\n",
       "      <td>0</td>\n",
       "      <td>0</td>\n",
       "    </tr>\n",
       "    <tr>\n",
       "      <th>1</th>\n",
       "      <td>1</td>\n",
       "      <td>7974200820</td>\n",
       "      <td>2014-08-21</td>\n",
       "      <td>865000.0</td>\n",
       "      <td>5.000000</td>\n",
       "      <td>3.00</td>\n",
       "      <td>2900</td>\n",
       "      <td>6730</td>\n",
       "      <td>1.0</td>\n",
       "      <td>0</td>\n",
       "      <td>0</td>\n",
       "      <td>5</td>\n",
       "      <td>8</td>\n",
       "      <td>1830</td>\n",
       "      <td>1070</td>\n",
       "      <td>1977</td>\n",
       "      <td>NaN</td>\n",
       "      <td>98115</td>\n",
       "      <td>47.6784</td>\n",
       "      <td>-122.285</td>\n",
       "      <td>2370</td>\n",
       "      <td>6283</td>\n",
       "      <td>37</td>\n",
       "      <td>0.430906</td>\n",
       "      <td>298.275862</td>\n",
       "      <td>1.666667</td>\n",
       "      <td>2.058557</td>\n",
       "      <td>[98107, 98103, 98024, 98007, 98027, 98115, 981...</td>\n",
       "      <td>0</td>\n",
       "      <td>0</td>\n",
       "      <td>0</td>\n",
       "      <td>0</td>\n",
       "      <td>0</td>\n",
       "      <td>0</td>\n",
       "      <td>0</td>\n",
       "      <td>0</td>\n",
       "      <td>0</td>\n",
       "      <td>0</td>\n",
       "      <td>0</td>\n",
       "      <td>0</td>\n",
       "      <td>0</td>\n",
       "      <td>0</td>\n",
       "      <td>0</td>\n",
       "      <td>0</td>\n",
       "      <td>0</td>\n",
       "      <td>0</td>\n",
       "      <td>1</td>\n",
       "      <td>0</td>\n",
       "      <td>0</td>\n",
       "      <td>0</td>\n",
       "      <td>0</td>\n",
       "      <td>0</td>\n",
       "      <td>0</td>\n",
       "      <td>0</td>\n",
       "      <td>0</td>\n",
       "      <td>0</td>\n",
       "      <td>0</td>\n",
       "    </tr>\n",
       "    <tr>\n",
       "      <th>2</th>\n",
       "      <td>2</td>\n",
       "      <td>7701450110</td>\n",
       "      <td>2014-08-15</td>\n",
       "      <td>1038000.0</td>\n",
       "      <td>4.000000</td>\n",
       "      <td>2.50</td>\n",
       "      <td>3770</td>\n",
       "      <td>10893</td>\n",
       "      <td>2.0</td>\n",
       "      <td>0</td>\n",
       "      <td>2</td>\n",
       "      <td>3</td>\n",
       "      <td>11</td>\n",
       "      <td>3770</td>\n",
       "      <td>0</td>\n",
       "      <td>1997</td>\n",
       "      <td>NaN</td>\n",
       "      <td>98006</td>\n",
       "      <td>47.5646</td>\n",
       "      <td>-122.129</td>\n",
       "      <td>3710</td>\n",
       "      <td>9685</td>\n",
       "      <td>17</td>\n",
       "      <td>0.346094</td>\n",
       "      <td>275.331565</td>\n",
       "      <td>1.600000</td>\n",
       "      <td>6.511235</td>\n",
       "      <td>[98006]</td>\n",
       "      <td>0</td>\n",
       "      <td>0</td>\n",
       "      <td>0</td>\n",
       "      <td>1</td>\n",
       "      <td>0</td>\n",
       "      <td>0</td>\n",
       "      <td>0</td>\n",
       "      <td>0</td>\n",
       "      <td>0</td>\n",
       "      <td>0</td>\n",
       "      <td>0</td>\n",
       "      <td>0</td>\n",
       "      <td>0</td>\n",
       "      <td>0</td>\n",
       "      <td>0</td>\n",
       "      <td>0</td>\n",
       "      <td>0</td>\n",
       "      <td>0</td>\n",
       "      <td>0</td>\n",
       "      <td>0</td>\n",
       "      <td>0</td>\n",
       "      <td>0</td>\n",
       "      <td>0</td>\n",
       "      <td>0</td>\n",
       "      <td>0</td>\n",
       "      <td>0</td>\n",
       "      <td>0</td>\n",
       "      <td>0</td>\n",
       "      <td>0</td>\n",
       "    </tr>\n",
       "    <tr>\n",
       "      <th>3</th>\n",
       "      <td>3</td>\n",
       "      <td>9522300010</td>\n",
       "      <td>2015-03-31</td>\n",
       "      <td>1490000.0</td>\n",
       "      <td>6.500000</td>\n",
       "      <td>3.50</td>\n",
       "      <td>4560</td>\n",
       "      <td>14608</td>\n",
       "      <td>2.0</td>\n",
       "      <td>0</td>\n",
       "      <td>2</td>\n",
       "      <td>3</td>\n",
       "      <td>12</td>\n",
       "      <td>4560</td>\n",
       "      <td>0</td>\n",
       "      <td>1990</td>\n",
       "      <td>NaN</td>\n",
       "      <td>98034</td>\n",
       "      <td>47.6995</td>\n",
       "      <td>-122.228</td>\n",
       "      <td>4050</td>\n",
       "      <td>14226</td>\n",
       "      <td>25</td>\n",
       "      <td>0.312158</td>\n",
       "      <td>326.754386</td>\n",
       "      <td>1.857143</td>\n",
       "      <td>4.630665</td>\n",
       "      <td>[98034, 98065]</td>\n",
       "      <td>0</td>\n",
       "      <td>0</td>\n",
       "      <td>0</td>\n",
       "      <td>0</td>\n",
       "      <td>0</td>\n",
       "      <td>0</td>\n",
       "      <td>0</td>\n",
       "      <td>0</td>\n",
       "      <td>0</td>\n",
       "      <td>1</td>\n",
       "      <td>0</td>\n",
       "      <td>0</td>\n",
       "      <td>0</td>\n",
       "      <td>0</td>\n",
       "      <td>0</td>\n",
       "      <td>0</td>\n",
       "      <td>0</td>\n",
       "      <td>0</td>\n",
       "      <td>0</td>\n",
       "      <td>0</td>\n",
       "      <td>0</td>\n",
       "      <td>0</td>\n",
       "      <td>0</td>\n",
       "      <td>0</td>\n",
       "      <td>0</td>\n",
       "      <td>0</td>\n",
       "      <td>0</td>\n",
       "      <td>0</td>\n",
       "      <td>0</td>\n",
       "    </tr>\n",
       "    <tr>\n",
       "      <th>4</th>\n",
       "      <td>4</td>\n",
       "      <td>9510861140</td>\n",
       "      <td>2014-07-14</td>\n",
       "      <td>711000.0</td>\n",
       "      <td>3.000000</td>\n",
       "      <td>2.50</td>\n",
       "      <td>2550</td>\n",
       "      <td>5376</td>\n",
       "      <td>2.0</td>\n",
       "      <td>0</td>\n",
       "      <td>0</td>\n",
       "      <td>3</td>\n",
       "      <td>9</td>\n",
       "      <td>2550</td>\n",
       "      <td>0</td>\n",
       "      <td>2004</td>\n",
       "      <td>NaN</td>\n",
       "      <td>98052</td>\n",
       "      <td>47.6647</td>\n",
       "      <td>-122.083</td>\n",
       "      <td>2250</td>\n",
       "      <td>4050</td>\n",
       "      <td>10</td>\n",
       "      <td>0.474330</td>\n",
       "      <td>278.823529</td>\n",
       "      <td>1.200000</td>\n",
       "      <td>10.336048</td>\n",
       "      <td>[98008, 98052, 98177]</td>\n",
       "      <td>0</td>\n",
       "      <td>0</td>\n",
       "      <td>0</td>\n",
       "      <td>0</td>\n",
       "      <td>1</td>\n",
       "      <td>0</td>\n",
       "      <td>0</td>\n",
       "      <td>0</td>\n",
       "      <td>0</td>\n",
       "      <td>0</td>\n",
       "      <td>0</td>\n",
       "      <td>0</td>\n",
       "      <td>0</td>\n",
       "      <td>0</td>\n",
       "      <td>0</td>\n",
       "      <td>0</td>\n",
       "      <td>0</td>\n",
       "      <td>0</td>\n",
       "      <td>0</td>\n",
       "      <td>0</td>\n",
       "      <td>0</td>\n",
       "      <td>0</td>\n",
       "      <td>0</td>\n",
       "      <td>0</td>\n",
       "      <td>0</td>\n",
       "      <td>0</td>\n",
       "      <td>0</td>\n",
       "      <td>0</td>\n",
       "      <td>0</td>\n",
       "    </tr>\n",
       "  </tbody>\n",
       "</table>\n",
       "</div>"
      ],
      "text/plain": [
       "   Unnamed: 0          id   selldate      price  bedrooms  bathrooms  \\\n",
       "0           0  2591820310 2014-10-06   365000.0  3.370735       2.25   \n",
       "1           1  7974200820 2014-08-21   865000.0  5.000000       3.00   \n",
       "2           2  7701450110 2014-08-15  1038000.0  4.000000       2.50   \n",
       "3           3  9522300010 2015-03-31  1490000.0  6.500000       3.50   \n",
       "4           4  9510861140 2014-07-14   711000.0  3.000000       2.50   \n",
       "\n",
       "   sqft_living  sqft_lot  floors  waterfront  view  condition  grade  \\\n",
       "0         2070      8893     2.0           0     0          4      8   \n",
       "1         2900      6730     1.0           0     0          5      8   \n",
       "2         3770     10893     2.0           0     2          3     11   \n",
       "3         4560     14608     2.0           0     2          3     12   \n",
       "4         2550      5376     2.0           0     0          3      9   \n",
       "\n",
       "   sqft_above  sqft_basement  yr_built  yr_renovated  zipcode      lat  \\\n",
       "0        2070              0      1986           NaN    98058  47.4388   \n",
       "1        1830           1070      1977           NaN    98115  47.6784   \n",
       "2        3770              0      1997           NaN    98006  47.5646   \n",
       "3        4560              0      1990           NaN    98034  47.6995   \n",
       "4        2550              0      2004           NaN    98052  47.6647   \n",
       "\n",
       "      long  sqft_living15  sqft_lot15  yr_old  liv_lot_ratio  price_sqft_liv  \\\n",
       "0 -122.162           2390        7700      28       0.232767      176.328502   \n",
       "1 -122.285           2370        6283      37       0.430906      298.275862   \n",
       "2 -122.129           3710        9685      17       0.346094      275.331565   \n",
       "3 -122.228           4050       14226      25       0.312158      326.754386   \n",
       "4 -122.083           2250        4050      10       0.474330      278.823529   \n",
       "\n",
       "   bed_bath  metro_prox                                           zipgroup  \\\n",
       "0  1.498104    3.959637                                     [98058, 98108]   \n",
       "1  1.666667    2.058557  [98107, 98103, 98024, 98007, 98027, 98115, 981...   \n",
       "2  1.600000    6.511235                                            [98006]   \n",
       "3  1.857143    4.630665                                     [98034, 98065]   \n",
       "4  1.200000   10.336048                              [98008, 98052, 98177]   \n",
       "\n",
       "   [98001]  [98002]  [98004]  [98006]  [98008, 98052, 98177]  \\\n",
       "0        0        0        0        0                      0   \n",
       "1        0        0        0        0                      0   \n",
       "2        0        0        0        1                      0   \n",
       "3        0        0        0        0                      0   \n",
       "4        0        0        0        0                      1   \n",
       "\n",
       "   [98011, 98059, 98070]  [98014]  [98028, 98125, 98166]  [98032]  \\\n",
       "0                      0        0                      0        0   \n",
       "1                      0        0                      0        0   \n",
       "2                      0        0                      0        0   \n",
       "3                      0        0                      0        0   \n",
       "4                      0        0                      0        0   \n",
       "\n",
       "   [98034, 98065]  [98039]  [98040]  [98058, 98108]  [98074]  [98077, 98053]  \\\n",
       "0               0        0        0               1        0               0   \n",
       "1               0        0        0               0        0               0   \n",
       "2               0        0        0               0        0               0   \n",
       "3               1        0        0               0        0               0   \n",
       "4               0        0        0               0        0               0   \n",
       "\n",
       "   [98092]  [98102]  [98105, 98119, 98109]  \\\n",
       "0        0        0                      0   \n",
       "1        0        0                      0   \n",
       "2        0        0                      0   \n",
       "3        0        0                      0   \n",
       "4        0        0                      0   \n",
       "\n",
       "   [98107, 98103, 98024, 98007, 98027, 98115, 98116, 98029, 98122, 98144]  \\\n",
       "0                                                  0                        \n",
       "1                                                  1                        \n",
       "2                                                  0                        \n",
       "3                                                  0                        \n",
       "4                                                  0                        \n",
       "\n",
       "   [98112]  [98118]  [98133]  [98136, 98072, 98117]  [98146, 98038]  [98148]  \\\n",
       "0        0        0        0                      0               0        0   \n",
       "1        0        0        0                      0               0        0   \n",
       "2        0        0        0                      0               0        0   \n",
       "3        0        0        0                      0               0        0   \n",
       "4        0        0        0                      0               0        0   \n",
       "\n",
       "   [98155, 98056, 98010, 98126, 98019, 98045]  [98168]  \\\n",
       "0                                           0        0   \n",
       "1                                           0        0   \n",
       "2                                           0        0   \n",
       "3                                           0        0   \n",
       "4                                           0        0   \n",
       "\n",
       "   [98188, 98023, 98003, 98030, 98031, 98198, 98055, 98022, 98042, 98178, 98106]  \\\n",
       "0                                                  0                               \n",
       "1                                                  0                               \n",
       "2                                                  0                               \n",
       "3                                                  0                               \n",
       "4                                                  0                               \n",
       "\n",
       "   [98199, 98075, 98033, 98005]  \n",
       "0                             0  \n",
       "1                             0  \n",
       "2                             0  \n",
       "3                             0  \n",
       "4                             0  "
      ]
     },
     "execution_count": 111,
     "metadata": {},
     "output_type": "execute_result"
    }
   ],
   "source": [
    "kc_df.head()"
   ]
  },
  {
   "cell_type": "code",
   "execution_count": 4,
   "metadata": {},
   "outputs": [
    {
     "data": {
      "text/plain": [
       "Index(['Unnamed: 0', 'id', 'selldate', 'price', 'bedrooms', 'bathrooms',\n",
       "       'sqft_living', 'sqft_lot', 'floors', 'waterfront', 'view', 'condition',\n",
       "       'grade', 'sqft_above', 'sqft_basement', 'yr_built', 'yr_renovated',\n",
       "       'zipcode', 'lat', 'long', 'sqft_living15', 'sqft_lot15', 'yr_old',\n",
       "       'liv_lot_ratio', 'bed_bath', 'zipgroup', '[98001]', '[98002]',\n",
       "       '[98004]', '[98006]', '[98008, 98052, 98177]', '[98011, 98059, 98070]',\n",
       "       '[98014]', '[98028, 98125, 98166]', '[98032]', '[98034, 98065]',\n",
       "       '[98039]', '[98040]', '[98058, 98108]', '[98074]', '[98077, 98053]',\n",
       "       '[98092]', '[98102]', '[98105, 98119, 98109]',\n",
       "       '[98107, 98103, 98024, 98007, 98027, 98115, 98116, 98029, 98122, 98144]',\n",
       "       '[98112]', '[98118]', '[98133]', '[98136, 98072, 98117]',\n",
       "       '[98146, 98038]', '[98148]',\n",
       "       '[98155, 98056, 98010, 98126, 98019, 98045]', '[98168]',\n",
       "       '[98188, 98023, 98003, 98030, 98031, 98198, 98055, 98022, 98042, 98178, 98106]',\n",
       "       '[98199, 98075, 98033, 98005]'],\n",
       "      dtype='object')"
      ]
     },
     "execution_count": 4,
     "metadata": {},
     "output_type": "execute_result"
    }
   ],
   "source": [
    "kc_df.columns"
   ]
  },
  {
   "cell_type": "code",
   "execution_count": 5,
   "metadata": {},
   "outputs": [],
   "source": [
    "features = ['bedrooms', 'bathrooms',\n",
    "       'sqft_living', 'sqft_lot', 'floors', 'waterfront', 'view', 'condition',\n",
    "       'grade', 'sqft_above', 'yr_built', 'yr_old',\n",
    "       'sqft_living15', 'sqft_lot15',\n",
    "       'liv_lot_ratio','[98001]', '[98002]', '[98004]', '[98006]', '[98008, 98052, 98177]',\n",
    "       '[98011, 98059, 98070]', '[98014]', '[98028, 98125, 98166]', '[98032]',\n",
    "       '[98034, 98065]', '[98039]', '[98040]', '[98058, 98108]', '[98074]',\n",
    "       '[98077, 98053]', '[98092]', '[98102]', '[98105, 98119, 98109]',\n",
    "       '[98107, 98103, 98024, 98007, 98027, 98115, 98116, 98029, 98122, 98144]',\n",
    "       '[98112]', '[98118]', '[98133]', '[98136, 98072, 98117]',\n",
    "       '[98146, 98038]', '[98148]',\n",
    "       '[98155, 98056, 98010, 98126, 98019, 98045]', '[98168]',\n",
    "       '[98188, 98023, 98003, 98030, 98031, 98198, 98055, 98022, 98042, 98178, 98106]',\n",
    "       '[98199, 98075, 98033, 98005]']\n",
    "kc_df_features = kc_df[features]\n",
    "target = kc_df.price"
   ]
  },
  {
   "cell_type": "code",
   "execution_count": 6,
   "metadata": {},
   "outputs": [
    {
     "name": "stdout",
     "output_type": "stream",
     "text": [
      "Training set- Features:  (13832, 44) Target:  (13832,)\n",
      "Training set - Features:  (3458, 44) Target:  (3458,)\n"
     ]
    }
   ],
   "source": [
    "X_train, X_test, y_train, y_test = train_test_split(kc_df_features, target, random_state=34, test_size=0.2)\n",
    "#check the shape of the results\n",
    "print(\"Training set- Features: \", X_train.shape, \"Target: \", y_train.shape)\n",
    "print(\"Training set - Features: \", X_test.shape, \"Target: \",y_test.shape)"
   ]
  },
  {
   "cell_type": "code",
   "execution_count": 7,
   "metadata": {},
   "outputs": [
    {
     "name": "stdout",
     "output_type": "stream",
     "text": [
      "2890742.6541817477\n",
      "[ 3.94231103e+03  2.13255228e+04  1.28698958e+02  1.96563243e-01\n",
      " -2.43129573e+04  6.28267367e+05  5.82854730e+04  1.58531402e+04\n",
      "  6.89698482e+04  5.66198659e+01 -1.64401955e+03 -1.83016749e+02\n",
      " -1.66750772e+01 -2.71736860e-01  4.08539020e+03 -2.39775633e+05\n",
      " -2.24043107e+05  5.83866056e+05  2.96576288e+04 -1.83938866e+04\n",
      " -1.51733949e+05 -1.13866574e+05 -1.21156674e+05 -2.45609864e+05\n",
      " -7.48920884e+04  1.05935633e+06  2.80890400e+05 -1.90125609e+05\n",
      " -5.59913478e+04 -4.27038192e+04 -2.69324231e+05  2.69286081e+05\n",
      "  1.94550671e+05  2.15292712e+04  3.39411306e+05 -9.22257979e+04\n",
      " -9.17755039e+04  1.25058674e+03 -1.79065240e+05 -1.90282384e+05\n",
      " -1.20331591e+05 -1.86253874e+05 -2.29759000e+05  5.75118367e+04]\n"
     ]
    }
   ],
   "source": [
    "# fit a model only to training set\n",
    "#instantiate a linear regression object\n",
    "lm = LinearRegression()\n",
    "#fit the linear regression to the data\n",
    "lm = lm.fit(X_train, y_train)\n",
    "print(lm.intercept_)\n",
    "print(lm.coef_)"
   ]
  },
  {
   "cell_type": "code",
   "execution_count": 8,
   "metadata": {},
   "outputs": [
    {
     "name": "stdout",
     "output_type": "stream",
     "text": [
      "R^2 Score: 0.8984601234516726\n"
     ]
    }
   ],
   "source": [
    "print (\"R^2 Score:\", lm.score(X_train, y_train))"
   ]
  },
  {
   "cell_type": "code",
   "execution_count": 9,
   "metadata": {},
   "outputs": [
    {
     "data": {
      "text/plain": [
       "array([379589.99794073, 339004.71267529, 259553.40935984, ...,\n",
       "       403893.57512924, 847991.95991678, 220236.74461767])"
      ]
     },
     "execution_count": 9,
     "metadata": {},
     "output_type": "execute_result"
    }
   ],
   "source": [
    "y_train_pred = lm.predict(X_train) \n",
    "y_train_pred"
   ]
  },
  {
   "cell_type": "code",
   "execution_count": 10,
   "metadata": {},
   "outputs": [
    {
     "name": "stdout",
     "output_type": "stream",
     "text": [
      "Mean Absolute Error: 66056.9464683243\n",
      "Mean Squared Error: 14060032807.847347\n",
      "Root Mean Squared Error: 118575.00920450037\n"
     ]
    }
   ],
   "source": [
    "from sklearn import metrics\n",
    "\n",
    "train_mae = metrics.mean_absolute_error(y_train, y_train_pred)\n",
    "train_mse = metrics.mean_squared_error(y_train, y_train_pred)\n",
    "train_rmse = np.sqrt(metrics.mean_squared_error(y_train, y_train_pred))\n",
    "\n",
    "\n",
    "print('Mean Absolute Error:', train_mae )\n",
    "print('Mean Squared Error:',  train_mse)\n",
    "print('Root Mean Squared Error:' , train_rmse)"
   ]
  },
  {
   "cell_type": "code",
   "execution_count": 11,
   "metadata": {},
   "outputs": [
    {
     "name": "stdout",
     "output_type": "stream",
     "text": [
      "Z-Score of Mean Absolute Error: 0.17694505296685595\n",
      "Z-Score of Root Mean Squared Error: 0.3176238443642972\n"
     ]
    }
   ],
   "source": [
    "price_std = target.std()\n",
    "\n",
    "print('Z-Score of Mean Absolute Error:', train_mae/price_std )\n",
    "print('Z-Score of Root Mean Squared Error:' , train_rmse/price_std)"
   ]
  },
  {
   "cell_type": "code",
   "execution_count": 12,
   "metadata": {},
   "outputs": [],
   "source": [
    "y_pred = lm.predict(X_test)"
   ]
  },
  {
   "cell_type": "code",
   "execution_count": 13,
   "metadata": {},
   "outputs": [
    {
     "data": {
      "text/plain": [
       "Text(0, 0.5, 'Predictions')"
      ]
     },
     "execution_count": 13,
     "metadata": {},
     "output_type": "execute_result"
    },
    {
     "data": {
      "image/png": "[encoded data removed]",
      "text/plain": [
       "<Figure size 864x432 with 1 Axes>"
      ]
     },
     "metadata": {
      "needs_background": "light"
     },
     "output_type": "display_data"
    }
   ],
   "source": [
    "## The line / model\n",
    "plt.figure(figsize = (12,6))\n",
    "plt.scatter(y_test, y_pred)\n",
    "plt.xlabel(\"True Values\")\n",
    "plt.ylabel(\"Predictions\")"
   ]
  },
  {
   "cell_type": "code",
   "execution_count": 154,
   "metadata": {},
   "outputs": [
    {
     "data": {
      "text/plain": [
       "<matplotlib.axes._subplots.AxesSubplot at 0x1a1c242a50>"
      ]
     },
     "execution_count": 154,
     "metadata": {},
     "output_type": "execute_result"
    },
    {
     "data": {
      "image/png": "[encoded data removed]",
      "text/plain": [
       "<Figure size 1440x720 with 1 Axes>"
      ]
     },
     "metadata": {
      "needs_background": "light"
     },
     "output_type": "display_data"
    }
   ],
   "source": [
    "plt.figure(figsize=(20,10))\n",
    "sns.residplot(y_pred, y_test, lowess=True, color=\"g\")"
   ]
  },
  {
   "cell_type": "code",
   "execution_count": 14,
   "metadata": {},
   "outputs": [
    {
     "name": "stdout",
     "output_type": "stream",
     "text": [
      "Score: 0.8920594005867136\n"
     ]
    }
   ],
   "source": [
    "print (\"Score:\", lm.score(X_test, y_test))"
   ]
  },
  {
   "cell_type": "code",
   "execution_count": 15,
   "metadata": {},
   "outputs": [
    {
     "name": "stdout",
     "output_type": "stream",
     "text": [
      "Mean Absolute Error:67307.70250911615\n",
      "Mean Squared Error:15426686937.062618\n",
      "Root Mean Squared Error:124204.2146509635\n"
     ]
    }
   ],
   "source": [
    "test_mae = metrics.mean_absolute_error(y_test, y_pred)\n",
    "test_mse = metrics.mean_squared_error(y_test, y_pred)\n",
    "test_rmse = np.sqrt(metrics.mean_squared_error(y_test, y_pred))\n",
    "\n",
    "print('Mean Absolute Error:' + str(metrics.mean_absolute_error(y_test, y_pred)))\n",
    "print('Mean Squared Error:' + str(metrics.mean_squared_error(y_test, y_pred)))\n",
    "print('Root Mean Squared Error:' + str(np.sqrt(metrics.mean_squared_error(y_test, y_pred))))"
   ]
  },
  {
   "cell_type": "code",
   "execution_count": 16,
   "metadata": {},
   "outputs": [
    {
     "name": "stdout",
     "output_type": "stream",
     "text": [
      "Mean Absolute Error  Z: 0.1802954211827506\n",
      "Root Mean Squared Error Z: 0.33270265301560786\n"
     ]
    }
   ],
   "source": [
    "print('Mean Absolute Error  Z:', test_mae/price_std )\n",
    "print('Root Mean Squared Error Z:' , test_rmse/price_std)"
   ]
  },
  {
   "cell_type": "code",
   "execution_count": 17,
   "metadata": {},
   "outputs": [
    {
     "name": "stdout",
     "output_type": "stream",
     "text": [
      "Training:  118575 vs. Testing:  124204\n"
     ]
    }
   ],
   "source": [
    "print('Training: ', int(train_rmse), \"vs. Testing: \", int(test_rmse))"
   ]
  },
  {
   "cell_type": "markdown",
   "metadata": {},
   "source": [
    "## Try model with metro proximities and without lat/long"
   ]
  },
  {
   "cell_type": "code",
   "execution_count": 18,
   "metadata": {},
   "outputs": [
    {
     "data": {
      "text/plain": [
       "Index(['Unnamed: 0', 'id', 'selldate', 'price', 'bedrooms', 'bathrooms',\n",
       "       'sqft_living', 'sqft_lot', 'floors', 'waterfront', 'view', 'condition',\n",
       "       'grade', 'sqft_above', 'sqft_basement', 'yr_built', 'yr_renovated',\n",
       "       'zipcode', 'lat', 'long', 'sqft_living15', 'sqft_lot15', 'yr_old',\n",
       "       'liv_lot_ratio', 'price_sqft_liv', 'bed_bath', 'metro_prox', 'zipgroup',\n",
       "       '[98001]', '[98002]', '[98004]', '[98006]', '[98008, 98052, 98177]',\n",
       "       '[98011, 98059, 98070]', '[98014]', '[98028, 98125, 98166]', '[98032]',\n",
       "       '[98034, 98065]', '[98039]', '[98040]', '[98058, 98108]', '[98074]',\n",
       "       '[98077, 98053]', '[98092]', '[98102]', '[98105, 98119, 98109]',\n",
       "       '[98107, 98103, 98024, 98007, 98027, 98115, 98116, 98029, 98122, 98144]',\n",
       "       '[98112]', '[98118]', '[98133]', '[98136, 98072, 98117]',\n",
       "       '[98146, 98038]', '[98148]',\n",
       "       '[98155, 98056, 98010, 98126, 98019, 98045]', '[98168]',\n",
       "       '[98188, 98023, 98003, 98030, 98031, 98198, 98055, 98022, 98042, 98178, 98106]',\n",
       "       '[98199, 98075, 98033, 98005]'],\n",
       "      dtype='object')"
      ]
     },
     "execution_count": 18,
     "metadata": {},
     "output_type": "execute_result"
    }
   ],
   "source": [
    "kc_df.columns"
   ]
  },
  {
   "cell_type": "code",
   "execution_count": 19,
   "metadata": {},
   "outputs": [],
   "source": [
    "features = ['bedrooms', 'bathrooms',\n",
    "       'sqft_living', 'sqft_lot', 'floors', 'waterfront', 'view', 'condition',\n",
    "       'grade', 'sqft_above', 'yr_built', 'yr_old', 'sqft_living15', 'sqft_lot15',\n",
    "       'liv_lot_ratio', 'price_sqft_liv', 'metro_prox','[98001]', '[98002]', '[98004]', '[98006]', '[98008, 98052, 98177]',\n",
    "       '[98011, 98059, 98070]', '[98014]', '[98028, 98125, 98166]', '[98032]',\n",
    "       '[98034, 98065]', '[98039]', '[98040]', '[98058, 98108]', '[98074]',\n",
    "       '[98077, 98053]', '[98092]', '[98102]', '[98105, 98119, 98109]',\n",
    "       '[98107, 98103, 98024, 98007, 98027, 98115, 98116, 98029, 98122, 98144]',\n",
    "       '[98112]', '[98118]', '[98133]', '[98136, 98072, 98117]',\n",
    "       '[98146, 98038]', '[98148]',\n",
    "       '[98155, 98056, 98010, 98126, 98019, 98045]', '[98168]',\n",
    "       '[98188, 98023, 98003, 98030, 98031, 98198, 98055, 98022, 98042, 98178, 98106]',\n",
    "       '[98199, 98075, 98033, 98005]']\n",
    "kc_df_features = kc_df[features]\n",
    "target = kc_df.price"
   ]
  },
  {
   "cell_type": "code",
   "execution_count": 20,
   "metadata": {},
   "outputs": [
    {
     "data": {
      "text/plain": [
       "(Index(['bedrooms', 'bathrooms', 'sqft_living', 'sqft_lot', 'floors',\n",
       "        'waterfront', 'view', 'condition', 'grade', 'sqft_above', 'yr_built',\n",
       "        'yr_old', 'sqft_living15', 'sqft_lot15', 'liv_lot_ratio',\n",
       "        'price_sqft_liv', 'metro_prox', '[98001]', '[98002]', '[98004]',\n",
       "        '[98006]', '[98008, 98052, 98177]', '[98011, 98059, 98070]', '[98014]',\n",
       "        '[98028, 98125, 98166]', '[98032]', '[98034, 98065]', '[98039]',\n",
       "        '[98040]', '[98058, 98108]', '[98074]', '[98077, 98053]', '[98092]',\n",
       "        '[98102]', '[98105, 98119, 98109]',\n",
       "        '[98107, 98103, 98024, 98007, 98027, 98115, 98116, 98029, 98122, 98144]',\n",
       "        '[98112]', '[98118]', '[98133]', '[98136, 98072, 98117]',\n",
       "        '[98146, 98038]', '[98148]',\n",
       "        '[98155, 98056, 98010, 98126, 98019, 98045]', '[98168]',\n",
       "        '[98188, 98023, 98003, 98030, 98031, 98198, 98055, 98022, 98042, 98178, 98106]',\n",
       "        '[98199, 98075, 98033, 98005]'],\n",
       "       dtype='object'),\n",
       " 46)"
      ]
     },
     "execution_count": 20,
     "metadata": {},
     "output_type": "execute_result"
    }
   ],
   "source": [
    "kc_df_features.columns, len(kc_df_features.columns)"
   ]
  },
  {
   "cell_type": "code",
   "execution_count": 21,
   "metadata": {},
   "outputs": [
    {
     "name": "stdout",
     "output_type": "stream",
     "text": [
      "Training set - Features:  (13832, 46) Target:  (13832,)\n",
      "Training set - Features:  (3458, 46) Target:  (3458,)\n"
     ]
    }
   ],
   "source": [
    "X1_train, X1_test, y1_train, y1_test = train_test_split(kc_df_features, target, random_state=34, test_size=0.2)\n",
    "#check the shape of the results\n",
    "print(\"Training set - Features: \", X1_train.shape, \"Target: \", y1_train.shape)\n",
    "print(\"Training set - Features: \", X1_test.shape, \"Target: \",y1_test.shape)"
   ]
  },
  {
   "cell_type": "code",
   "execution_count": 22,
   "metadata": {},
   "outputs": [
    {
     "name": "stdout",
     "output_type": "stream",
     "text": [
      "-795.728421897511\n",
      "[ 8.74202759e+03  1.33204965e+04  2.73631864e+02 -8.37871672e-02\n",
      " -1.05646382e+04  2.87343615e+05  1.57467315e+04  7.13617331e+03\n",
      "  1.99948689e+04  1.08258891e+01 -3.38110499e+02 -1.93934315e+02\n",
      " -3.05649009e+01 -8.66171124e-02 -3.68906557e+03  1.89877893e+03\n",
      " -4.56100424e+02 -1.84587279e+04  1.32973907e+04  1.61506626e+05\n",
      " -2.10380942e+04 -3.64968251e+04 -6.45038547e+04 -2.06974981e+04\n",
      " -5.11579122e+04 -1.37785651e+04 -3.50868393e+04  4.51518137e+05\n",
      "  7.07414283e+04 -3.86754845e+04 -5.31270597e+04 -5.20567141e+04\n",
      " -5.34775481e+04  3.13113430e+04 -2.29636965e+04 -5.75392690e+04\n",
      "  5.51910780e+04 -4.05929489e+04 -3.06874379e+04 -6.89120737e+04\n",
      " -3.34878405e+04  8.78634560e+03 -3.87933145e+04  2.46980554e+04\n",
      " -2.90934691e+04 -3.64252314e+04]\n"
     ]
    }
   ],
   "source": [
    "# fit a model only to training set\n",
    "#instantiate a linear regression object\n",
    "lm1 = LinearRegression()\n",
    "#fit the linear regression to the data\n",
    "lm1 = lm1.fit(X1_train, y1_train)\n",
    "print(lm1.intercept_)\n",
    "print(lm1.coef_)\n",
    "\n"
   ]
  },
  {
   "cell_type": "code",
   "execution_count": 23,
   "metadata": {},
   "outputs": [
    {
     "name": "stdout",
     "output_type": "stream",
     "text": [
      "R^2 Score: 0.8984770734422796\n"
     ]
    }
   ],
   "source": [
    "print (\"R^2 Score:\", lm1.score(X1_train, y1_train))"
   ]
  },
  {
   "cell_type": "code",
   "execution_count": 24,
   "metadata": {},
   "outputs": [
    {
     "data": {
      "text/plain": [
       "array([379528.81300984, 337863.44849859, 260505.29197204, ...,\n",
       "       404085.67872445, 847122.3364394 , 221461.45136286])"
      ]
     },
     "execution_count": 24,
     "metadata": {},
     "output_type": "execute_result"
    }
   ],
   "source": [
    "y1_train_pred = lm1.predict(X1_train) \n",
    "y1_train_pred"
   ]
  },
  {
   "cell_type": "code",
   "execution_count": 25,
   "metadata": {},
   "outputs": [
    {
     "name": "stdout",
     "output_type": "stream",
     "text": [
      "Mean Absolute Error: 66063.4712184982\n",
      "Mean Squared Error: 14057685775.015236\n",
      "Root Mean Squared Error: 118565.11196391305\n"
     ]
    }
   ],
   "source": [
    "train_mae1 = metrics.mean_absolute_error(y1_train, y1_train_pred)\n",
    "train_mse1 = metrics.mean_squared_error(y1_train, y1_train_pred)\n",
    "train_rmse1 = np.sqrt(metrics.mean_squared_error(y1_train, y1_train_pred))\n",
    "\n",
    "\n",
    "print('Mean Absolute Error:', train_mae1 )\n",
    "print('Mean Squared Error:',  train_mse1)\n",
    "print('Root Mean Squared Error:' , train_rmse1)"
   ]
  },
  {
   "cell_type": "code",
   "execution_count": 26,
   "metadata": {},
   "outputs": [
    {
     "name": "stdout",
     "output_type": "stream",
     "text": [
      "Z-Score of Mean Absolute Error: 0.17696253064826334\n",
      "Z-Score of Root Mean Squared Error: 0.3175973328790776\n"
     ]
    }
   ],
   "source": [
    "price_std = target.std()\n",
    "\n",
    "print('Z-Score of Mean Absolute Error:', train_mae1/price_std )\n",
    "print('Z-Score of Root Mean Squared Error:' , train_rmse1/price_std)"
   ]
  },
  {
   "cell_type": "code",
   "execution_count": 27,
   "metadata": {},
   "outputs": [],
   "source": [
    "y1_pred = lm1.predict(X1_test)"
   ]
  },
  {
   "cell_type": "code",
   "execution_count": 28,
   "metadata": {},
   "outputs": [
    {
     "data": {
      "text/plain": [
       "Text(0, 0.5, 'Predictions')"
      ]
     },
     "execution_count": 28,
     "metadata": {},
     "output_type": "execute_result"
    },
    {
     "data": {
      "image/png": "[encoded data removed]",
      "text/plain": [
       "<Figure size 864x432 with 1 Axes>"
      ]
     },
     "metadata": {
      "needs_background": "light"
     },
     "output_type": "display_data"
    }
   ],
   "source": [
    "## The line / model\n",
    "plt.figure(figsize = (12,6))\n",
    "plt.scatter(y1_test, y1_pred)\n",
    "plt.xlabel(\"True Values\")\n",
    "plt.ylabel(\"Predictions\")"
   ]
  },
  {
   "cell_type": "code",
   "execution_count": 29,
   "metadata": {},
   "outputs": [
    {
     "data": {
      "text/plain": [
       "<matplotlib.axes._subplots.AxesSubplot at 0x1a1968b9d0>"
      ]
     },
     "execution_count": 29,
     "metadata": {},
     "output_type": "execute_result"
    },
    {
     "data": {
      "image/png": "[encoded data removed]",
      "text/plain": [
       "<Figure size 1440x720 with 1 Axes>"
      ]
     },
     "metadata": {
      "needs_background": "light"
     },
     "output_type": "display_data"
    }
   ],
   "source": [
    "plt.figure(figsize=(20,10))\n",
    "sns.residplot(y1_pred, y1_test, lowess=True, color=\"g\")"
   ]
  },
  {
   "cell_type": "code",
   "execution_count": 33,
   "metadata": {},
   "outputs": [
    {
     "name": "stdout",
     "output_type": "stream",
     "text": [
      "Score: 0.8920636507446248\n"
     ]
    }
   ],
   "source": [
    "print (\"Score:\", lm1.score(X1_test, y1_test))"
   ]
  },
  {
   "cell_type": "code",
   "execution_count": 8,
   "metadata": {},
   "outputs": [],
   "source": [
    "import pickle\n",
    "filename = './savedModels/final_kc_lrm_v1.sav'\n",
    "pickle.dump(lm, open(filename, 'wb'))"
   ]
  },
  {
   "cell_type": "markdown",
   "metadata": {},
   "source": [
    "### Try $2^{nd}$ order polynomial"
   ]
  },
  {
   "cell_type": "code",
   "execution_count": 180,
   "metadata": {},
   "outputs": [],
   "source": [
    "from sklearn.preprocessing import PolynomialFeatures\n",
    "\n",
    "poly = PolynomialFeatures(degree=3, include_bias=False)"
   ]
  },
  {
   "cell_type": "code",
   "execution_count": 181,
   "metadata": {},
   "outputs": [
    {
     "data": {
      "text/plain": [
       "array([[3.37073453e+00, 2.25000000e+00, 2.07000000e+03, ...,\n",
       "        0.00000000e+00, 0.00000000e+00, 0.00000000e+00],\n",
       "       [5.00000000e+00, 3.00000000e+00, 2.90000000e+03, ...,\n",
       "        0.00000000e+00, 0.00000000e+00, 0.00000000e+00],\n",
       "       [4.00000000e+00, 2.50000000e+00, 3.77000000e+03, ...,\n",
       "        0.00000000e+00, 0.00000000e+00, 0.00000000e+00],\n",
       "       ...,\n",
       "       [3.37073453e+00, 1.00000000e+00, 1.05000000e+03, ...,\n",
       "        0.00000000e+00, 0.00000000e+00, 0.00000000e+00],\n",
       "       [3.37073453e+00, 1.50000000e+00, 1.90000000e+03, ...,\n",
       "        0.00000000e+00, 0.00000000e+00, 0.00000000e+00],\n",
       "       [3.37073453e+00, 1.50000000e+00, 1.33000000e+03, ...,\n",
       "        0.00000000e+00, 0.00000000e+00, 0.00000000e+00]])"
      ]
     },
     "execution_count": 181,
     "metadata": {},
     "output_type": "execute_result"
    }
   ],
   "source": [
    "poly_data = poly.fit_transform(kc_df_features)\n",
    "poly_data"
   ]
  },
  {
   "cell_type": "code",
   "execution_count": 182,
   "metadata": {},
   "outputs": [
    {
     "data": {
      "text/plain": [
       "18423"
      ]
     },
     "execution_count": 182,
     "metadata": {},
     "output_type": "execute_result"
    }
   ],
   "source": [
    "poly_columns = poly.get_feature_names(kc_df_features.columns)\n",
    "len(poly_columns)"
   ]
  },
  {
   "cell_type": "code",
   "execution_count": 183,
   "metadata": {},
   "outputs": [],
   "source": [
    "df_kc_poly2 = pd.DataFrame(poly_data, columns=poly_columns) "
   ]
  },
  {
   "cell_type": "code",
   "execution_count": 184,
   "metadata": {},
   "outputs": [
    {
     "data": {
      "text/plain": [
       "(17290, 18423)"
      ]
     },
     "execution_count": 184,
     "metadata": {},
     "output_type": "execute_result"
    }
   ],
   "source": [
    "df_kc_poly2.shape"
   ]
  },
  {
   "cell_type": "code",
   "execution_count": null,
   "metadata": {},
   "outputs": [],
   "source": [
    "lm_poly2 = LinearRegression()\n",
    "\n",
    "#fit the linear regression to the data\n",
    "lm_poly2 = lm_poly2.fit(df_kc_poly2, target)\n",
    "\n",
    "#access output\n",
    "# print(lm_2.intercept_)\n",
    "# print(lm_2.coef_)\n",
    "print(\"R^2: \", lm_poly2.score(df_kc_poly2, target))"
   ]
  },
  {
   "cell_type": "code",
   "execution_count": null,
   "metadata": {},
   "outputs": [],
   "source": [
    "# R^2 of 1.0 = *ABJECT HORROR*"
   ]
  }
 ],
 "metadata": {
  "kernelspec": {
   "display_name": "Python 3",
   "language": "python",
   "name": "python3"
  },
  "language_info": {
   "codemirror_mode": {
    "name": "ipython",
    "version": 3
   },
   "file_extension": ".py",
   "mimetype": "text/x-python",
   "name": "python",
   "nbconvert_exporter": "python",
   "pygments_lexer": "ipython3",
   "version": "3.7.6"
  }
 },
 "nbformat": 4,
 "nbformat_minor": 4
}
